{
 "cells": [
  {
   "cell_type": "markdown",
   "id": "7cf5dc79",
   "metadata": {},
   "source": [
    "## Individual Assignment 2 ##\n",
    "### S2197634 ###"
   ]
  },
  {
   "cell_type": "code",
   "execution_count": 2,
   "id": "85f181f9",
   "metadata": {},
   "outputs": [],
   "source": [
    "import numpy as np\n",
    "import pandas as pd"
   ]
  },
  {
   "cell_type": "markdown",
   "id": "6b6536cd",
   "metadata": {},
   "source": [
    "### Task 1"
   ]
  },
  {
   "cell_type": "code",
   "execution_count": 3,
   "id": "8305bb1a",
   "metadata": {},
   "outputs": [
    {
     "name": "stdout",
     "output_type": "stream",
     "text": [
      "   Unnamed: 0                                        review_text  \\\n",
      "0           0                                         Great app!   \n",
      "1           1                                         Super like   \n",
      "2           2  This app makes it easy to find a cab. Drivers ...   \n",
      "3           3                                  Great experience!   \n",
      "4           4                             Very convenient. Cool.   \n",
      "\n",
      "   review_rating              author_id    author_name author_app_version  \\\n",
      "0              5                    NaN  A Google user                NaN   \n",
      "1              5  115115*********328635  A Google user               v2.0   \n",
      "2              5  106986*********228101  A Google user               v2.0   \n",
      "3              5  101636*********375392  A Google user               v2.0   \n",
      "4              5  115165*********970835  A Google user               v2.0   \n",
      "\n",
      "        review_datetime_utc  review_likes  \n",
      "0  2013-05-31T16:03:05.000Z             1  \n",
      "1  2013-06-09T03:37:35.000Z             1  \n",
      "2  2013-06-12T11:58:10.000Z             2  \n",
      "3  2013-06-16T17:55:07.000Z             1  \n",
      "4  2013-06-26T23:24:03.000Z             1  \n",
      "(441620, 8)\n",
      "Unnamed: 0              int64\n",
      "review_text            object\n",
      "review_rating           int64\n",
      "author_id              object\n",
      "author_name            object\n",
      "author_app_version     object\n",
      "review_datetime_utc    object\n",
      "review_likes            int64\n",
      "dtype: object\n",
      "Unnamed: 0             False\n",
      "review_text             True\n",
      "review_rating          False\n",
      "author_id               True\n",
      "author_name            False\n",
      "author_app_version      True\n",
      "review_datetime_utc    False\n",
      "review_likes           False\n",
      "dtype: bool\n"
     ]
    }
   ],
   "source": [
    "GRAB_REVIEWS = pd.DataFrame(pd.read_csv('GRAB_REVIEWS.csv'))\n",
    "\n",
    "#frist 5 rows\n",
    "print(GRAB_REVIEWS.head(5))\n",
    "\n",
    "#print number of rows and columns\n",
    "print(GRAB_REVIEWS.shape)\n",
    "\n",
    "#identify diff columns n data types\n",
    "print(GRAB_REVIEWS.dtypes)\n",
    "\n",
    "#missing values each column\n",
    "print(GRAB_REVIEWS.isna().any())"
   ]
  },
  {
   "cell_type": "markdown",
   "id": "dc93ce93",
   "metadata": {},
   "source": [
    "### Task 2"
   ]
  },
  {
   "cell_type": "code",
   "execution_count": 4,
   "id": "dce8d3c9",
   "metadata": {},
   "outputs": [
    {
     "name": "stdout",
     "output_type": "stream",
     "text": [
      "Requirement already satisfied: nltk in c:\\users\\khaira nafisa\\appdata\\local\\programs\\python\\python310\\lib\\site-packages (3.9.1)\n",
      "Requirement already satisfied: click in c:\\users\\khaira nafisa\\appdata\\local\\programs\\python\\python310\\lib\\site-packages (from nltk) (8.2.0)\n",
      "Requirement already satisfied: joblib in c:\\users\\khaira nafisa\\appdata\\local\\programs\\python\\python310\\lib\\site-packages (from nltk) (1.4.2)\n",
      "Requirement already satisfied: tqdm in c:\\users\\khaira nafisa\\appdata\\local\\programs\\python\\python310\\lib\\site-packages (from nltk) (4.67.1)\n",
      "Requirement already satisfied: regex>=2021.8.3 in c:\\users\\khaira nafisa\\appdata\\local\\programs\\python\\python310\\lib\\site-packages (from nltk) (2024.11.6)\n",
      "Requirement already satisfied: colorama in c:\\users\\khaira nafisa\\appdata\\roaming\\python\\python310\\site-packages (from click->nltk) (0.4.6)\n",
      "Note: you may need to restart the kernel to use updated packages.\n"
     ]
    },
    {
     "name": "stderr",
     "output_type": "stream",
     "text": [
      "\n",
      "[notice] A new release of pip is available: 23.0.1 -> 25.1.1\n",
      "[notice] To update, run: python.exe -m pip install --upgrade pip\n"
     ]
    }
   ],
   "source": [
    "%pip install nltk"
   ]
  },
  {
   "cell_type": "code",
   "execution_count": 5,
   "id": "becda28a",
   "metadata": {},
   "outputs": [
    {
     "name": "stderr",
     "output_type": "stream",
     "text": [
      "[nltk_data] Downloading package stopwords to C:\\Users\\Khaira\n",
      "[nltk_data]     Nafisa\\AppData\\Roaming\\nltk_data...\n",
      "[nltk_data]   Package stopwords is already up-to-date!\n",
      "[nltk_data] Downloading package punkt to C:\\Users\\Khaira\n",
      "[nltk_data]     Nafisa\\AppData\\Roaming\\nltk_data...\n",
      "[nltk_data]   Package punkt is already up-to-date!\n"
     ]
    }
   ],
   "source": [
    "import nltk\n",
    "import string\n",
    "import re\n",
    "from nltk.corpus import stopwords\n",
    "from nltk.stem import PorterStemmer\n",
    "nltk.download('stopwords')\n",
    "nltk.download('punkt')\n",
    "\n",
    "stemmer = PorterStemmer()\n",
    "\n",
    "stop_words = set(stopwords.words('english'))\n",
    "\n",
    "# Create a copy of the DataFrame for task 2\n",
    "task2_GRAB_REVIEWS = GRAB_REVIEWS.copy()[['review_rating', 'review_text']]"
   ]
  },
  {
   "cell_type": "code",
   "execution_count": 6,
   "id": "649884fc",
   "metadata": {},
   "outputs": [],
   "source": [
    "#new col : sentiment\n",
    "task2_GRAB_REVIEWS['sentiment'] = task2_GRAB_REVIEWS['review_rating'].apply(\n",
    "    lambda x: 'positive' if x >= 4 else ('negative' if x <= 2 else 'neutral')\n",
    ")"
   ]
  },
  {
   "cell_type": "code",
   "execution_count": 7,
   "id": "951ff066",
   "metadata": {},
   "outputs": [],
   "source": [
    "# Text cleaning function\n",
    "def clean_text(text):\n",
    "    if pd.isna(text):\n",
    "        return \"\"\n",
    "    \n",
    "    text = text.lower() # Convert to lowercase\n",
    "    text = text.translate(str.maketrans('', '', string.punctuation)) # Remove punctuation\n",
    "    tokens = text.split() # Tokenize\n",
    "    cleaned_tokens = [stemmer.stem(word) for word in tokens if word not in stop_words] # Remove stop words and apply stemming\n",
    "    return ' '.join(cleaned_tokens) # Join tokens back into a string"
   ]
  },
  {
   "cell_type": "code",
   "execution_count": 8,
   "id": "6410c2c8",
   "metadata": {},
   "outputs": [],
   "source": [
    "task2_GRAB_REVIEWS['cleaned_review_text'] = task2_GRAB_REVIEWS['review_text'].apply(clean_text)"
   ]
  },
  {
   "cell_type": "code",
   "execution_count": 9,
   "id": "52b13ab1",
   "metadata": {},
   "outputs": [
    {
     "name": "stdout",
     "output_type": "stream",
     "text": [
      "   review_rating                                        review_text sentiment  \\\n",
      "0              5                                         Great app!  positive   \n",
      "1              5                                         Super like  positive   \n",
      "2              5  This app makes it easy to find a cab. Drivers ...  positive   \n",
      "3              5                                  Great experience!  positive   \n",
      "4              5                             Very convenient. Cool.  positive   \n",
      "\n",
      "                                 cleaned_review_text  \n",
      "0                                          great app  \n",
      "1                                         super like  \n",
      "2  app make easi find cab driver respect even ema...  \n",
      "3                                       great experi  \n",
      "4                                       conveni cool  \n",
      "\n",
      "Summary:\n",
      "<class 'pandas.core.frame.DataFrame'>\n",
      "RangeIndex: 441620 entries, 0 to 441619\n",
      "Data columns (total 4 columns):\n",
      " #   Column               Non-Null Count   Dtype \n",
      "---  ------               --------------   ----- \n",
      " 0   review_rating        441620 non-null  int64 \n",
      " 1   review_text          441468 non-null  object\n",
      " 2   sentiment            441620 non-null  object\n",
      " 3   cleaned_review_text  441620 non-null  object\n",
      "dtypes: int64(1), object(3)\n",
      "memory usage: 13.5+ MB\n"
     ]
    }
   ],
   "source": [
    "print(task2_GRAB_REVIEWS.head())\n",
    "print(\"\\nSummary:\")\n",
    "task2_GRAB_REVIEWS.info()"
   ]
  },
  {
   "cell_type": "markdown",
   "id": "c701f64c",
   "metadata": {},
   "source": [
    "Using stemming rather than lemmatization because:\n",
    "1. It's computationally faster for this large dataset (400k++ reviews)\n",
    "2. While stemming is less precise linguistically, it's sufficient for sentiment analysis\n",
    "3. We're more interested in identifying patterns than preserving exact meanings"
   ]
  },
  {
   "cell_type": "markdown",
   "id": "1c68af47",
   "metadata": {},
   "source": [
    "### Task 3"
   ]
  },
  {
   "cell_type": "code",
   "execution_count": 10,
   "id": "2abb39cd",
   "metadata": {},
   "outputs": [
    {
     "name": "stderr",
     "output_type": "stream",
     "text": [
      "\n",
      "[notice] A new release of pip is available: 23.0.1 -> 25.1.1\n",
      "[notice] To update, run: python.exe -m pip install --upgrade pip\n"
     ]
    },
    {
     "name": "stdout",
     "output_type": "stream",
     "text": [
      "Requirement already satisfied: seaborn in c:\\users\\khaira nafisa\\appdata\\local\\programs\\python\\python310\\lib\\site-packages (0.13.2)\n",
      "Requirement already satisfied: matplotlib!=3.6.1,>=3.4 in c:\\users\\khaira nafisa\\appdata\\local\\programs\\python\\python310\\lib\\site-packages (from seaborn) (3.10.1)\n",
      "Requirement already satisfied: pandas>=1.2 in c:\\users\\khaira nafisa\\appdata\\local\\programs\\python\\python310\\lib\\site-packages (from seaborn) (2.2.3)\n",
      "Requirement already satisfied: numpy!=1.24.0,>=1.20 in c:\\users\\khaira nafisa\\appdata\\local\\programs\\python\\python310\\lib\\site-packages (from seaborn) (1.26.4)\n",
      "Requirement already satisfied: pyparsing>=2.3.1 in c:\\users\\khaira nafisa\\appdata\\local\\programs\\python\\python310\\lib\\site-packages (from matplotlib!=3.6.1,>=3.4->seaborn) (3.2.3)\n",
      "Requirement already satisfied: fonttools>=4.22.0 in c:\\users\\khaira nafisa\\appdata\\local\\programs\\python\\python310\\lib\\site-packages (from matplotlib!=3.6.1,>=3.4->seaborn) (4.57.0)\n",
      "Requirement already satisfied: python-dateutil>=2.7 in c:\\users\\khaira nafisa\\appdata\\roaming\\python\\python310\\site-packages (from matplotlib!=3.6.1,>=3.4->seaborn) (2.9.0.post0)\n",
      "Requirement already satisfied: kiwisolver>=1.3.1 in c:\\users\\khaira nafisa\\appdata\\local\\programs\\python\\python310\\lib\\site-packages (from matplotlib!=3.6.1,>=3.4->seaborn) (1.4.8)\n",
      "Requirement already satisfied: cycler>=0.10 in c:\\users\\khaira nafisa\\appdata\\local\\programs\\python\\python310\\lib\\site-packages (from matplotlib!=3.6.1,>=3.4->seaborn) (0.12.1)\n",
      "Requirement already satisfied: pillow>=8 in c:\\users\\khaira nafisa\\appdata\\local\\programs\\python\\python310\\lib\\site-packages (from matplotlib!=3.6.1,>=3.4->seaborn) (11.2.1)\n",
      "Requirement already satisfied: contourpy>=1.0.1 in c:\\users\\khaira nafisa\\appdata\\local\\programs\\python\\python310\\lib\\site-packages (from matplotlib!=3.6.1,>=3.4->seaborn) (1.3.2)\n",
      "Requirement already satisfied: packaging>=20.0 in c:\\users\\khaira nafisa\\appdata\\roaming\\python\\python310\\site-packages (from matplotlib!=3.6.1,>=3.4->seaborn) (25.0)\n",
      "Requirement already satisfied: tzdata>=2022.7 in c:\\users\\khaira nafisa\\appdata\\local\\programs\\python\\python310\\lib\\site-packages (from pandas>=1.2->seaborn) (2025.2)\n",
      "Requirement already satisfied: pytz>=2020.1 in c:\\users\\khaira nafisa\\appdata\\local\\programs\\python\\python310\\lib\\site-packages (from pandas>=1.2->seaborn) (2025.2)\n",
      "Requirement already satisfied: six>=1.5 in c:\\users\\khaira nafisa\\appdata\\roaming\\python\\python310\\site-packages (from python-dateutil>=2.7->matplotlib!=3.6.1,>=3.4->seaborn) (1.17.0)\n",
      "Note: you may need to restart the kernel to use updated packages.\n"
     ]
    }
   ],
   "source": [
    "%pip install seaborn\n",
    "import seaborn as sns"
   ]
  },
  {
   "cell_type": "code",
   "execution_count": 11,
   "id": "59a6915f",
   "metadata": {},
   "outputs": [],
   "source": [
    "from sklearn.model_selection import train_test_split\n",
    "from sklearn.feature_extraction.text import TfidfVectorizer\n",
    "from sklearn.naive_bayes import MultinomialNB\n",
    "from sklearn.metrics import classification_report, accuracy_score, confusion_matrix\n",
    "\n",
    "#split data, training and testing\n",
    "X = task2_GRAB_REVIEWS['cleaned_review_text']\n",
    "y = task2_GRAB_REVIEWS['sentiment']\n",
    "\n",
    "X_train, X_test, y_train, y_test = train_test_split(X, y, test_size=0.2, random_state=42, stratify=y)"
   ]
  },
  {
   "cell_type": "markdown",
   "id": "82a1cdb1",
   "metadata": {},
   "source": [
    "Convert text to numerical features using TF-IDF\n",
    "TF-IDF is preferred over Count Vectorizer because:\n",
    "1. It downweights common words that appear in many documents\n",
    "2. It gives more importance to distinctive words that help differentiate sentiments\n",
    "3. It's more effective for sentiment analysis as it captures word importance"
   ]
  },
  {
   "cell_type": "code",
   "execution_count": 12,
   "id": "c46b2055",
   "metadata": {},
   "outputs": [],
   "source": [
    "import matplotlib.pyplot as plt\n",
    "tfidf_vectorizer = TfidfVectorizer(max_features=5000)  # Limiting features to prevent overfitting\n",
    "X_train_tfidf = tfidf_vectorizer.fit_transform(X_train)\n",
    "X_test_tfidf = tfidf_vectorizer.transform(X_test)"
   ]
  },
  {
   "cell_type": "code",
   "execution_count": 13,
   "id": "16c25ed5",
   "metadata": {},
   "outputs": [
    {
     "name": "stdout",
     "output_type": "stream",
     "text": [
      "Model Evaluation:\n",
      "Accuracy: 0.8710\n",
      "\n",
      "Classification Report:\n",
      "              precision    recall  f1-score   support\n",
      "\n",
      "    negative       0.72      0.87      0.79     20587\n",
      "     neutral       0.23      0.01      0.01      4328\n",
      "    positive       0.93      0.93      0.93     63409\n",
      "\n",
      "    accuracy                           0.87     88324\n",
      "   macro avg       0.63      0.60      0.58     88324\n",
      "weighted avg       0.85      0.87      0.85     88324\n",
      "\n"
     ]
    }
   ],
   "source": [
    "# Train a Multinomial Naive Bayes classifier (suitable for text classification)\n",
    "nb_classifier = MultinomialNB()\n",
    "nb_classifier.fit(X_train_tfidf, y_train)\n",
    "\n",
    "# Make predictions\n",
    "y_pred = nb_classifier.predict(X_test_tfidf)\n",
    "\n",
    "# Evaluate the model\n",
    "print(\"Model Evaluation:\")\n",
    "print(f\"Accuracy: {accuracy_score(y_test, y_pred):.4f}\")\n",
    "print(\"\\nClassification Report:\")\n",
    "print(classification_report(y_test, y_pred))\n"
   ]
  },
  {
   "cell_type": "code",
   "execution_count": 14,
   "id": "a6ea5684",
   "metadata": {},
   "outputs": [
    {
     "data": {
      "image/png": "[encoded data removed]",
      "text/plain": [
       "<Figure size 800x600 with 2 Axes>"
      ]
     },
     "metadata": {},
     "output_type": "display_data"
    }
   ],
   "source": [
    "# Create confusion matrix\n",
    "conf_matrix = confusion_matrix(y_test, y_pred)\n",
    "plt.figure(figsize=(8, 6))\n",
    "sns.heatmap(conf_matrix, annot=True, fmt='d', cmap='Blues', \n",
    "            xticklabels=nb_classifier.classes_, \n",
    "            yticklabels=nb_classifier.classes_)\n",
    "plt.xlabel('Predicted')\n",
    "plt.ylabel('Actual')\n",
    "plt.title('Confusion Matrix')\n",
    "plt.show()"
   ]
  },
  {
   "cell_type": "markdown",
   "id": "e71f3b58",
   "metadata": {},
   "source": [
    "### Task 4"
   ]
  },
  {
   "cell_type": "code",
   "execution_count": 15,
   "id": "73af9fc8",
   "metadata": {},
   "outputs": [
    {
     "name": "stdout",
     "output_type": "stream",
     "text": [
      "Requirement already satisfied: gensim in c:\\users\\khaira nafisa\\appdata\\local\\programs\\python\\python310\\lib\\site-packages (4.3.3)\n",
      "Requirement already satisfied: pyLDAvis in c:\\users\\khaira nafisa\\appdata\\local\\programs\\python\\python310\\lib\\site-packages (3.4.1)\n",
      "Requirement already satisfied: numpy<2.0,>=1.18.5 in c:\\users\\khaira nafisa\\appdata\\local\\programs\\python\\python310\\lib\\site-packages (from gensim) (1.26.4)\n",
      "Requirement already satisfied: smart-open>=1.8.1 in c:\\users\\khaira nafisa\\appdata\\local\\programs\\python\\python310\\lib\\site-packages (from gensim) (7.1.0)\n",
      "Requirement already satisfied: scipy<1.14.0,>=1.7.0 in c:\\users\\khaira nafisa\\appdata\\local\\programs\\python\\python310\\lib\\site-packages (from gensim) (1.13.1)\n",
      "Requirement already satisfied: setuptools in c:\\users\\khaira nafisa\\appdata\\local\\programs\\python\\python310\\lib\\site-packages (from pyLDAvis) (65.5.0)\n",
      "Requirement already satisfied: scikit-learn>=1.0.0 in c:\\users\\khaira nafisa\\appdata\\local\\programs\\python\\python310\\lib\\site-packages (from pyLDAvis) (1.6.1)\n",
      "Requirement already satisfied: numexpr in c:\\users\\khaira nafisa\\appdata\\local\\programs\\python\\python310\\lib\\site-packages (from pyLDAvis) (2.10.2)\n",
      "Requirement already satisfied: pandas>=2.0.0 in c:\\users\\khaira nafisa\\appdata\\local\\programs\\python\\python310\\lib\\site-packages (from pyLDAvis) (2.2.3)\n",
      "Requirement already satisfied: joblib>=1.2.0 in c:\\users\\khaira nafisa\\appdata\\local\\programs\\python\\python310\\lib\\site-packages (from pyLDAvis) (1.4.2)\n",
      "Requirement already satisfied: jinja2 in c:\\users\\khaira nafisa\\appdata\\local\\programs\\python\\python310\\lib\\site-packages (from pyLDAvis) (3.1.6)\n",
      "Requirement already satisfied: funcy in c:\\users\\khaira nafisa\\appdata\\local\\programs\\python\\python310\\lib\\site-packages (from pyLDAvis) (2.0)\n",
      "Requirement already satisfied: tzdata>=2022.7 in c:\\users\\khaira nafisa\\appdata\\local\\programs\\python\\python310\\lib\\site-packages (from pandas>=2.0.0->pyLDAvis) (2025.2)\n",
      "Requirement already satisfied: pytz>=2020.1 in c:\\users\\khaira nafisa\\appdata\\local\\programs\\python\\python310\\lib\\site-packages (from pandas>=2.0.0->pyLDAvis) (2025.2)\n",
      "Requirement already satisfied: python-dateutil>=2.8.2 in c:\\users\\khaira nafisa\\appdata\\roaming\\python\\python310\\site-packages (from pandas>=2.0.0->pyLDAvis) (2.9.0.post0)\n",
      "Requirement already satisfied: threadpoolctl>=3.1.0 in c:\\users\\khaira nafisa\\appdata\\local\\programs\\python\\python310\\lib\\site-packages (from scikit-learn>=1.0.0->pyLDAvis) (3.6.0)\n",
      "Requirement already satisfied: wrapt in c:\\users\\khaira nafisa\\appdata\\local\\programs\\python\\python310\\lib\\site-packages (from smart-open>=1.8.1->gensim) (1.17.2)\n",
      "Requirement already satisfied: MarkupSafe>=2.0 in c:\\users\\khaira nafisa\\appdata\\local\\programs\\python\\python310\\lib\\site-packages (from jinja2->pyLDAvis) (3.0.2)\n",
      "Requirement already satisfied: six>=1.5 in c:\\users\\khaira nafisa\\appdata\\roaming\\python\\python310\\site-packages (from python-dateutil>=2.8.2->pandas>=2.0.0->pyLDAvis) (1.17.0)\n",
      "Note: you may need to restart the kernel to use updated packages.\n"
     ]
    },
    {
     "name": "stderr",
     "output_type": "stream",
     "text": [
      "\n",
      "[notice] A new release of pip is available: 23.0.1 -> 25.1.1\n",
      "[notice] To update, run: python.exe -m pip install --upgrade pip\n"
     ]
    }
   ],
   "source": [
    "%pip install gensim pyLDAvis"
   ]
  },
  {
   "cell_type": "code",
   "execution_count": 16,
   "id": "b76be6e9",
   "metadata": {},
   "outputs": [],
   "source": [
    "import gensim\n",
    "from gensim import corpora\n",
    "from gensim.models import LdaModel\n",
    "import pyLDAvis.gensim_models"
   ]
  },
  {
   "cell_type": "code",
   "execution_count": 17,
   "id": "f7a0f845",
   "metadata": {},
   "outputs": [
    {
     "name": "stdout",
     "output_type": "stream",
     "text": [
      "Number of positive reviews: 317047\n",
      "Number of negative reviews: 102933\n",
      "Number of neutral reviews: 21640\n"
     ]
    }
   ],
   "source": [
    "positive_reviews = task2_GRAB_REVIEWS[task2_GRAB_REVIEWS['sentiment'] == 'positive']['cleaned_review_text']\n",
    "negative_reviews = task2_GRAB_REVIEWS[task2_GRAB_REVIEWS['sentiment'] == 'negative']['cleaned_review_text']\n",
    "neutral_reviews = task2_GRAB_REVIEWS[task2_GRAB_REVIEWS['sentiment'] == 'neutral']['cleaned_review_text']\n",
    "\n",
    "print(f\"Number of positive reviews: {len(positive_reviews)}\")\n",
    "print(f\"Number of negative reviews: {len(negative_reviews)}\")\n",
    "print(f\"Number of neutral reviews: {len(neutral_reviews)}\")\n"
   ]
  },
  {
   "cell_type": "code",
   "execution_count": 23,
   "id": "71ab5b58",
   "metadata": {},
   "outputs": [],
   "source": [
    "def perform_topic_modeling(texts, num_topics=5):\n",
    "    # Tokenize\n",
    "    tokenized_texts = [text.split() for text in texts if isinstance(text, str) and len(text) > 0]\n",
    "    \n",
    "    # Create dictionary\n",
    "    dictionary = corpora.Dictionary(tokenized_texts)\n",
    "    dictionary.filter_extremes(no_below=15, no_above=0.5)\n",
    "    \n",
    "    # Create document-term matrix\n",
    "    corpus = [dictionary.doc2bow(text) for text in tokenized_texts]\n",
    "    \n",
    "    # Train LDA model\n",
    "    lda_model = LdaModel(\n",
    "        corpus=corpus,\n",
    "        id2word=dictionary,\n",
    "        num_topics=num_topics,\n",
    "        random_state=42,\n",
    "        passes=10\n",
    "    )\n",
    "    \n",
    "    # Get top topics\n",
    "    topics = lda_model.print_topics(num_words=10)\n",
    "    \n",
    "    return lda_model, corpus, dictionary, topics\n"
   ]
  },
  {
   "cell_type": "code",
   "execution_count": 26,
   "id": "40cfbb4c",
   "metadata": {},
   "outputs": [
    {
     "name": "stdout",
     "output_type": "stream",
     "text": [
      "\n",
      "--- POSITIVE REVIEWS TOPICS ---\n",
      "Topic 0: 0.041*\"driver\" + 0.028*\"deliveri\" + 0.024*\"time\" + 0.022*\"grab\" + 0.015*\"order\" + 0.010*\"rider\" + 0.010*\"app\" + 0.009*\"po\" + 0.007*\"book\" + 0.007*\"ang\"\n",
      "Topic 1: 0.124*\"nice\" + 0.023*\"dan\" + 0.021*\"grab\" + 0.018*\"terbaik\" + 0.015*\"sangat\" + 0.014*\"driver\" + 0.014*\"di\" + 0.012*\"saya\" + 0.011*\"yg\" + 0.010*\"bagu\"\n",
      "Topic 2: 0.066*\"grab\" + 0.058*\"thank\" + 0.058*\"help\" + 0.052*\"app\" + 0.049*\"food\" + 0.038*\"driver\" + 0.036*\"best\" + 0.026*\"love\" + 0.020*\"ride\" + 0.019*\"car\"\n",
      "Topic 3: 0.434*\"good\" + 0.138*\"servic\" + 0.088*\"great\" + 0.084*\"app\" + 0.053*\"excel\" + 0.053*\"ok\" + 0.025*\"👍\" + 0.017*\"job\" + 0.010*\"far\" + 0.009*\"amaz\"\n",
      "Topic 4: 0.135*\"use\" + 0.081*\"easi\" + 0.071*\"fast\" + 0.065*\"friendli\" + 0.055*\"app\" + 0.052*\"conveni\" + 0.032*\"safe\" + 0.025*\"awesom\" + 0.022*\"like\" + 0.020*\"super\"\n"
     ]
    }
   ],
   "source": [
    "# Perform topic modeling for each sentiment\n",
    "print(\"\\n--- POSITIVE REVIEWS TOPICS ---\")\n",
    "pos_lda_model, pos_corpus, pos_dictionary, pos_topics = perform_topic_modeling(positive_reviews)\n",
    "for topic in pos_topics:\n",
    "    print(f\"Topic {topic[0]}: {topic[1]}\")"
   ]
  },
  {
   "cell_type": "code",
   "execution_count": 27,
   "id": "ff8211ff",
   "metadata": {},
   "outputs": [
    {
     "name": "stdout",
     "output_type": "stream",
     "text": [
      "\n",
      "--- NEGATIVE REVIEWS TOPICS ---\n",
      "Topic 0: 0.035*\"driver\" + 0.029*\"grab\" + 0.021*\"cancel\" + 0.017*\"time\" + 0.015*\"servic\" + 0.015*\"custom\" + 0.014*\"get\" + 0.013*\"book\" + 0.013*\"wait\" + 0.013*\"deliveri\"\n",
      "Topic 1: 0.101*\"order\" + 0.094*\"food\" + 0.043*\"app\" + 0.042*\"locat\" + 0.041*\"bad\" + 0.023*\"address\" + 0.021*\"map\" + 0.020*\"expens\" + 0.018*\"good\" + 0.017*\"place\"\n",
      "Topic 2: 0.051*\"app\" + 0.034*\"use\" + 0.031*\"cant\" + 0.020*\"updat\" + 0.020*\"grab\" + 0.014*\"tri\" + 0.013*\"payment\" + 0.013*\"card\" + 0.013*\"even\" + 0.012*\"cannot\"\n",
      "Topic 3: 0.050*\"account\" + 0.041*\"na\" + 0.036*\"ng\" + 0.033*\"sa\" + 0.022*\"ang\" + 0.022*\"ko\" + 0.016*\"log\" + 0.016*\"pa\" + 0.016*\"suspend\" + 0.016*\"verifi\"\n",
      "Topic 4: 0.020*\"grab\" + 0.017*\"saya\" + 0.016*\"di\" + 0.015*\"driver\" + 0.014*\"tidak\" + 0.013*\"bisa\" + 0.011*\"ga\" + 0.010*\"ada\" + 0.010*\"dan\" + 0.010*\"yg\"\n"
     ]
    }
   ],
   "source": [
    "print(\"\\n--- NEGATIVE REVIEWS TOPICS ---\")\n",
    "neg_lda_model, neg_corpus, neg_dictionary, neg_topics = perform_topic_modeling(negative_reviews)\n",
    "for topic in neg_topics:\n",
    "    print(f\"Topic {topic[0]}: {topic[1]}\")"
   ]
  },
  {
   "cell_type": "code",
   "execution_count": 28,
   "id": "b6a97546",
   "metadata": {},
   "outputs": [
    {
     "name": "stdout",
     "output_type": "stream",
     "text": [
      "\n",
      "--- NEUTRAL REVIEWS TOPICS ---\n",
      "Topic 0: 0.026*\"di\" + 0.024*\"saya\" + 0.021*\"grab\" + 0.021*\"bisa\" + 0.021*\"driver\" + 0.017*\"dan\" + 0.017*\"tidak\" + 0.015*\"yg\" + 0.014*\"ada\" + 0.012*\"ga\"\n",
      "Topic 1: 0.056*\"app\" + 0.030*\"locat\" + 0.026*\"updat\" + 0.020*\"cant\" + 0.019*\"pleas\" + 0.017*\"use\" + 0.016*\"grab\" + 0.016*\"map\" + 0.015*\"fix\" + 0.013*\"address\"\n",
      "Topic 2: 0.053*\"driver\" + 0.032*\"grab\" + 0.027*\"order\" + 0.025*\"time\" + 0.022*\"food\" + 0.019*\"book\" + 0.016*\"cancel\" + 0.015*\"get\" + 0.015*\"deliveri\" + 0.012*\"car\"\n",
      "Topic 3: 0.069*\"good\" + 0.047*\"use\" + 0.031*\"grab\" + 0.024*\"pay\" + 0.022*\"payment\" + 0.022*\"app\" + 0.019*\"card\" + 0.018*\"expens\" + 0.018*\"servic\" + 0.015*\"promo\"\n",
      "Topic 4: 0.065*\"ok\" + 0.034*\"na\" + 0.033*\"nice\" + 0.026*\"ng\" + 0.024*\"sa\" + 0.024*\"ang\" + 0.021*\"ko\" + 0.018*\"grab\" + 0.018*\"yung\" + 0.017*\"topup\"\n"
     ]
    }
   ],
   "source": [
    "print(\"\\n--- NEUTRAL REVIEWS TOPICS ---\")\n",
    "neu_lda_model, neu_corpus, neu_dictionary, neu_topics = perform_topic_modeling(neutral_reviews)\n",
    "for topic in neu_topics:\n",
    "    print(f\"Topic {topic[0]}: {topic[1]}\")"
   ]
  },
  {
   "cell_type": "code",
   "execution_count": 29,
   "id": "f65a415c",
   "metadata": {},
   "outputs": [
    {
     "data": {
      "text/html": [
       "\n",
       "<link rel=\"stylesheet\" type=\"text/css\" href=\"https://cdn.jsdelivr.net/gh/bmabey/pyLDAvis@3.4.0/pyLDAvis/js/ldavis.v1.0.0.css\">\n",
       "\n",
       "\n",
       "<div id=\"ldavis_el899219041718627203044749816\" style=\"background-color:white;\"></div>\n",
       "<script type=\"text/javascript\">\n",
       "\n",
       "var ldavis_el899219041718627203044749816_data = {\"mdsDat\": {\"x\": [-0.16850663278523728, -0.28327256253095173, -0.07500375923193424, 0.28907124027143943, 0.23771171427668367], \"y\": [-0.196656843969323, 0.30824347089922693, -0.23230276714655335, 0.15692734093190785, -0.03621120071525823], \"topics\": [1, 2, 3, 4, 5], \"cluster\": [1, 1, 1, 1, 1], \"Freq\": [30.395740941893802, 20.21133887266777, 19.351866640994665, 16.372842196449554, 13.668211347994225]}, \"tinfo\": {\"Term\": [\"good\", \"servic\", \"nice\", \"use\", \"great\", \"easi\", \"app\", \"fast\", \"thank\", \"help\", \"friendli\", \"excel\", \"ok\", \"food\", \"conveni\", \"grab\", \"best\", \"deliveri\", \"driver\", \"time\", \"safe\", \"love\", \"\\ud83d\\udc4d\", \"dan\", \"awesom\", \"like\", \"terbaik\", \"car\", \"realli\", \"super\", \"deliveri\", \"time\", \"rider\", \"po\", \"book\", \"ang\", \"pleas\", \"better\", \"locat\", \"cant\", \"sa\", \"na\", \"ng\", \"give\", \"option\", \"first\", \"dont\", \"star\", \"hope\", \"even\", \"still\", \"sometim\", \"take\", \"pay\", \"problem\", \"would\", \"payment\", \"issu\", \"kuya\", \"improv\", \"courteou\", \"custom\", \"driver\", \"order\", \"grab\", \"updat\", \"need\", \"get\", \"app\", \"like\", \"work\", \"nice\", \"dan\", \"terbaik\", \"sangat\", \"di\", \"saya\", \"yg\", \"bagu\", \"yang\", \"bisa\", \"nya\", \"banyak\", \"ada\", \"baik\", \"membantu\", \"untuk\", \"tidak\", \"aplikasi\", \"kasih\", \"ini\", \"cepat\", \"okay\", \"lagi\", \"terima\", \"ga\", \"makanan\", \"dengan\", \"mudah\", \"ke\", \"lebih\", \"promo\", \"grab\", \"driver\", \"help\", \"thank\", \"food\", \"best\", \"love\", \"realli\", \"much\", \"transport\", \"go\", \"clean\", \"polit\", \"price\", \"kind\", \"lot\", \"mantap\", \"happi\", \"quick\", \"profession\", \"ever\", \"around\", \"enjoy\", \"superb\", \"\\ud83d\\ude0a\", \"peopl\", \"voucher\", \"care\", \"punctual\", \"god\", \"choic\", \"safeti\", \"person\", \"well\", \"car\", \"grab\", \"ride\", \"app\", \"driver\", \"alway\", \"way\", \"get\", \"one\", \"order\", \"good\", \"servic\", \"great\", \"excel\", \"ok\", \"\\ud83d\\udc4d\", \"job\", \"amaz\", \"cool\", \"helpful\", \"\\ud83d\\udc4c\", \"convini\", \"verri\", \"man\", \"cheaper\", \"accommod\", \"gud\", \"ap\", \"gd\", \"\\ud83d\\ude42\", \"aplic\", \"userfriendli\", \"crash\", \"verygood\", \"goood\", \"\\ud83d\\udc4d\\ud83d\\ude0a\", \"apk\", \"smart\", \"ilov\", \"fastest\", \"pwd\", \"far\", \"app\", \"experi\", \"applic\", \"keep\", \"work\", \"overal\", \"provid\", \"use\", \"easi\", \"fast\", \"friendli\", \"conveni\", \"safe\", \"awesom\", \"super\", \"n\", \"reliabl\", \"user\", \"recommend\", \"effici\", \"satisfi\", \"perfect\", \"smooth\", \"comfort\", \"tq\", \"life\", \"\\ud83d\\udc4d\\ud83d\\udc4d\\ud83d\\udc4d\", \"malaysia\", \"highli\", \"easier\", \"pleasant\", \"thailand\", \"cheap\", \"simpl\", \"\\ud83d\\udc4d\\ud83d\\udc4d\", \"wonder\", \"\\u2764\\ufe0f\", \"drive\", \"like\", \"make\", \"app\", \"respons\", \"travel\", \"ride\"], \"Freq\": [78323.0, 24898.0, 27504.0, 20315.0, 15804.0, 12208.0, 37765.0, 10669.0, 12431.0, 12420.0, 9832.0, 9582.0, 9507.0, 10435.0, 7879.0, 26242.0, 7615.0, 9476.0, 25047.0, 8047.0, 4747.0, 5576.0, 4579.0, 5146.0, 3820.0, 5108.0, 4088.0, 5082.0, 3609.0, 2968.0, 9476.052560696726, 8046.590710021003, 3375.995263468647, 2985.069944118744, 2456.923367431926, 2376.663024273821, 2369.6169881509127, 2350.8864780910635, 2154.170607850052, 2122.174458681358, 2093.2636391077626, 1913.70771304804, 1761.8304387105811, 1737.6096505700932, 1695.0601902850929, 1685.003331364421, 1668.1997104858701, 1632.9615804013195, 1637.8508162005246, 1611.409164360382, 1587.4946646231663, 1516.6954377509712, 1510.994732523046, 1498.2310011284687, 1414.3263715232877, 1332.0654117463534, 1326.9085437901924, 1315.4829731803945, 1254.1307561816436, 1218.461873933, 1222.5937278739357, 2349.7112035054797, 13730.701185495278, 4973.246421743729, 7493.393015257703, 1961.3410932114755, 1930.6243410982815, 2013.5507182765232, 3260.49663435403, 1798.202381439102, 1618.5181727555153, 27503.56569871639, 5146.225050218504, 4087.8227437519718, 3355.7233420313346, 3139.151353250177, 2732.884927689449, 2480.836958257953, 2273.2367291283535, 2191.712100161309, 2096.9674907922836, 2047.5252823162543, 2008.4474141008072, 1970.8862937740512, 1827.2181178884755, 1790.48367387443, 1716.1328664951786, 1668.3449434538497, 1601.3883079433376, 1495.5683503516952, 1481.4868687572314, 1386.0900184107882, 1396.7588690784341, 1263.1744651512206, 1162.303164433533, 1156.5390249582235, 1144.7078939281485, 1037.0511312194233, 1035.9846192763705, 1034.5734861272292, 994.8080338272133, 1967.490867996169, 4766.832030840342, 3164.9439444140694, 12419.34867953783, 12430.304557868096, 10434.708785903225, 7614.503747230611, 5575.472681111599, 3609.1418067561663, 3016.016951271134, 2768.3587261873126, 2529.6204120440484, 2472.7635715071615, 2397.9613198269903, 2178.6365442184774, 1957.8370915086261, 1946.8365560656014, 1476.156442626944, 1432.9688465915735, 1356.1486888428549, 1322.8367651991182, 1138.886277939592, 1142.0089017397743, 1061.6022816463474, 972.9512638713675, 953.706429984818, 927.1899295706398, 922.2615706065307, 848.173237302337, 823.2267817347451, 759.8190900891776, 746.7330178612825, 649.7681357849017, 1719.2363212726607, 2135.1353560135085, 4027.2856056983787, 13982.117393885253, 4169.717581321418, 11023.76428679758, 8151.5926591493, 2179.073588495348, 1405.9009796918613, 1718.1540313354335, 1387.3244146882466, 1653.433569431787, 78322.75064456784, 24897.74413179218, 15804.122886456536, 9581.188082196959, 9506.81445903844, 4578.179249504573, 3153.0806553452912, 1630.622678904052, 1253.4501377842005, 1016.3005884757208, 716.2626550888614, 570.3104816487299, 522.9416368667389, 515.6873774325319, 465.51380421998886, 401.3311561464899, 333.1665997304333, 250.2626097815074, 246.3034339706836, 241.53881706318916, 172.98115367177422, 162.34916117401556, 139.52374721208682, 135.79819381880566, 131.47750148531017, 131.2155526120197, 141.0835179421114, 94.50359486392432, 92.76396845692638, 95.05569312424906, 96.9902042873723, 1767.0850383764673, 15173.434884483824, 1538.9313584957565, 792.7655377294581, 703.6158529052204, 491.31222612023583, 264.3323676980892, 161.36194378480948, 20314.751293950634, 12207.560677624635, 10669.047720237122, 9832.149891809479, 7878.758774706243, 4746.417005584056, 3819.707243766275, 2967.3152117752825, 2894.9336966598526, 2786.6099693590822, 2568.2480703671627, 2274.059366007783, 2182.3808891133212, 2071.4922240357105, 1872.2094416402676, 1635.846016732889, 1516.217470219257, 1368.6989928144574, 1195.123483979177, 1146.987759186633, 1057.7543631635517, 1028.7044136844543, 997.1684497475503, 943.8142534197461, 730.043364549241, 662.6254673385145, 618.7722087505226, 611.0016262300592, 599.4069775996091, 538.251007919219, 2786.3828720645265, 3310.130633689046, 1758.7562593363623, 8307.065954440013, 960.4414201525996, 1110.3849321861119, 1561.786224573991], \"Total\": [78323.0, 24898.0, 27504.0, 20315.0, 15804.0, 12208.0, 37765.0, 10669.0, 12431.0, 12420.0, 9832.0, 9582.0, 9507.0, 10435.0, 7879.0, 26242.0, 7615.0, 9476.0, 25047.0, 8047.0, 4747.0, 5576.0, 4579.0, 5146.0, 3820.0, 5108.0, 4088.0, 5082.0, 3609.0, 2968.0, 9476.891762655525, 8047.420454336123, 3376.8264569607804, 2985.8968535108734, 2457.7536460793563, 2377.487386574789, 2370.4400568471974, 2351.7139919280116, 2154.99340138682, 2122.9974789773396, 2094.0867929437204, 1914.5301406901972, 1762.6524829508212, 1738.434740291596, 1695.888561202069, 1685.8346154092233, 1669.0249139918183, 1633.7845503429185, 1638.6764091620844, 1612.2360374987948, 1588.3193756155918, 1517.5186013980813, 1511.822061367553, 1499.0569865084694, 1415.151520566447, 1332.8923911549887, 1327.7333003043098, 1316.313817249619, 1254.9669112663737, 1219.2890738311303, 1223.4306918851983, 2614.166054811736, 25047.629757532402, 7338.948335003121, 26242.726805704402, 2789.120495144488, 3178.8616230911175, 3732.3302848055114, 37765.00746154374, 5108.9484930502285, 3125.8811422896765, 27504.33059163296, 5146.982503924279, 4088.580723955999, 3356.4805739073918, 3139.9109830263883, 2733.642149309644, 2481.594315348732, 2273.9940925661963, 2192.469561382478, 2097.724700924754, 2048.284144073247, 2009.204729976398, 1971.6434904007217, 1827.9753133611202, 1791.2408178319456, 1716.890166057845, 1669.1021360297216, 1602.145534420451, 1496.3255480618443, 1482.244195918792, 1386.8474337185162, 1397.524279000555, 1263.9331374792268, 1163.0603565494225, 1157.2988056435422, 1145.4657828105246, 1037.8083984061748, 1036.741867744735, 1035.3308206764807, 995.5653539109896, 2698.955675882223, 26242.726805704402, 25047.629757532402, 12420.15319000205, 12431.113380309953, 10435.5226911238, 7615.306992676924, 5576.277310085865, 3609.9507203856497, 3016.825704296013, 2769.167593503057, 2530.428791558497, 2473.571991185429, 2398.7685776790554, 2179.44599004664, 1958.644599772801, 1947.6435209650667, 1476.9635721959082, 1433.774383326717, 1356.9628741298068, 1323.644361248029, 1139.6914400472413, 1142.8185423971202, 1062.4084176050344, 973.7541677675333, 954.5131742493377, 927.9973120236313, 923.1104971476775, 848.983399597776, 824.0352113889197, 760.6247450495418, 747.5397417454809, 650.575446623389, 1865.1267468675176, 2397.33469275156, 5082.860038284711, 26242.726805704402, 6598.9692348719245, 37765.00746154374, 25047.629757532402, 3387.219502096966, 1887.9562838937406, 3732.3302848055114, 2319.045334684505, 7338.948335003121, 78323.58262304073, 24898.584529765136, 15804.960185703283, 9582.020843613775, 9507.646752194432, 4579.014187777877, 3153.915809246895, 1631.4619227191401, 1254.2872467210207, 1017.132029869111, 717.0973668466162, 571.1496023193218, 523.7724230337533, 516.564943405678, 466.392146830832, 402.1951441436835, 333.99701920427907, 251.10622591917164, 247.13451441136314, 242.39361203455306, 173.81051102084496, 163.20121729088152, 140.37264791964168, 136.62647084454747, 132.30570058838154, 132.04512535896302, 142.26908389718676, 95.35422860962558, 93.60099779633107, 95.91490879430714, 98.00324147337452, 2932.3977282454375, 37765.00746154374, 2560.0678610381538, 1968.7020405452329, 2228.243661847349, 3125.8811422896765, 840.7375294542313, 944.7627896335077, 20315.54848807216, 12208.353382545623, 10669.842316085065, 9832.945625332994, 7879.553393717738, 4747.216460066781, 3820.498832772689, 2968.1108810988094, 2895.733200147134, 2787.4028730427567, 2569.0442412999146, 2274.857656323276, 2183.175444591444, 2072.285651046375, 1873.0034152174735, 1636.6439978483704, 1517.012858532972, 1369.504272944921, 1195.9166399032324, 1147.7811933231337, 1058.5585638874231, 1029.5022144247755, 997.9617638299765, 944.6112463034981, 730.8441958568607, 663.4228243580366, 619.5668503107535, 611.7939135247601, 600.2041709072157, 539.0526244369374, 2937.2809262806563, 5108.9484930502285, 2740.3575499106228, 37765.00746154374, 1293.3975773838913, 1890.331938860168, 6598.9692348719245], \"Category\": [\"Default\", \"Default\", \"Default\", \"Default\", \"Default\", \"Default\", \"Default\", \"Default\", \"Default\", \"Default\", \"Default\", \"Default\", \"Default\", \"Default\", \"Default\", \"Default\", \"Default\", \"Default\", \"Default\", \"Default\", \"Default\", \"Default\", \"Default\", \"Default\", \"Default\", \"Default\", \"Default\", \"Default\", \"Default\", \"Default\", \"Topic1\", \"Topic1\", \"Topic1\", \"Topic1\", \"Topic1\", \"Topic1\", \"Topic1\", \"Topic1\", \"Topic1\", \"Topic1\", \"Topic1\", \"Topic1\", \"Topic1\", \"Topic1\", \"Topic1\", \"Topic1\", \"Topic1\", \"Topic1\", \"Topic1\", \"Topic1\", \"Topic1\", \"Topic1\", \"Topic1\", \"Topic1\", \"Topic1\", \"Topic1\", \"Topic1\", \"Topic1\", \"Topic1\", \"Topic1\", \"Topic1\", \"Topic1\", \"Topic1\", \"Topic1\", \"Topic1\", \"Topic1\", \"Topic1\", \"Topic1\", \"Topic1\", \"Topic1\", \"Topic1\", \"Topic2\", \"Topic2\", \"Topic2\", \"Topic2\", \"Topic2\", \"Topic2\", \"Topic2\", \"Topic2\", \"Topic2\", \"Topic2\", \"Topic2\", \"Topic2\", \"Topic2\", \"Topic2\", \"Topic2\", \"Topic2\", \"Topic2\", \"Topic2\", \"Topic2\", \"Topic2\", \"Topic2\", \"Topic2\", \"Topic2\", \"Topic2\", \"Topic2\", \"Topic2\", \"Topic2\", \"Topic2\", \"Topic2\", \"Topic2\", \"Topic2\", \"Topic2\", \"Topic2\", \"Topic3\", \"Topic3\", \"Topic3\", \"Topic3\", \"Topic3\", \"Topic3\", \"Topic3\", \"Topic3\", \"Topic3\", \"Topic3\", \"Topic3\", \"Topic3\", \"Topic3\", \"Topic3\", \"Topic3\", \"Topic3\", \"Topic3\", \"Topic3\", \"Topic3\", \"Topic3\", \"Topic3\", \"Topic3\", \"Topic3\", \"Topic3\", \"Topic3\", \"Topic3\", \"Topic3\", \"Topic3\", \"Topic3\", \"Topic3\", \"Topic3\", \"Topic3\", \"Topic3\", \"Topic3\", \"Topic3\", \"Topic3\", \"Topic3\", \"Topic3\", \"Topic3\", \"Topic3\", \"Topic3\", \"Topic3\", \"Topic4\", \"Topic4\", \"Topic4\", \"Topic4\", \"Topic4\", \"Topic4\", \"Topic4\", \"Topic4\", \"Topic4\", \"Topic4\", \"Topic4\", \"Topic4\", \"Topic4\", \"Topic4\", \"Topic4\", \"Topic4\", \"Topic4\", \"Topic4\", \"Topic4\", \"Topic4\", \"Topic4\", \"Topic4\", \"Topic4\", \"Topic4\", \"Topic4\", \"Topic4\", \"Topic4\", \"Topic4\", \"Topic4\", \"Topic4\", \"Topic4\", \"Topic4\", \"Topic4\", \"Topic4\", \"Topic4\", \"Topic4\", \"Topic4\", \"Topic4\", \"Topic4\", \"Topic5\", \"Topic5\", \"Topic5\", \"Topic5\", \"Topic5\", \"Topic5\", \"Topic5\", \"Topic5\", \"Topic5\", \"Topic5\", \"Topic5\", \"Topic5\", \"Topic5\", \"Topic5\", \"Topic5\", \"Topic5\", \"Topic5\", \"Topic5\", \"Topic5\", \"Topic5\", \"Topic5\", \"Topic5\", \"Topic5\", \"Topic5\", \"Topic5\", \"Topic5\", \"Topic5\", \"Topic5\", \"Topic5\", \"Topic5\", \"Topic5\", \"Topic5\", \"Topic5\", \"Topic5\", \"Topic5\", \"Topic5\", \"Topic5\"], \"logprob\": [30.0, 29.0, 28.0, 27.0, 26.0, 25.0, 24.0, 23.0, 22.0, 21.0, 20.0, 19.0, 18.0, 17.0, 16.0, 15.0, 14.0, 13.0, 12.0, 11.0, 10.0, 9.0, 8.0, 7.0, 6.0, 5.0, 4.0, 3.0, 2.0, 1.0, -3.5646, -3.7281, -4.5966, -4.7197, -4.9144, -4.9476, -4.9506, -4.9585, -5.0459, -5.0609, -5.0746, -5.1643, -5.247, -5.2608, -5.2856, -5.2916, -5.3016, -5.3229, -5.3199, -5.3362, -5.3512, -5.3968, -5.4006, -5.409, -5.4667, -5.5266, -5.5305, -5.5391, -5.5869, -5.6157, -5.6124, -4.959, -3.1937, -4.2093, -3.7993, -5.1397, -5.1555, -5.1134, -4.6315, -5.2265, -5.3318, -2.091, -3.767, -3.9973, -4.1946, -4.2613, -4.3999, -4.4967, -4.5841, -4.6206, -4.6648, -4.6886, -4.7079, -4.7268, -4.8025, -4.8228, -4.8652, -4.8934, -4.9344, -5.0028, -5.0122, -5.0788, -5.0711, -5.1716, -5.2549, -5.2598, -5.2701, -5.3689, -5.3699, -5.3713, -5.4105, -4.7285, -3.8436, -4.2531, -2.8426, -2.8417, -3.0167, -3.3318, -3.6434, -4.0783, -4.2579, -4.3436, -4.4337, -4.4565, -4.4872, -4.5831, -4.69, -4.6956, -4.9724, -5.0021, -5.0572, -5.082, -5.2318, -5.229, -5.302, -5.3892, -5.4092, -5.4374, -5.4427, -5.5265, -5.5563, -5.6365, -5.6539, -5.793, -4.8199, -4.6033, -3.9687, -2.724, -3.934, -2.9618, -3.2636, -4.5829, -5.0211, -4.8206, -5.0344, -4.859, -0.8338, -1.9799, -2.4344, -2.9349, -2.9426, -3.6734, -4.0463, -4.7057, -4.9688, -5.1785, -5.5284, -5.7562, -5.8429, -5.8569, -5.9593, -6.1076, -6.2938, -6.5799, -6.5958, -6.6154, -6.9492, -7.0127, -7.1642, -7.1912, -7.2236, -7.2256, -7.1531, -7.5538, -7.5724, -7.5479, -7.5278, -4.6253, -2.4751, -4.7636, -5.4269, -5.5462, -5.9053, -6.5252, -7.0188, -2.0028, -2.512, -2.6468, -2.7284, -2.9499, -3.4567, -3.6739, -3.9264, -3.9511, -3.9893, -4.0709, -4.1925, -4.2337, -4.2858, -4.387, -4.5219, -4.5979, -4.7002, -4.8359, -4.877, -4.958, -4.9858, -5.0169, -5.0719, -5.3288, -5.4256, -5.4941, -5.5068, -5.5259, -5.6335, -3.9894, -3.8171, -4.4495, -2.897, -5.0545, -4.9094, -4.5683], \"loglift\": [30.0, 29.0, 28.0, 27.0, 26.0, 25.0, 24.0, 23.0, 22.0, 21.0, 20.0, 19.0, 18.0, 17.0, 16.0, 15.0, 14.0, 13.0, 12.0, 11.0, 10.0, 9.0, 8.0, 7.0, 6.0, 5.0, 4.0, 3.0, 2.0, 1.0, 1.1908, 1.1908, 1.1906, 1.1906, 1.1905, 1.1905, 1.1905, 1.1905, 1.1905, 1.1905, 1.1905, 1.1904, 1.1904, 1.1904, 1.1904, 1.1904, 1.1904, 1.1904, 1.1904, 1.1904, 1.1903, 1.1903, 1.1903, 1.1903, 1.1903, 1.1902, 1.1902, 1.1902, 1.1902, 1.1902, 1.1902, 1.0842, 0.5897, 0.8017, -0.0625, 0.8388, 0.6922, 0.5737, -1.2586, 0.1467, 0.5327, 1.5989, 1.5988, 1.5987, 1.5987, 1.5987, 1.5986, 1.5986, 1.5986, 1.5986, 1.5986, 1.5986, 1.5985, 1.5985, 1.5985, 1.5985, 1.5985, 1.5985, 1.5985, 1.5984, 1.5984, 1.5984, 1.5984, 1.5983, 1.5983, 1.5983, 1.5983, 1.5982, 1.5982, 1.5982, 1.5982, 1.2828, -0.1068, -0.4697, 1.6423, 1.6423, 1.6423, 1.6423, 1.6422, 1.6422, 1.6421, 1.6421, 1.6421, 1.6421, 1.642, 1.642, 1.642, 1.642, 1.6418, 1.6418, 1.6418, 1.6418, 1.6417, 1.6417, 1.6416, 1.6416, 1.6415, 1.6415, 1.6415, 1.6414, 1.6414, 1.6413, 1.6413, 1.6411, 1.5609, 1.5266, 1.4096, 1.0128, 1.1833, 0.4111, 0.5198, 1.2013, 1.3476, 0.8666, 1.1286, 0.152, 1.8095, 1.8095, 1.8095, 1.8095, 1.8095, 1.8094, 1.8093, 1.809, 1.8089, 1.8087, 1.8084, 1.8081, 1.808, 1.8078, 1.8077, 1.8074, 1.8071, 1.8062, 1.8062, 1.806, 1.8048, 1.8043, 1.8035, 1.8035, 1.8033, 1.8032, 1.8012, 1.8006, 1.8006, 1.8005, 1.7992, 1.3031, 0.8977, 1.3006, 0.8999, 0.6568, -0.0408, 0.6525, 0.0423, 1.9901, 1.99, 1.99, 1.99, 1.99, 1.9899, 1.9899, 1.9898, 1.9898, 1.9898, 1.9898, 1.9897, 1.9897, 1.9897, 1.9897, 1.9896, 1.9896, 1.9895, 1.9894, 1.9894, 1.9893, 1.9893, 1.9893, 1.9893, 1.989, 1.9889, 1.9888, 1.9888, 1.9888, 1.9886, 1.9374, 1.5561, 1.5466, 0.4758, 1.6925, 1.4581, 0.549]}, \"token.table\": {\"Topic\": [4, 2, 1, 3, 4, 1, 4, 2, 4, 4, 2, 1, 3, 4, 5, 3, 4, 5, 3, 5, 2, 2, 2, 3, 1, 2, 1, 1, 1, 3, 3, 2, 5, 4, 3, 3, 5, 5, 4, 4, 1, 4, 1, 2, 2, 1, 2, 2, 1, 1, 5, 1, 2, 3, 5, 5, 5, 3, 1, 3, 4, 1, 4, 1, 4, 5, 4, 1, 3, 5, 2, 4, 1, 3, 1, 3, 3, 4, 4, 1, 2, 3, 4, 4, 3, 3, 4, 5, 1, 4, 1, 2, 1, 4, 2, 2, 1, 3, 4, 3, 1, 2, 2, 5, 1, 5, 1, 3, 3, 2, 1, 5, 5, 4, 3, 2, 3, 2, 5, 1, 1, 3, 1, 2, 2, 4, 2, 1, 3, 1, 1, 2, 3, 1, 2, 4, 1, 1, 3, 5, 1, 3, 1, 5, 1, 3, 3, 1, 3, 1, 2, 1, 3, 4, 3, 4, 3, 3, 5, 5, 1, 5, 1, 3, 5, 1, 1, 5, 3, 2, 5, 2, 4, 5, 4, 5, 1, 1, 1, 5, 3, 1, 2, 2, 5, 3, 2, 1, 5, 3, 3, 5, 2, 1, 2, 5, 5, 4, 4, 4, 3, 1, 3, 1, 3, 5, 1, 3, 4, 1, 2, 2, 5, 4, 4, 5, 5, 4, 3, 4], \"Freq\": [0.997028447108112, 0.9996736274058395, 0.35663469676297893, 0.643300500204082, 0.9997168657676238, 0.9997949993015562, 0.9955945898389325, 0.007028933993295883, 0.9910796930547195, 0.9953368123936547, 0.9992849997732164, 0.08632329818336912, 0.2919104414642519, 0.40177405010314715, 0.21996553313167094, 0.36877088815275166, 0.40280346323020944, 0.22857699678889565, 0.9992837512109287, 0.9998694325546156, 0.9995628429425362, 0.9994664515685789, 0.9994003946146333, 0.9999596874194016, 0.9996963950844098, 0.9996545300131926, 0.9996933597960241, 0.9995301553641881, 0.20756030897046418, 0.7922704874161699, 0.9988416739382161, 0.9993889495715877, 0.9993626623285901, 0.999159190750752, 0.9992779758515304, 0.9997687590304761, 0.9993323335875007, 0.999929768390404, 0.9979872133068928, 0.9989737225469, 0.9996479638053427, 0.9973452953608526, 0.8989482499302208, 0.10098822892833119, 0.9998091106928128, 0.9999059013569155, 0.9992210523566621, 0.9997098697920697, 0.9993859204957181, 0.05106763832424367, 0.9484962691422858, 0.54819558309188, 0.1263592615603962, 0.32545993688478664, 0.9999710540369737, 0.9990362718644796, 0.9994615894959995, 0.9996155738242783, 0.9992333396165041, 0.9993933094318822, 0.9998934625972501, 0.398426938411848, 0.6011559394272884, 0.3972858077124015, 0.6025785598522004, 0.9999210563698964, 0.9904612452244604, 0.9995049245035103, 0.9999499123197494, 0.999903830920151, 0.999741807697299, 0.9954093242942396, 0.5396092645388557, 0.4603022425410895, 0.9997499242959658, 0.9998305458901166, 0.9991786422232409, 0.9999925613331105, 0.9901311842001145, 0.28552673110064314, 0.18165033059612515, 0.5327952427931659, 0.9999392478252396, 0.9970148859212744, 0.9994598987569298, 0.9999071517086456, 0.9988870374387319, 0.9995121774215356, 0.999587222249431, 0.9935791518201675, 0.9989427660275181, 0.9991605999050509, 0.9990018966355879, 0.9997096278714194, 0.9997824350040231, 0.9996804686290856, 0.43352529911344057, 0.25042144607173894, 0.315943903287642, 0.9996708949786623, 0.9992295324620168, 0.9992617192701444, 0.9994321277766761, 0.9992335252536443, 0.3519315182851899, 0.6478828284338035, 0.999539023466995, 0.9996695899644161, 0.9997709385644156, 0.9995933682022506, 0.35798248299094965, 0.6418870413670544, 0.9994723353941118, 0.9989063458275868, 0.9993475992136518, 0.99930728586598, 0.9997263002980791, 0.9992844238591919, 0.9997467998270363, 0.9997230961900626, 0.6074501595078241, 0.3925933708263928, 0.9996298289327407, 0.9999879803788768, 0.9998612770234692, 0.9999319755759454, 0.9996248515976195, 0.401458300998095, 0.5980909382216517, 0.9994760497697802, 0.6776175240642138, 0.0970166252028394, 0.22523663126445717, 0.625641156213706, 0.05947159279597966, 0.3140100099627726, 0.9992948990478799, 0.9994477051195887, 0.998925307206487, 0.9994642747528802, 0.07774270582067823, 0.921653181418937, 0.9998143564753194, 0.9993529123161617, 0.9996996368076752, 0.9996795949028985, 0.9997953654053935, 0.9991862916799282, 0.9995131915589308, 0.2708455001807519, 0.7288004088311066, 0.36940489594788556, 0.45937456974608115, 0.17041314684128817, 0.9987437291821852, 0.9897631807041088, 0.9992904196952151, 0.9997366389573462, 0.999622984620206, 0.9998554665180793, 0.2566882803905698, 0.7422311722136958, 0.13138415548573582, 0.6319168724054421, 0.23670363421997617, 0.9997552563120096, 0.9994810181949562, 0.9997437529809281, 0.9991154805697392, 0.9998568220799108, 0.9993795975734688, 0.9997650938657767, 0.9999765235744853, 0.9990850861202966, 0.9962851295134926, 0.999606513176221, 0.9996582569745086, 0.9995197957143408, 0.9991693259958625, 0.9996257278978748, 0.9992255049657324, 0.9994562446278834, 0.9998579644147426, 0.9990883047956614, 0.9988449031111605, 0.9999104359942758, 0.9993396832908361, 0.9999477529056039, 0.9996317843216096, 0.999578359393705, 0.41209693598560326, 0.5871984582079841, 0.9994815241676823, 0.703089021580049, 0.2965092406153496, 0.9999730015622034, 0.9995935292654259, 0.9926396548333305, 0.9985252697549838, 0.9954147183874766, 0.9987970051785687, 0.25477284834582115, 0.7447206336262464, 0.10928803591428755, 0.8905723537290227, 0.9979937311908453, 0.5179339604749331, 0.32502835320724643, 0.1570757100637382, 0.9993304852207796, 0.9997858299194896, 0.9997605106745063, 0.9980472696185517, 0.9984697101155987, 0.9997785139472631, 0.998702318693911, 0.9993193882878739, 0.9920850894258924, 0.9994623707003927, 0.998376145182832], \"Term\": [\"accommod\", \"ada\", \"alway\", \"alway\", \"amaz\", \"ang\", \"ap\", \"apk\", \"apk\", \"aplic\", \"aplikasi\", \"app\", \"app\", \"app\", \"app\", \"applic\", \"applic\", \"applic\", \"around\", \"awesom\", \"bagu\", \"baik\", \"banyak\", \"best\", \"better\", \"bisa\", \"book\", \"cant\", \"car\", \"car\", \"care\", \"cepat\", \"cheap\", \"cheaper\", \"choic\", \"clean\", \"comfort\", \"conveni\", \"convini\", \"cool\", \"courteou\", \"crash\", \"custom\", \"custom\", \"dan\", \"deliveri\", \"dengan\", \"di\", \"dont\", \"drive\", \"drive\", \"driver\", \"driver\", \"driver\", \"easi\", \"easier\", \"effici\", \"enjoy\", \"even\", \"ever\", \"excel\", \"experi\", \"experi\", \"far\", \"far\", \"fast\", \"fastest\", \"first\", \"food\", \"friendli\", \"ga\", \"gd\", \"get\", \"get\", \"give\", \"go\", \"god\", \"good\", \"goood\", \"grab\", \"grab\", \"grab\", \"great\", \"gud\", \"happi\", \"help\", \"helpful\", \"highli\", \"hope\", \"ilov\", \"improv\", \"ini\", \"issu\", \"job\", \"kasih\", \"ke\", \"keep\", \"keep\", \"keep\", \"kind\", \"kuya\", \"lagi\", \"lebih\", \"life\", \"like\", \"like\", \"locat\", \"lot\", \"love\", \"makanan\", \"make\", \"make\", \"malaysia\", \"man\", \"mantap\", \"membantu\", \"much\", \"mudah\", \"n\", \"na\", \"need\", \"need\", \"ng\", \"nice\", \"nya\", \"ok\", \"okay\", \"one\", \"one\", \"option\", \"order\", \"order\", \"order\", \"overal\", \"overal\", \"overal\", \"pay\", \"payment\", \"peopl\", \"perfect\", \"person\", \"person\", \"pleas\", \"pleasant\", \"po\", \"polit\", \"price\", \"problem\", \"profession\", \"promo\", \"promo\", \"provid\", \"provid\", \"provid\", \"punctual\", \"pwd\", \"quick\", \"realli\", \"recommend\", \"reliabl\", \"respons\", \"respons\", \"ride\", \"ride\", \"ride\", \"rider\", \"sa\", \"safe\", \"safeti\", \"sangat\", \"satisfi\", \"saya\", \"servic\", \"simpl\", \"smart\", \"smooth\", \"sometim\", \"star\", \"still\", \"super\", \"superb\", \"take\", \"terbaik\", \"terima\", \"thailand\", \"thank\", \"tidak\", \"time\", \"tq\", \"transport\", \"travel\", \"travel\", \"untuk\", \"updat\", \"updat\", \"use\", \"user\", \"userfriendli\", \"verri\", \"verygood\", \"voucher\", \"way\", \"way\", \"well\", \"well\", \"wonder\", \"work\", \"work\", \"work\", \"would\", \"yang\", \"yg\", \"\\u2764\\ufe0f\", \"\\ud83d\\udc4c\", \"\\ud83d\\udc4d\", \"\\ud83d\\udc4d\\ud83d\\udc4d\", \"\\ud83d\\udc4d\\ud83d\\udc4d\\ud83d\\udc4d\", \"\\ud83d\\udc4d\\ud83d\\ude0a\", \"\\ud83d\\ude0a\", \"\\ud83d\\ude42\"]}, \"R\": 30, \"lambda.step\": 0.01, \"plot.opts\": {\"xlab\": \"PC1\", \"ylab\": \"PC2\"}, \"topic.order\": [1, 2, 3, 4, 5]};\n",
       "\n",
       "function LDAvis_load_lib(url, callback){\n",
       "  var s = document.createElement('script');\n",
       "  s.src = url;\n",
       "  s.async = true;\n",
       "  s.onreadystatechange = s.onload = callback;\n",
       "  s.onerror = function(){console.warn(\"failed to load library \" + url);};\n",
       "  document.getElementsByTagName(\"head\")[0].appendChild(s);\n",
       "}\n",
       "\n",
       "if(typeof(LDAvis) !== \"undefined\"){\n",
       "   // already loaded: just create the visualization\n",
       "   !function(LDAvis){\n",
       "       new LDAvis(\"#\" + \"ldavis_el899219041718627203044749816\", ldavis_el899219041718627203044749816_data);\n",
       "   }(LDAvis);\n",
       "}else if(typeof define === \"function\" && define.amd){\n",
       "   // require.js is available: use it to load d3/LDAvis\n",
       "   require.config({paths: {d3: \"https://d3js.org/d3.v5\"}});\n",
       "   require([\"d3\"], function(d3){\n",
       "      window.d3 = d3;\n",
       "      LDAvis_load_lib(\"https://cdn.jsdelivr.net/gh/bmabey/pyLDAvis@3.4.0/pyLDAvis/js/ldavis.v3.0.0.js\", function(){\n",
       "        new LDAvis(\"#\" + \"ldavis_el899219041718627203044749816\", ldavis_el899219041718627203044749816_data);\n",
       "      });\n",
       "    });\n",
       "}else{\n",
       "    // require.js not available: dynamically load d3 & LDAvis\n",
       "    LDAvis_load_lib(\"https://d3js.org/d3.v5.js\", function(){\n",
       "         LDAvis_load_lib(\"https://cdn.jsdelivr.net/gh/bmabey/pyLDAvis@3.4.0/pyLDAvis/js/ldavis.v3.0.0.js\", function(){\n",
       "                 new LDAvis(\"#\" + \"ldavis_el899219041718627203044749816\", ldavis_el899219041718627203044749816_data);\n",
       "            })\n",
       "         });\n",
       "}\n",
       "</script>"
      ],
      "text/plain": [
       "PreparedData(topic_coordinates=              x         y  topics  cluster       Freq\n",
       "topic                                                \n",
       "0     -0.168507 -0.196657       1        1  30.395741\n",
       "1     -0.283273  0.308243       2        1  20.211339\n",
       "2     -0.075004 -0.232303       3        1  19.351867\n",
       "3      0.289071  0.156927       4        1  16.372842\n",
       "4      0.237712 -0.036211       5        1  13.668211, topic_info=        Term          Freq         Total Category  logprob  loglift\n",
       "100     good  78323.000000  78323.000000  Default  30.0000  30.0000\n",
       "76    servic  24898.000000  24898.000000  Default  29.0000  29.0000\n",
       "27      nice  27504.000000  27504.000000  Default  28.0000  28.0000\n",
       "50       use  20315.000000  20315.000000  Default  27.0000  27.0000\n",
       "1      great  15804.000000  15804.000000  Default  26.0000  26.0000\n",
       "..       ...           ...           ...      ...      ...      ...\n",
       "13      make   1758.756259   2740.357550   Topic5  -4.4495   1.5466\n",
       "0        app   8307.065954  37765.007462   Topic5  -2.8970   0.4758\n",
       "61   respons    960.441420   1293.397577   Topic5  -5.0545   1.6925\n",
       "118   travel   1110.384932   1890.331939   Topic5  -4.9094   1.4581\n",
       "24      ride   1561.786225   6598.969235   Topic5  -4.5683   0.5490\n",
       "\n",
       "[222 rows x 6 columns], token_table=      Topic      Freq      Term\n",
       "term                           \n",
       "1303      4  0.997028  accommod\n",
       "1618      2  0.999674       ada\n",
       "249       1  0.356635     alway\n",
       "249       3  0.643301     alway\n",
       "334       4  0.999717      amaz\n",
       "...     ...       ...       ...\n",
       "1038      5  0.998702        👍👍\n",
       "1581      5  0.999319       👍👍👍\n",
       "3420      4  0.992085        👍😊\n",
       "1135      3  0.999462         😊\n",
       "3186      4  0.998376         🙂\n",
       "\n",
       "[220 rows x 3 columns], R=30, lambda_step=0.01, plot_opts={'xlab': 'PC1', 'ylab': 'PC2'}, topic_order=[1, 2, 3, 4, 5])"
      ]
     },
     "execution_count": 29,
     "metadata": {},
     "output_type": "execute_result"
    }
   ],
   "source": [
    "# Visualize the first model (positive reviews) as an example\n",
    "# This will generate an interactive visualization\n",
    "pyLDAvis.enable_notebook()\n",
    "vis = pyLDAvis.gensim_models.prepare(pos_lda_model, pos_corpus, pos_dictionary)\n",
    "vis"
   ]
  },
  {
   "cell_type": "code",
   "execution_count": 30,
   "id": "e0ab86fb",
   "metadata": {},
   "outputs": [],
   "source": [
    "def format_topic(topic_text):\n",
    "    # Extract word+weight pairs and format them\n",
    "    pairs = re.findall(r'\"([^\"]+)\"\\*([0-9.]+)', topic_text)\n",
    "    return [(word, float(weight)) for word, weight in pairs]"
   ]
  },
  {
   "cell_type": "code",
   "execution_count": 37,
   "id": "aa94e23b",
   "metadata": {},
   "outputs": [
    {
     "name": "stdout",
     "output_type": "stream",
     "text": [
      "POSITIVE REVIEWS TOPIC ANALYSIS\n",
      "\n",
      "Topic 0: General Satisfaction\n",
      "\n",
      "\n",
      "Topic 1: General Satisfaction\n",
      "\n",
      "\n",
      "Topic 2: General Satisfaction\n",
      "\n",
      "\n",
      "Topic 3: General Satisfaction\n",
      "\n",
      "\n",
      "Topic 4: General Satisfaction\n",
      "\n"
     ]
    }
   ],
   "source": [
    "print(\"POSITIVE REVIEWS TOPIC ANALYSIS\")\n",
    "pos_topic_words = {}\n",
    "for idx, topic in pos_topics:\n",
    "    formatted = format_topic(topic)\n",
    "    pos_topic_words[idx] = formatted\n",
    "    \n",
    "    # Interpret the topic based on top words\n",
    "    words = [word for word, _ in formatted]\n",
    "    \n",
    "    interpretation = \"\"\n",
    "    if any(word in ['driver', 'servic', 'good', 'great'] for word in words):\n",
    "        interpretation = \"Service Quality & Driver Experience\"\n",
    "    elif any(word in ['app', 'use', 'easy', 'conveni'] for word in words):\n",
    "        interpretation = \"App Usability & Convenience\"\n",
    "    elif any(word in ['price', 'fare', 'cheap', 'reason'] for word in words):\n",
    "        interpretation = \"Fair Pricing\"\n",
    "    elif any(word in ['food', 'deliveri', 'order', 'time'] for word in words):\n",
    "        interpretation = \"Food Delivery Experience\"\n",
    "    else:\n",
    "        interpretation = \"General Satisfaction\"\n",
    "        \n",
    "    print(f\"\\nTopic {idx}: {interpretation}\")\n",
    "    print(\", \".join([f\"{word} ({weight:.3f})\" for word, weight in formatted[:8]]))"
   ]
  },
  {
   "cell_type": "code",
   "execution_count": 38,
   "id": "17f285fc",
   "metadata": {},
   "outputs": [
    {
     "name": "stdout",
     "output_type": "stream",
     "text": [
      "\n",
      "\n",
      "NEGATIVE REVIEWS TOPIC ANALYSIS\n",
      "\n",
      "Topic 0: General Dissatisfaction\n",
      "\n",
      "\n",
      "Topic 1: General Dissatisfaction\n",
      "\n",
      "\n",
      "Topic 2: General Dissatisfaction\n",
      "\n",
      "\n",
      "Topic 3: General Dissatisfaction\n",
      "\n",
      "\n",
      "Topic 4: General Dissatisfaction\n",
      "\n"
     ]
    }
   ],
   "source": [
    "print(\"\\n\\nNEGATIVE REVIEWS TOPIC ANALYSIS\")\n",
    "neg_topic_words = {}\n",
    "for idx, topic in neg_topics:\n",
    "    formatted = format_topic(topic)\n",
    "    neg_topic_words[idx] = formatted\n",
    "    \n",
    "    # Interpret the topic\n",
    "    words = [word for word, _ in formatted]\n",
    "    \n",
    "    interpretation = \"\"\n",
    "    if any(word in ['driver', 'cancel', 'wait', 'time'] for word in words):\n",
    "        interpretation = \"Driver Cancellations & Wait Times\"\n",
    "    elif any(word in ['price', 'fare', 'high', 'charge', 'expens'] for word in words):\n",
    "        interpretation = \"Pricing Complaints\"\n",
    "    elif any(word in ['customer', 'service', 'support', 'respons'] for word in words):\n",
    "        interpretation = \"Customer Service Issues\"\n",
    "    elif any(word in ['app', 'bug', 'crash', 'problem'] for word in words):\n",
    "        interpretation = \"Technical Problems\"\n",
    "    else:\n",
    "        interpretation = \"General Dissatisfaction\"\n",
    "        \n",
    "    print(f\"\\nTopic {idx}: {interpretation}\")\n",
    "    print(\", \".join([f\"{word} ({weight:.3f})\" for word, weight in formatted[:8]]))"
   ]
  },
  {
   "cell_type": "code",
   "execution_count": 39,
   "id": "2e34fa39",
   "metadata": {},
   "outputs": [
    {
     "name": "stdout",
     "output_type": "stream",
     "text": [
      "\n",
      "\n",
      "NEUTRAL REVIEWS TOPIC ANALYSIS\n",
      "\n",
      "Topic 0: General Mixed Feedback\n",
      "\n",
      "\n",
      "Topic 1: General Mixed Feedback\n",
      "\n",
      "\n",
      "Topic 2: General Mixed Feedback\n",
      "\n",
      "\n",
      "Topic 3: General Mixed Feedback\n",
      "\n",
      "\n",
      "Topic 4: General Mixed Feedback\n",
      "\n"
     ]
    }
   ],
   "source": [
    "print(\"\\n\\nNEUTRAL REVIEWS TOPIC ANALYSIS\")\n",
    "neu_topic_words = {}\n",
    "for idx, topic in neu_topics:\n",
    "    formatted = format_topic(topic)\n",
    "    neu_topic_words[idx] = formatted\n",
    "    \n",
    "    # Interpret the topic\n",
    "    words = [word for word, _ in formatted]\n",
    "    \n",
    "    interpretation = \"\"\n",
    "    if any(word in ['driver', 'service', 'time', 'ok'] for word in words):\n",
    "        interpretation = \"Average Service Experience\"\n",
    "    elif any(word in ['app', 'use', 'function'] for word in words):\n",
    "        interpretation = \"App Functionality\"\n",
    "    elif any(word in ['price', 'fare', 'reasonable'] for word in words):\n",
    "        interpretation = \"Value Assessment\"\n",
    "    elif any(word in ['food', 'order', 'deliver'] for word in words):\n",
    "        interpretation = \"Food Delivery Observations\"\n",
    "    else:\n",
    "        interpretation = \"General Mixed Feedback\"\n",
    "        \n",
    "    print(f\"\\nTopic {idx}: {interpretation}\")\n",
    "    print(\", \".join([f\"{word} ({weight:.3f})\" for word, weight in formatted[:8]]))"
   ]
  },
  {
   "cell_type": "code",
   "execution_count": null,
   "id": "11165e63",
   "metadata": {},
   "outputs": [
    {
     "data": {
      "text/plain": [
       "<Figure size 1500x1000 with 0 Axes>"
      ]
     },
     "metadata": {},
     "output_type": "display_data"
    }
   ],
   "source": [
    "# Visualize topic differences across sentiment categories\n",
    "plt.figure(figsize=(15, 10))\n",
    "\n",
    "# Common words across all sentiments\n",
    "all_words = set()\n",
    "for topics_dict in [pos_topic_words, neg_topic_words, neu_topic_words]:\n",
    "    for topic_idx, word_weights in topics_dict.items():\n",
    "        for word, _ in word_weights[:5]:  # Top 5 words per topic\n",
    "            all_words.add(word)\n",
    "\n",
    "# Select top 20 most interesting words for comparison\n",
    "comparison_words = ['driver', 'servic', 'time', 'app', 'wait', 'price', \n",
    "                   'food', 'order', 'good', 'bad', 'cancel', 'expens', \n",
    "                   'deliveri', 'fast', 'slow', 'support', 'problem', \n",
    "                   'conveni', 'cheap', 'qualiti']\n",
    "\n",
    "# Calculate average weight for each word in each sentiment category\n",
    "def get_avg_weight(word, topics_dict):\n",
    "    weights = []\n",
    "    for topic_idx, word_weights in topics_dict.items():\n",
    "        for w, weight in word_weights:\n",
    "            if w == word:\n",
    "                weights.append(weight)\n",
    "    return np.mean(weights) if weights else 0\n",
    "\n",
    "word_comparison = {\n",
    "    'positive': [get_avg_weight(word, pos_topic_words) for word in comparison_words],\n",
    "    'negative': [get_avg_weight(word, neg_topic_words) for word in comparison_words],\n",
    "    'neutral': [get_avg_weight(word, neu_topic_words) for word in comparison_words]\n",
    "}"
   ]
  },
  {
   "cell_type": "code",
   "execution_count": 35,
   "id": "ccbbbbe5",
   "metadata": {},
   "outputs": [
    {
     "data": {
      "image/png": "[encoded data removed]",
      "text/plain": [
       "<Figure size 1200x1000 with 2 Axes>"
      ]
     },
     "metadata": {},
     "output_type": "display_data"
    },
    {
     "data": {
      "image/png": "[encoded data removed]",
      "text/plain": [
       "<Figure size 1200x600 with 1 Axes>"
      ]
     },
     "metadata": {},
     "output_type": "display_data"
    }
   ],
   "source": [
    "# Create DataFrame for plotting\n",
    "comp_df = pd.DataFrame(word_comparison, index=comparison_words)\n",
    "\n",
    "# Plot heatmap\n",
    "plt.figure(figsize=(12, 10))\n",
    "sns.heatmap(comp_df, cmap='YlGnBu', annot=True, fmt='.3f', linewidths=.5)\n",
    "plt.title('Word Importance Across Different Sentiment Categories')\n",
    "plt.tight_layout()\n",
    "plt.show()\n",
    "\n",
    "# Plot bar chart for selected key words\n",
    "key_words = ['driver', 'service', 'price', 'app', 'wait', 'cancel']\n",
    "key_comp_df = comp_df.loc[key_words]\n",
    "\n",
    "key_comp_df.plot(kind='bar', figsize=(12, 6))\n",
    "plt.title('Key Word Importance Comparison Across Sentiment Categories')\n",
    "plt.xlabel('Words')\n",
    "plt.ylabel('Average Weight in Topics')\n",
    "plt.legend(title='Sentiment')\n",
    "plt.tight_layout()\n",
    "plt.show()"
   ]
  },
  {
   "cell_type": "markdown",
   "id": "835a2ad8",
   "metadata": {},
   "source": [
    "### Key Findings from Sentiment-Based Topic Analysis\n",
    "\n",
    "The topic modeling analysis reveals distinct thematic patterns across positive, negative, and neutral sentiments:\n",
    "\n",
    "#### Positive Sentiment Topics\n",
    "- **Service Excellence**: Driver professionalism and service quality emerge as primary satisfaction drivers\n",
    "- **App Usability**: Customers frequently praise the intuitive interface and convenience\n",
    "- **Delivery Reliability**: Timely food delivery and efficient service receive consistent recognition\n",
    "- **Value for Money**: Competitive pricing and promotions are viewed favorably\n",
    "\n",
    "#### Negative Sentiment Topics\n",
    "- **Driver Issues**: Cancellations, extended wait times, and driver behavior dominate complaints\n",
    "- **Pricing Complaints**: High fares, surge pricing, and unexpected charges appear frequently\n",
    "- **Technical Problems**: App crashes, bugs, and location inaccuracies frustrate users\n",
    "- **Customer Service**: Slow response times and resolution difficulties generate dissatisfaction\n",
    "\n",
    "#### Neutral Sentiment Topics\n",
    "- **Average Service**: Basic functionality meeting expectations without impressive features\n",
    "- **Balanced Feedback**: Recognition of both positive aspects and areas for improvement\n",
    "- **Price-Value Assessment**: Observations about reasonable but not exceptional pricing\n",
    "- **Mixed Experiences**: Inconsistent experiences across different service components\n",
    "\n",
    "The analysis shows that service quality and driver experience are critical factors across all sentiment categories, but context differs dramatically (excellence vs. problems). Price sensitivity appears more prominently in negative reviews, while convenience and ease of use dominate positive feedback."
   ]
  },
  {
   "cell_type": "markdown",
   "id": "d0800222",
   "metadata": {},
   "source": [
    "### Task 5: Joint Analysis and Conclusion\n",
    "Relationships between Sentiment and Topics\n",
    "\n",
    "From our topic modeling analysis, we can observe several interesting patterns across different sentiment categories:\n",
    "\n",
    "1. **Positive Reviews** tend to focus on convenience, service quality, and reliability of the Grab platform. Users frequently mention good experiences with drivers, prompt service, and ease of use.\n",
    "\n",
    "2. **Negative Reviews** predominantly center around customer service issues, cancellations, long wait times, and pricing concerns. Technical problems with the app and payment difficulties also appear frequently.\n",
    "\n",
    "3. **Neutral Reviews** contain mixed feedback, often acknowledging both positive aspects and areas for improvement. These reviews typically mention specific features without strong emotional language.\n",
    "\n",
    " Summary of Findings\n",
    "\n",
    "1. **Service Quality is Key**: Driver behavior and service reliability emerge as critical factors that determine customer satisfaction.\n",
    "\n",
    "2. **Price Sensitivity**: Pricing appears frequently in negative reviews, suggesting that customers are highly sensitive to fare changes and unexpected charges.\n",
    "\n",
    "3. **App Functionality**: Technical aspects of the platform significantly impact user experience, with app crashes and bugs frequently mentioned in negative reviews.\n",
    "\n",
    "4. **Response Time**: Wait times and driver availability are consistently mentioned across sentiment categories, indicating their importance to the overall customer experience.\n",
    "\n",
    "Implications for Grab\n",
    "\n",
    "Based on our analysis, Grab should consider:\n",
    "\n",
    "1. **Driver Training**: Invest in driver quality and service standards to maintain positive experiences.\n",
    "\n",
    "2. **Price Transparency**: Improve fare transparency and notification systems for any pricing changes or surcharges.\n",
    "\n",
    "3. **Technical Reliability**: Prioritize app stability and address common technical issues that frustrate users.\n",
    "\n",
    "4. **Customer Service**: Enhance customer support response times and resolution processes, particularly for cancellations and refunds.\n",
    "\n",
    "5. **Waiting Experience**: Improve user experience during waiting periods through better ETA predictions and notifications.\n",
    "\n",
    "By addressing these key areas, Grab could significantly improve customer satisfaction, potentially converting neutral and negative sentiments to positive ones."
   ]
  }
 ],
 "metadata": {
  "kernelspec": {
   "display_name": "Python 3",
   "language": "python",
   "name": "python3"
  },
  "language_info": {
   "codemirror_mode": {
    "name": "ipython",
    "version": 3
   },
   "file_extension": ".py",
   "mimetype": "text/x-python",
   "name": "python",
   "nbconvert_exporter": "python",
   "pygments_lexer": "ipython3",
   "version": "3.10.11"
  }
 },
 "nbformat": 4,
 "nbformat_minor": 5
}
