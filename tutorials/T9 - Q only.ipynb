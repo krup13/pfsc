{
 "cells": [
  {
   "cell_type": "markdown",
   "id": "869297e7-4a03-4160-8ecb-3df2fd4a0452",
   "metadata": {},
   "source": [
    "\n",
    "# Tutorial 9 - Intro to Parallel Programming using Python"
   ]
  },
  {
   "cell_type": "markdown",
   "id": "ad927f66-acb1-4728-9f6a-7ca5140718c8",
   "metadata": {},
   "source": [
    "\n",
    "### INFO - Use `multiprocess` package if youre using Jupyterlab/IPython, not `multiprocessing`. "
   ]
  },
  {
   "cell_type": "markdown",
   "id": "601c9ffe-b63e-463d-8dd2-f90218bd32b3",
   "metadata": {},
   "source": [
    "### Question 1 - Image Filter Processing\n",
    "\n",
    "Scenario:\n",
    "\n",
    "* You work as a data engineer at a photo analysis company. Part of your pipeline involves applying a grayscale filter to user-uploaded images before analysis.\n",
    "\n",
    "* The current implementation processes each image one at a time, which is too slow for large batches. You decide to speed this up using Python's multiprocessing module, as grayscale conversion is CPU-bound.\n",
    "\n",
    "* Your job is to apply the filter in parallel using `multiprocess`, compare it to the sequential method, and report performance improvements.\n",
    "\n",
    "\n",
    "\n",
    "Task:  \n",
    "1. Use the function apply_grayscale(image_path) to simulate grayscale processing.\n",
    "\n",
    "1. Create a list of 10 simulated image file paths.\n",
    "\n",
    "1. Use Python’s multiprocess.Pool to process them in parallel.\n",
    "\n",
    "1. Compare the time taken for sequential vs. parallel processing.\n",
    "\n",
    "1. Print your conclusion.\n",
    "\n",
    "\n",
    "Provided code snippet:\n",
    "\n",
    "```\n",
    "import time\n",
    "\n",
    "def apply_grayscale(image_path):\n",
    "    \"\"\"Simulates a CPU-bound grayscale filter (takes ~1 second).\"\"\"\n",
    "    print(f\"Processing {image_path}\")\n",
    "    time.sleep(1)  # Simulated CPU-bound delay\n",
    "    return f\"{image_path} processed\"\n",
    "\n",
    "\n",
    "```"
   ]
  },
  {
   "cell_type": "code",
   "execution_count": 3,
   "id": "e4dce9e7",
   "metadata": {},
   "outputs": [
    {
     "name": "stdout",
     "output_type": "stream",
     "text": [
      "Collecting multiprocess\n",
      "  Downloading multiprocess-0.70.18-py310-none-any.whl (134 kB)\n",
      "     ---------------------------------------- 0.0/134.9 kB ? eta -:--:--\n",
      "     ------------------------------- ------ 112.6/134.9 kB 6.8 MB/s eta 0:00:01\n",
      "     -------------------------------------- 134.9/134.9 kB 2.7 MB/s eta 0:00:00\n",
      "Collecting dill>=0.4.0\n",
      "  Downloading dill-0.4.0-py3-none-any.whl (119 kB)\n",
      "     ---------------------------------------- 0.0/119.7 kB ? eta -:--:--\n",
      "     -------------------------------------- 119.7/119.7 kB 3.5 MB/s eta 0:00:00\n",
      "Installing collected packages: dill, multiprocess\n",
      "Successfully installed dill-0.4.0 multiprocess-0.70.18\n",
      "Note: you may need to restart the kernel to use updated packages.\n"
     ]
    },
    {
     "name": "stderr",
     "output_type": "stream",
     "text": [
      "\n",
      "[notice] A new release of pip is available: 23.0.1 -> 25.1.1\n",
      "[notice] To update, run: python.exe -m pip install --upgrade pip\n"
     ]
    }
   ],
   "source": [
    "%pip install multiprocess"
   ]
  },
  {
   "cell_type": "code",
   "execution_count": 4,
   "id": "07c88a4b",
   "metadata": {},
   "outputs": [],
   "source": [
    "# Task 1: Use the function apply_grayscale(image_path) to simulate grayscale processing\n",
    "# (Function already provided above)\n",
    "import time\n",
    "import multiprocess as mp\n",
    "\n",
    "def apply_grayscale(image_path):\n",
    "    \"\"\"Simulates a CPU-bound grayscale filter (takes ~1 second).\"\"\"\n",
    "    print(f\"Processing {image_path}\")\n",
    "    time.sleep(1)  # Simulated CPU-bound delay\n",
    "    return f\"{image_path} processed\"\n",
    "\n"
   ]
  },
  {
   "cell_type": "code",
   "execution_count": 5,
   "id": "9df382f3-9e10-40c1-a967-b839071eefd4",
   "metadata": {},
   "outputs": [
    {
     "name": "stdout",
     "output_type": "stream",
     "text": [
      "Image paths: ['image_1.jpg', 'image_2.jpg', 'image_3.jpg', 'image_4.jpg', 'image_5.jpg', 'image_6.jpg', 'image_7.jpg', 'image_8.jpg', 'image_9.jpg', 'image_10.jpg']\n"
     ]
    }
   ],
   "source": [
    "# Task 2: Create a list of 10 simulated image file paths\n",
    "image_paths = [f\"image_{i}.jpg\" for i in range(1, 11)]\n",
    "print(f\"Image paths: {image_paths}\")"
   ]
  },
  {
   "cell_type": "code",
   "execution_count": 10,
   "id": "b4f905db",
   "metadata": {},
   "outputs": [
    {
     "name": "stdout",
     "output_type": "stream",
     "text": [
      "\n",
      "--- Parallel Processing ---\n"
     ]
    },
    {
     "ename": "NameError",
     "evalue": "name 'time' is not defined",
     "output_type": "error",
     "traceback": [
      "\u001b[1;31m---------------------------------------------------------------------------\u001b[0m",
      "\u001b[1;31mRemoteTraceback\u001b[0m                           Traceback (most recent call last)",
      "\u001b[1;31mRemoteTraceback\u001b[0m: \n\"\"\"\nTraceback (most recent call last):\n  File \"c:\\Users\\Khaira Nafisa\\AppData\\Local\\Programs\\Python\\Python310\\lib\\site-packages\\multiprocess\\pool.py\", line 125, in worker\n    result = (True, func(*args, **kwds))\n  File \"c:\\Users\\Khaira Nafisa\\AppData\\Local\\Programs\\Python\\Python310\\lib\\site-packages\\multiprocess\\pool.py\", line 48, in mapstar\n    return list(map(*args))\n  File \"C:\\Users\\Khaira Nafisa\\AppData\\Local\\Temp\\ipykernel_2420\\3506149078.py\", line 9, in apply_grayscale\nNameError: name 'time' is not defined\n\"\"\"",
      "\nThe above exception was the direct cause of the following exception:\n",
      "\u001b[1;31mNameError\u001b[0m                                 Traceback (most recent call last)",
      "Cell \u001b[1;32mIn[10], line 6\u001b[0m\n\u001b[0;32m      4\u001b[0m \u001b[38;5;28;01mif\u001b[39;00m \u001b[38;5;18m__name__\u001b[39m \u001b[38;5;241m==\u001b[39m \u001b[38;5;124m'\u001b[39m\u001b[38;5;124m__main__\u001b[39m\u001b[38;5;124m'\u001b[39m \u001b[38;5;129;01mor\u001b[39;00m \u001b[38;5;124m'\u001b[39m\u001b[38;5;124mipykernel\u001b[39m\u001b[38;5;124m'\u001b[39m \u001b[38;5;129;01min\u001b[39;00m \u001b[38;5;28mstr\u001b[39m(\u001b[38;5;28mtype\u001b[39m(get_ipython())):\n\u001b[0;32m      5\u001b[0m     \u001b[38;5;28;01mwith\u001b[39;00m mp\u001b[38;5;241m.\u001b[39mPool() \u001b[38;5;28;01mas\u001b[39;00m pool:\n\u001b[1;32m----> 6\u001b[0m         parallel_results \u001b[38;5;241m=\u001b[39m \u001b[43mpool\u001b[49m\u001b[38;5;241;43m.\u001b[39;49m\u001b[43mmap\u001b[49m\u001b[43m(\u001b[49m\u001b[43mapply_grayscale\u001b[49m\u001b[43m,\u001b[49m\u001b[43m \u001b[49m\u001b[43mimage_paths\u001b[49m\u001b[43m)\u001b[49m\n\u001b[0;32m      7\u001b[0m parallel_time \u001b[38;5;241m=\u001b[39m time\u001b[38;5;241m.\u001b[39mtime() \u001b[38;5;241m-\u001b[39m start_time\n\u001b[0;32m      8\u001b[0m \u001b[38;5;28mprint\u001b[39m(\u001b[38;5;124mf\u001b[39m\u001b[38;5;124m\"\u001b[39m\u001b[38;5;124mParallel processing took: \u001b[39m\u001b[38;5;132;01m{\u001b[39;00mparallel_time\u001b[38;5;132;01m:\u001b[39;00m\u001b[38;5;124m.2f\u001b[39m\u001b[38;5;132;01m}\u001b[39;00m\u001b[38;5;124m seconds\u001b[39m\u001b[38;5;124m\"\u001b[39m)\n",
      "File \u001b[1;32mc:\\Users\\Khaira Nafisa\\AppData\\Local\\Programs\\Python\\Python310\\lib\\site-packages\\multiprocess\\pool.py:367\u001b[0m, in \u001b[0;36mPool.map\u001b[1;34m(self, func, iterable, chunksize)\u001b[0m\n\u001b[0;32m    362\u001b[0m \u001b[38;5;28;01mdef\u001b[39;00m\u001b[38;5;250m \u001b[39m\u001b[38;5;21mmap\u001b[39m(\u001b[38;5;28mself\u001b[39m, func, iterable, chunksize\u001b[38;5;241m=\u001b[39m\u001b[38;5;28;01mNone\u001b[39;00m):\n\u001b[0;32m    363\u001b[0m \u001b[38;5;250m    \u001b[39m\u001b[38;5;124;03m'''\u001b[39;00m\n\u001b[0;32m    364\u001b[0m \u001b[38;5;124;03m    Apply `func` to each element in `iterable`, collecting the results\u001b[39;00m\n\u001b[0;32m    365\u001b[0m \u001b[38;5;124;03m    in a list that is returned.\u001b[39;00m\n\u001b[0;32m    366\u001b[0m \u001b[38;5;124;03m    '''\u001b[39;00m\n\u001b[1;32m--> 367\u001b[0m     \u001b[38;5;28;01mreturn\u001b[39;00m \u001b[38;5;28;43mself\u001b[39;49m\u001b[38;5;241;43m.\u001b[39;49m\u001b[43m_map_async\u001b[49m\u001b[43m(\u001b[49m\u001b[43mfunc\u001b[49m\u001b[43m,\u001b[49m\u001b[43m \u001b[49m\u001b[43miterable\u001b[49m\u001b[43m,\u001b[49m\u001b[43m \u001b[49m\u001b[43mmapstar\u001b[49m\u001b[43m,\u001b[49m\u001b[43m \u001b[49m\u001b[43mchunksize\u001b[49m\u001b[43m)\u001b[49m\u001b[38;5;241;43m.\u001b[39;49m\u001b[43mget\u001b[49m\u001b[43m(\u001b[49m\u001b[43m)\u001b[49m\n",
      "File \u001b[1;32mc:\\Users\\Khaira Nafisa\\AppData\\Local\\Programs\\Python\\Python310\\lib\\site-packages\\multiprocess\\pool.py:774\u001b[0m, in \u001b[0;36mApplyResult.get\u001b[1;34m(self, timeout)\u001b[0m\n\u001b[0;32m    772\u001b[0m     \u001b[38;5;28;01mreturn\u001b[39;00m \u001b[38;5;28mself\u001b[39m\u001b[38;5;241m.\u001b[39m_value\n\u001b[0;32m    773\u001b[0m \u001b[38;5;28;01melse\u001b[39;00m:\n\u001b[1;32m--> 774\u001b[0m     \u001b[38;5;28;01mraise\u001b[39;00m \u001b[38;5;28mself\u001b[39m\u001b[38;5;241m.\u001b[39m_value\n",
      "\u001b[1;31mNameError\u001b[0m: name 'time' is not defined"
     ]
    }
   ],
   "source": [
    "# Task 3: Use Python's multiprocess.Pool to process them in parallel\n",
    "print(\"\\n--- Parallel Processing ---\")\n",
    "start_time = time.time()\n",
    "if __name__ == '__main__' or 'ipykernel' in str(type(get_ipython())):\n",
    "    with mp.Pool() as pool:\n",
    "        parallel_results = pool.map(apply_grayscale, image_paths)\n",
    "parallel_time = time.time() - start_time\n",
    "print(f\"Parallel processing took: {parallel_time:.2f} seconds\")"
   ]
  },
  {
   "cell_type": "code",
   "execution_count": 11,
   "id": "9012f5c7",
   "metadata": {},
   "outputs": [
    {
     "name": "stdout",
     "output_type": "stream",
     "text": [
      "\n",
      "--- Sequential Processing ---\n",
      "Processing image_1.jpg\n",
      "Processing image_2.jpg\n",
      "Processing image_3.jpg\n",
      "Processing image_4.jpg\n",
      "Processing image_5.jpg\n",
      "Processing image_6.jpg\n",
      "Processing image_7.jpg\n",
      "Processing image_8.jpg\n",
      "Processing image_9.jpg\n",
      "Processing image_10.jpg\n",
      "Sequential processing took: 10.07 seconds\n"
     ]
    }
   ],
   "source": [
    "# Task 4: Compare the time taken for sequential vs. parallel processing\n",
    "\n",
    "# Sequential processing\n",
    "print(\"\\n--- Sequential Processing ---\")\n",
    "start_time = time.time()\n",
    "sequential_results = []\n",
    "for image_path in image_paths:\n",
    "    result = apply_grayscale(image_path)\n",
    "    sequential_results.append(result)\n",
    "sequential_time = time.time() - start_time\n",
    "print(f\"Sequential processing took: {sequential_time:.2f} seconds\")"
   ]
  },
  {
   "cell_type": "code",
   "execution_count": 12,
   "id": "273bc157",
   "metadata": {},
   "outputs": [
    {
     "name": "stdout",
     "output_type": "stream",
     "text": [
      "\n",
      "--- Performance Comparison ---\n"
     ]
    },
    {
     "ename": "NameError",
     "evalue": "name 'parallel_time' is not defined",
     "output_type": "error",
     "traceback": [
      "\u001b[1;31m---------------------------------------------------------------------------\u001b[0m",
      "\u001b[1;31mNameError\u001b[0m                                 Traceback (most recent call last)",
      "Cell \u001b[1;32mIn[12], line 3\u001b[0m\n\u001b[0;32m      1\u001b[0m \u001b[38;5;66;03m# Task 5: Print your conclusion\u001b[39;00m\n\u001b[0;32m      2\u001b[0m \u001b[38;5;28mprint\u001b[39m(\u001b[38;5;124m\"\u001b[39m\u001b[38;5;130;01m\\n\u001b[39;00m\u001b[38;5;124m--- Performance Comparison ---\u001b[39m\u001b[38;5;124m\"\u001b[39m)\n\u001b[1;32m----> 3\u001b[0m speedup \u001b[38;5;241m=\u001b[39m sequential_time \u001b[38;5;241m/\u001b[39m \u001b[43mparallel_time\u001b[49m\n\u001b[0;32m      4\u001b[0m \u001b[38;5;28mprint\u001b[39m(\u001b[38;5;124mf\u001b[39m\u001b[38;5;124m\"\u001b[39m\u001b[38;5;124mSequential time: \u001b[39m\u001b[38;5;132;01m{\u001b[39;00msequential_time\u001b[38;5;132;01m:\u001b[39;00m\u001b[38;5;124m.2f\u001b[39m\u001b[38;5;132;01m}\u001b[39;00m\u001b[38;5;124m seconds\u001b[39m\u001b[38;5;124m\"\u001b[39m)\n\u001b[0;32m      5\u001b[0m \u001b[38;5;28mprint\u001b[39m(\u001b[38;5;124mf\u001b[39m\u001b[38;5;124m\"\u001b[39m\u001b[38;5;124mParallel time: \u001b[39m\u001b[38;5;132;01m{\u001b[39;00mparallel_time\u001b[38;5;132;01m:\u001b[39;00m\u001b[38;5;124m.2f\u001b[39m\u001b[38;5;132;01m}\u001b[39;00m\u001b[38;5;124m seconds\u001b[39m\u001b[38;5;124m\"\u001b[39m)\n",
      "\u001b[1;31mNameError\u001b[0m: name 'parallel_time' is not defined"
     ]
    }
   ],
   "source": [
    "# Task 5: Print your conclusion\n",
    "print(\"\\n--- Performance Comparison ---\")\n",
    "speedup = sequential_time / parallel_time\n",
    "print(f\"Sequential time: {sequential_time:.2f} seconds\")\n",
    "print(f\"Parallel time: {parallel_time:.2f} seconds\")\n",
    "print(f\"Speedup: {speedup:.2f}x\")\n",
    "print(f\"Performance improvement: {((sequential_time - parallel_time) / sequential_time * 100):.1f}%\")\n",
    "\n",
    "print(\"\\n--- Conclusion ---\")\n",
    "print(f\"Parallel processing is {speedup:.2f} times faster than sequential processing.\")\n",
    "print(\"This demonstrates the effectiveness of multiprocessing for CPU-bound tasks like image processing.\")"
   ]
  },
  {
   "cell_type": "markdown",
   "id": "cc4a0729-9ad8-4456-b3a9-f89761fe0791",
   "metadata": {},
   "source": [
    "### Question 2 - Log File Analysis with Multiprocessing\n",
    "\n",
    "Scenario:  \n",
    "* You are a backend engineer at a cybersecurity company. Every day, your system generates log files that track user activity, errors, and suspicious behavior. Each file contains thousands of lines.\n",
    "\n",
    "* Your job is to scan each log file for suspicious activity (e.g., the keyword \"unauthorized access\"). This task is currently done sequentially and takes too long when scanning dozens of log files.\n",
    "\n",
    "* Your manager asks you to speed up the process using parallel programming.\n",
    "\n",
    "Task:\n",
    "\n",
    "1. Generate synthetic log files, each with 1,000 lines of random content.\n",
    "\n",
    "1. Insert the keyword \"unauthorized access\" randomly in some files.\n",
    "\n",
    "1. Write a function to scan a single log file for that keyword.\n",
    "\n",
    "1. Use multiproces to scan all files in parallel.\n",
    "\n",
    "1. Compare the execution time of sequential vs. parallel scanning.\n",
    "\n",
    "1. Report which files contain the keyword."
   ]
  },
  {
   "cell_type": "markdown",
   "id": "e0457fc3-771d-4ae5-a36e-19a2ad40bcbc",
   "metadata": {},
   "source": [
    "#### Provided code snippet\n",
    "\n",
    "```\n",
    "import random\n",
    "\n",
    "# Generate a synthetic log file\n",
    "def generate_log_file(num_lines=1000, keyword=\"unauthorized access\", inject=False):\n",
    "    lines = []\n",
    "    for _ in range(num_lines):\n",
    "        line = \"User login successful\" if random.random() > 0.01 else \"System error occurred\"\n",
    "        lines.append(line)\n",
    "    if inject:\n",
    "        index = random.randint(0, num_lines - 1)\n",
    "        lines[index] = f\"Alert: {keyword} detected from IP 192.168.0.{random.randint(1,255)}\"\n",
    "    return lines\n",
    "```"
   ]
  },
  {
   "cell_type": "markdown",
   "id": "ffa34263-b8be-4589-acad-7e4b08565354",
   "metadata": {},
   "source": [
    "Expected output:\n",
    "\n",
    "- List of files where \"unauthorized access\" is detected\n",
    "\n",
    "- Time taken for sequential and parallel processing\n",
    "\n",
    "- Performance conclusion"
   ]
  },
  {
   "cell_type": "code",
   "execution_count": 13,
   "id": "f69766e4-dc58-4fca-bf73-12a1665b8d58",
   "metadata": {},
   "outputs": [],
   "source": [
    "import random\n",
    "\n",
    "# Generate a synthetic log file\n",
    "def generate_log_file(num_lines=1000, keyword=\"unauthorized access\", inject=False):\n",
    "    lines = []\n",
    "    for _ in range(num_lines):\n",
    "        line = \"User login successful\" if random.random() > 0.01 else \"System error occurred\"\n",
    "        lines.append(line)\n",
    "    if inject:\n",
    "        index = random.randint(0, num_lines - 1)\n",
    "        lines[index] = f\"Alert: {keyword} detected from IP 192.168.0.{random.randint(1,255)}\"\n",
    "    return lines"
   ]
  },
  {
   "cell_type": "code",
   "execution_count": 14,
   "id": "d04a7538",
   "metadata": {},
   "outputs": [
    {
     "name": "stdout",
     "output_type": "stream",
     "text": [
      "Generated log files: ['logs\\\\log_1.txt', 'logs\\\\log_2.txt', 'logs\\\\log_3.txt', 'logs\\\\log_4.txt', 'logs\\\\log_5.txt', 'logs\\\\log_6.txt', 'logs\\\\log_7.txt', 'logs\\\\log_8.txt', 'logs\\\\log_9.txt', 'logs\\\\log_10.txt']\n"
     ]
    }
   ],
   "source": [
    "import os\n",
    "\n",
    "# Create multiple synthetic log files, randomly injecting the keyword\n",
    "\n",
    "log_dir = \"logs\"\n",
    "os.makedirs(log_dir, exist_ok=True)\n",
    "\n",
    "num_files = 10\n",
    "log_filenames = []\n",
    "for i in range(num_files):\n",
    "    inject = random.choice([True, False])  # Randomly decide to inject keyword\n",
    "    filename = os.path.join(log_dir, f\"log_{i+1}.txt\")\n",
    "    with open(filename, 'w') as f:\n",
    "        log_lines = generate_log_file(num_lines=1000, keyword=\"unauthorized access\", inject=inject)\n",
    "        for line in log_lines:\n",
    "            f.write(line + \"\\n\")\n",
    "    log_filenames.append(filename)\n",
    "print(f\"Generated log files: {log_filenames}\")\n"
   ]
  },
  {
   "cell_type": "code",
   "execution_count": 15,
   "id": "e9034230",
   "metadata": {},
   "outputs": [],
   "source": [
    "#Write function to scan single log file for keyword\n",
    "def scan_log_file(file_path, keyword=\"unauthorized access\"):\n",
    "    \"\"\"Scans a log file for a specific keyword.\"\"\"\n",
    "    with open(file_path, 'r') as f:\n",
    "        for line in f:\n",
    "            if keyword in line:\n",
    "                return True\n",
    "    return False"
   ]
  },
  {
   "cell_type": "code",
   "execution_count": null,
   "id": "faebc517",
   "metadata": {},
   "outputs": [],
   "source": [
    "#Use multiprocessing to scan all log files in parallel\n",
    "def scan_logs_in_parallel(log_files, keyword=\"unauthorized access\"):\n",
    "    \"\"\"Scans multiple log files in parallel for a specific keyword.\"\"\"\n",
    "    with mp.Pool() as pool:\n",
    "        results = pool.starmap(scan_log_file, [(file, keyword) for file in log_files])\n",
    "    return results"
   ]
  },
  {
   "cell_type": "code",
   "execution_count": null,
   "id": "0a8b6a5f",
   "metadata": {},
   "outputs": [],
   "source": [
    "#compare sequential vs parallel scanning\n",
    "def scan_logs_sequential(log_files, keyword=\"unauthorized access\"):\n",
    "    \"\"\"Scans multiple log files sequentially for a specific keyword.\"\"\"\n",
    "    results = []\n",
    "    for file in log_files:\n",
    "        result = scan_log_file(file, keyword)\n",
    "        results.append(result)\n",
    "    return results"
   ]
  },
  {
   "cell_type": "code",
   "execution_count": 16,
   "id": "4af4b840",
   "metadata": {},
   "outputs": [],
   "source": [
    "#report results\n",
    "def report_results(results, log_files):\n",
    "    \"\"\"Reports the results of the log scanning.\"\"\"\n",
    "    for file, found in zip(log_files, results):\n",
    "        status = \"Found\" if found else \"Not Found\"\n",
    "        print(f\"{file}: {status}\")"
   ]
  },
  {
   "cell_type": "code",
   "execution_count": null,
   "id": "8ee125ee",
   "metadata": {},
   "outputs": [],
   "source": [
    "#give the comparision of parallel vs sequential scanning\n",
    "def compare_scanning_methods(log_files, keyword=\"unauthorized access\"):\n",
    "    \"\"\"Compares parallel and sequential log scanning methods.\"\"\"\n",
    "    print(\"\\n--- Parallel Log Scanning ---\")\n",
    "    start_time = time.time()\n",
    "    parallel_results = scan_logs_in_parallel(log_files, keyword)\n",
    "    parallel_time = time.time() - start_time\n",
    "    report_results(parallel_results, log_files)\n",
    "    print(f\"Parallel scanning took: {parallel_time:.2f} seconds\")\n",
    "\n",
    "    print(\"\\n--- Sequential Log Scanning ---\")\n",
    "    start_time = time.time()\n",
    "    sequential_results = scan_logs_sequential(log_files, keyword)\n",
    "    sequential_time = time.time() - start_time\n",
    "    report_results(sequential_results, log_files)\n",
    "    print(f\"Sequential scanning took: {sequential_time:.2f} seconds\")\n",
    "\n",
    "    speedup = sequential_time / parallel_time\n",
    "    print(\"\\n--- Performance Comparison ---\")\n",
    "    print(f\"Sequential time: {sequential_time:.2f} seconds\")\n",
    "    print(f\"Parallel time: {parallel_time:.2f} seconds\")\n",
    "    print(f\"Speedup: {speedup:.2f}x\")\n",
    "    print(f\"Performance improvement: {((sequential_time - parallel_time) / sequential_time * 100):.1f}%\")"
   ]
  }
 ],
 "metadata": {
  "kernelspec": {
   "display_name": "Python 3",
   "language": "python",
   "name": "python3"
  },
  "language_info": {
   "codemirror_mode": {
    "name": "ipython",
    "version": 3
   },
   "file_extension": ".py",
   "mimetype": "text/x-python",
   "name": "python",
   "nbconvert_exporter": "python",
   "pygments_lexer": "ipython3",
   "version": "3.10.11"
  }
 },
 "nbformat": 4,
 "nbformat_minor": 5
}
