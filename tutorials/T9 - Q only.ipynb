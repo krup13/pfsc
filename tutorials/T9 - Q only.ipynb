{
 "cells": [
  {
   "cell_type": "markdown",
   "id": "869297e7-4a03-4160-8ecb-3df2fd4a0452",
   "metadata": {},
   "source": [
    "\n",
    "# Tutorial 9 - Intro to Parallel Programming using Python"
   ]
  },
  {
   "cell_type": "markdown",
   "id": "ad927f66-acb1-4728-9f6a-7ca5140718c8",
   "metadata": {},
   "source": [
    "\n",
    "### INFO - Use `multiprocess` package if youre using Jupyterlab/IPython, not `multiprocessing`. "
   ]
  },
  {
   "cell_type": "markdown",
   "id": "601c9ffe-b63e-463d-8dd2-f90218bd32b3",
   "metadata": {},
   "source": [
    "### Question 1 - Image Filter Processing\n",
    "\n",
    "Scenario:\n",
    "\n",
    "* You work as a data engineer at a photo analysis company. Part of your pipeline involves applying a grayscale filter to user-uploaded images before analysis.\n",
    "\n",
    "* The current implementation processes each image one at a time, which is too slow for large batches. You decide to speed this up using Python's multiprocessing module, as grayscale conversion is CPU-bound.\n",
    "\n",
    "* Your job is to apply the filter in parallel using `multiprocess`, compare it to the sequential method, and report performance improvements.\n",
    "\n",
    "\n",
    "\n",
    "Task:  \n",
    "1. Use the function apply_grayscale(image_path) to simulate grayscale processing.\n",
    "\n",
    "1. Create a list of 10 simulated image file paths.\n",
    "\n",
    "1. Use Python’s multiprocess.Pool to process them in parallel.\n",
    "\n",
    "1. Compare the time taken for sequential vs. parallel processing.\n",
    "\n",
    "1. Print your conclusion.\n",
    "\n",
    "\n",
    "Provided code snippet:\n",
    "\n",
    "```\n",
    "import time\n",
    "\n",
    "def apply_grayscale(image_path):\n",
    "    \"\"\"Simulates a CPU-bound grayscale filter (takes ~1 second).\"\"\"\n",
    "    print(f\"Processing {image_path}\")\n",
    "    time.sleep(1)  # Simulated CPU-bound delay\n",
    "    return f\"{image_path} processed\"\n",
    "\n",
    "\n",
    "```"
   ]
  },
  {
   "cell_type": "code",
   "execution_count": null,
   "id": "9df382f3-9e10-40c1-a967-b839071eefd4",
   "metadata": {},
   "outputs": [],
   "source": []
  },
  {
   "cell_type": "markdown",
   "id": "cc4a0729-9ad8-4456-b3a9-f89761fe0791",
   "metadata": {},
   "source": [
    "### Question 2 - Log File Analysis with Multiprocessing\n",
    "\n",
    "Scenario:  \n",
    "* You are a backend engineer at a cybersecurity company. Every day, your system generates log files that track user activity, errors, and suspicious behavior. Each file contains thousands of lines.\n",
    "\n",
    "* Your job is to scan each log file for suspicious activity (e.g., the keyword \"unauthorized access\"). This task is currently done sequentially and takes too long when scanning dozens of log files.\n",
    "\n",
    "* Your manager asks you to speed up the process using parallel programming.\n",
    "\n",
    "Task:\n",
    "\n",
    "1. Generate synthetic log files, each with 1,000 lines of random content.\n",
    "\n",
    "1. Insert the keyword \"unauthorized access\" randomly in some files.\n",
    "\n",
    "1. Write a function to scan a single log file for that keyword.\n",
    "\n",
    "1. Use multiproces to scan all files in parallel.\n",
    "\n",
    "1. Compare the execution time of sequential vs. parallel scanning.\n",
    "\n",
    "1. Report which files contain the keyword."
   ]
  },
  {
   "cell_type": "markdown",
   "id": "e0457fc3-771d-4ae5-a36e-19a2ad40bcbc",
   "metadata": {},
   "source": [
    "#### Provided code snippet\n",
    "\n",
    "```\n",
    "import random\n",
    "\n",
    "# Generate a synthetic log file\n",
    "def generate_log_file(num_lines=1000, keyword=\"unauthorized access\", inject=False):\n",
    "    lines = []\n",
    "    for _ in range(num_lines):\n",
    "        line = \"User login successful\" if random.random() > 0.01 else \"System error occurred\"\n",
    "        lines.append(line)\n",
    "    if inject:\n",
    "        index = random.randint(0, num_lines - 1)\n",
    "        lines[index] = f\"Alert: {keyword} detected from IP 192.168.0.{random.randint(1,255)}\"\n",
    "    return lines\n",
    "```"
   ]
  },
  {
   "cell_type": "markdown",
   "id": "ffa34263-b8be-4589-acad-7e4b08565354",
   "metadata": {},
   "source": [
    "Expected output:\n",
    "\n",
    "- List of files where \"unauthorized access\" is detected\n",
    "\n",
    "- Time taken for sequential and parallel processing\n",
    "\n",
    "- Performance conclusion"
   ]
  },
  {
   "cell_type": "code",
   "execution_count": null,
   "id": "f69766e4-dc58-4fca-bf73-12a1665b8d58",
   "metadata": {},
   "outputs": [],
   "source": []
  }
 ],
 "metadata": {
  "kernelspec": {
   "display_name": "Python 3 (ipykernel)",
   "language": "python",
   "name": "python3"
  },
  "language_info": {
   "codemirror_mode": {
    "name": "ipython",
    "version": 3
   },
   "file_extension": ".py",
   "mimetype": "text/x-python",
   "name": "python",
   "nbconvert_exporter": "python",
   "pygments_lexer": "ipython3",
   "version": "3.11.5"
  }
 },
 "nbformat": 4,
 "nbformat_minor": 5
}
