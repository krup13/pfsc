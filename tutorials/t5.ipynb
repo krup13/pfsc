{
 "cells": [
  {
   "cell_type": "markdown",
   "id": "89a5e520-a102-4078-ad89-3024aefd214d",
   "metadata": {},
   "source": [
    "### Tutorial 5 - Applied Machine Learning"
   ]
  },
  {
   "cell_type": "markdown",
   "id": "13d646c8-4d7b-41c0-942b-f6209aa30869",
   "metadata": {},
   "source": [
    "Packages to install: \n",
    "\n",
    "* `scikit-learn`"
   ]
  },
  {
   "cell_type": "markdown",
   "id": "c6e44ed3-2b82-44d0-9fa1-adabb31d68e3",
   "metadata": {},
   "source": [
    "### Question 1 - Classification\n",
    "\n",
    "We'll use the classic Iris flower dataset available in scikit-learn.  \n",
    "This data has features like Sepal length, Sepal width, Petal length, and Petal width, along with the target variable - the Iris flower species (Iris-setosa, Iris-versicolor, Iris-virginica). \n",
    "\n",
    "1. Import libraries\n",
    "2. Load data:\n",
    "\n",
    "```\n",
    "from sklearn.datasets import load_breast_cancer\n",
    "\n",
    "bc = load_breast_cancer()\n",
    "X = bc.data\n",
    "y = bc.target\n",
    "```\n",
    "\n",
    "3. Split the dataset into training/validation/testing(80/10/10%) using `train_test_split` function\n",
    "4. Initialize and train the SVM classifier\n",
    "5. Predict and check the score on the validation set\n",
    "6. Tune your SVM (hyper-parameters tuning) and\n",
    "7. Evaluate your final model using testing set\n",
    "8. Use `sklearn.metrics.confusion_matrix` to get the confusion matrix on the testing set\n",
    "9. Use `sklearn.metrics.ConfusionMatrixDisplay` to plot the confusion matrix on the testing set.\n",
    "10. Repeat the above steps (4 - onwards) with :\n",
    "    * Random Forest (`sklearn.ensemble.RandomForestClassifier`)\n",
    "    * Gradient Boosting (`sklearn.ensemble.GradientBoostingClassifier`) algorithm.\n",
    "11. Compare the score of each models to get the best one."
   ]
  },
  {
   "cell_type": "code",
   "execution_count": null,
   "id": "e7309d3d-4071-46ff-9ad8-0781f4337b04",
   "metadata": {},
   "outputs": [],
   "source": []
  },
  {
   "cell_type": "code",
   "execution_count": null,
   "id": "fd7a3308-9ce3-4c4a-8285-cb72d3e4abe0",
   "metadata": {},
   "outputs": [],
   "source": []
  },
  {
   "cell_type": "markdown",
   "id": "22c7c79c-d01e-4cc0-8bfe-3c8f68914c59",
   "metadata": {},
   "source": [
    "### Question 2 - Classification\n",
    "\n",
    "Similar to Question 1, but this time, use the iris dataset (easier).  \n",
    "\n",
    "```\n",
    "from sklearn.datasets import load_iris\n",
    "\n",
    "iris = load_iris()\n",
    "X = iris.data\n",
    "y = iris.target\n",
    "```\n",
    "\n",
    "Algorithms/Classifier to use:  \n",
    "  \n",
    "  * Decision Tree ( `sklearn.tree.DecisionTreeClassifier` )\n",
    "  * K-Nearest Neighbor ( `sklearn.neighbors.KNeighborsClassifier` )"
   ]
  },
  {
   "cell_type": "code",
   "execution_count": null,
   "id": "8bb3534e-58f3-4e71-8c28-876651f8b981",
   "metadata": {},
   "outputs": [],
   "source": []
  },
  {
   "cell_type": "code",
   "execution_count": null,
   "id": "46ba5b51-e660-4467-9b9a-1e00ae0c3f27",
   "metadata": {},
   "outputs": [],
   "source": []
  },
  {
   "cell_type": "markdown",
   "id": "dd1e7f03-b00e-4cb1-ad93-32e6cf12d308",
   "metadata": {},
   "source": [
    "### Question 3 - Regression\n",
    "\n",
    "Instead of classification, now lets do regression.\n",
    "We are using the diabetes data:  \n",
    "\n",
    "```\n",
    "from sklearn.datasets import load_diabetes\n",
    "\n",
    "db = load_diabetes()\n",
    "X = db.data\n",
    "y = db.target\n",
    "\n",
    "```\n",
    "\n",
    "Algoritmhs/Regressor to use:  \n",
    "\n",
    "* Support Vector Machine ( `sklearn.svm.SVR` )\n",
    "* Random Forest ( `sklearn.ensemble.RandomForestRegressor` )\n",
    "* Gradient Boosting ( `sklearn.ensemble.GradientBoostingRegressor` )"
   ]
  },
  {
   "cell_type": "code",
   "execution_count": null,
   "id": "e2b7a8a1-0e23-4cf7-ab60-b030cb51315b",
   "metadata": {},
   "outputs": [],
   "source": []
  },
  {
   "cell_type": "code",
   "execution_count": null,
   "id": "a9236e89-72a9-410c-8d9f-8ab2169064b5",
   "metadata": {},
   "outputs": [],
   "source": []
  }
 ],
 "metadata": {
  "kernelspec": {
   "display_name": "Python 3 (ipykernel)",
   "language": "python",
   "name": "python3"
  },
  "language_info": {
   "codemirror_mode": {
    "name": "ipython",
    "version": 3
   },
   "file_extension": ".py",
   "mimetype": "text/x-python",
   "name": "python",
   "nbconvert_exporter": "python",
   "pygments_lexer": "ipython3",
   "version": "3.11.8"
  }
 },
 "nbformat": 4,
 "nbformat_minor": 5
}
