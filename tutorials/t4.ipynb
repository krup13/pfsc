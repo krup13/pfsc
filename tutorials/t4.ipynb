{
 "cells": [
  {
   "cell_type": "markdown",
   "id": "b791759c-61b2-4dd6-a616-bffdada5d9ff",
   "metadata": {},
   "source": [
    "### Tutorial 4 - Statistical Analysis"
   ]
  },
  {
   "cell_type": "markdown",
   "id": "32c0d3bd-7826-4e8f-a9b5-6524a7065679",
   "metadata": {},
   "source": [
    "Packages to install: \n",
    "* `scipy`\n",
    "* `statsmodels`"
   ]
  },
  {
   "cell_type": "markdown",
   "id": "e846804b-eb40-464c-9650-e99c08f53193",
   "metadata": {},
   "source": [
    "### Question 1\n",
    "\n",
    "#### Descriptive Statistics\n",
    "\n",
    "1. Load the data below into a Pandas DataFrame.\n",
    "3. Compute the mean, median, and standard deviation of the \"exam_score\" column.\n",
    "4. Create a scatter plot to examine the relationship between \"study_hours\" and \"exam_score\".Add appropriate labels and a title to the plot.\n",
    "5. Compute the correlation coefficient between \"study_hours\" and \"exam_score\". Interpret the strength and direction of the correlation.\n",
    "6. Perform a one-sample t-test (**ttest_1samp**) to determine if the mean \"exam_score\" is significantly different from 75.\n",
    "Use a significance level of 0.05.\n",
    "\n",
    "```\n",
    "data = {\n",
    "'student_id':[1,2,3,4,5,6,7,8,9,10],\n",
    "'exam_score':[85,92,78,88,95,83,90,88,75,92],\n",
    "'study_hours':[6,8,4,7,9,5,7,6,3,8],\n",
    "'subject':['Math','Science','English','Math','Science','English','Math','Science','English','Math']\n",
    "}\n",
    "```"
   ]
  },
  {
   "cell_type": "code",
   "execution_count": null,
   "id": "269192c6-ddad-49d4-95eb-a5df1815a119",
   "metadata": {},
   "outputs": [],
   "source": []
  },
  {
   "cell_type": "code",
   "execution_count": null,
   "id": "06cacf67-e75e-4709-818a-1ae54b88d07d",
   "metadata": {},
   "outputs": [],
   "source": []
  },
  {
   "cell_type": "markdown",
   "id": "581ee87d-e10f-4458-84eb-47923ae18d6a",
   "metadata": {},
   "source": [
    "### Question 2\n",
    "\n",
    "#### Two sample t-test\n",
    "\n",
    "1. Load the data into a dataframe, which contains information about a marketing campaign.\n",
    "2. Perform a two-sample t-test to determine if there is a significant difference in the average amount spent by customers between two different marketing channels (\"Channel_A\" and \"Channel_B\").\n",
    "3. Create a bar plot to visualize the average amount spent by customers for each channel.\n",
    "Interpret the results of the t-test and the bar plot.\n",
    "\n",
    "Data:  \n",
    "```\n",
    "data = {\n",
    "'Customer_ID':[1,2,3,4,5,6,7,8,9,10],\n",
    "'Amount_Spent':[50.25,75.5,60.75,80,55.25,90.5,65,70.75,85.25,95],\n",
    "'Marketing_Channel':['Channel_A','Channel_B','Channel_A','Channel_B','Channel_A','Channel_B','Channel_A','Channel_B','Channel_A','Channel_B']\n",
    "}\n",
    "```"
   ]
  },
  {
   "cell_type": "code",
   "execution_count": 1,
   "id": "d30214c7",
   "metadata": {},
   "outputs": [
    {
     "data": {
      "text/html": [
       "<div>\n",
       "<style scoped>\n",
       "    .dataframe tbody tr th:only-of-type {\n",
       "        vertical-align: middle;\n",
       "    }\n",
       "\n",
       "    .dataframe tbody tr th {\n",
       "        vertical-align: top;\n",
       "    }\n",
       "\n",
       "    .dataframe thead th {\n",
       "        text-align: right;\n",
       "    }\n",
       "</style>\n",
       "<table border=\"1\" class=\"dataframe\">\n",
       "  <thead>\n",
       "    <tr style=\"text-align: right;\">\n",
       "      <th></th>\n",
       "      <th>Customer_ID</th>\n",
       "      <th>Amount_Spent</th>\n",
       "      <th>Marketing_Channel</th>\n",
       "    </tr>\n",
       "  </thead>\n",
       "  <tbody>\n",
       "    <tr>\n",
       "      <th>0</th>\n",
       "      <td>1</td>\n",
       "      <td>50.25</td>\n",
       "      <td>Channel_A</td>\n",
       "    </tr>\n",
       "    <tr>\n",
       "      <th>1</th>\n",
       "      <td>2</td>\n",
       "      <td>75.50</td>\n",
       "      <td>Channel_B</td>\n",
       "    </tr>\n",
       "    <tr>\n",
       "      <th>2</th>\n",
       "      <td>3</td>\n",
       "      <td>60.75</td>\n",
       "      <td>Channel_A</td>\n",
       "    </tr>\n",
       "    <tr>\n",
       "      <th>3</th>\n",
       "      <td>4</td>\n",
       "      <td>80.00</td>\n",
       "      <td>Channel_B</td>\n",
       "    </tr>\n",
       "    <tr>\n",
       "      <th>4</th>\n",
       "      <td>5</td>\n",
       "      <td>55.25</td>\n",
       "      <td>Channel_A</td>\n",
       "    </tr>\n",
       "    <tr>\n",
       "      <th>5</th>\n",
       "      <td>6</td>\n",
       "      <td>90.50</td>\n",
       "      <td>Channel_B</td>\n",
       "    </tr>\n",
       "    <tr>\n",
       "      <th>6</th>\n",
       "      <td>7</td>\n",
       "      <td>65.00</td>\n",
       "      <td>Channel_A</td>\n",
       "    </tr>\n",
       "    <tr>\n",
       "      <th>7</th>\n",
       "      <td>8</td>\n",
       "      <td>70.75</td>\n",
       "      <td>Channel_B</td>\n",
       "    </tr>\n",
       "    <tr>\n",
       "      <th>8</th>\n",
       "      <td>9</td>\n",
       "      <td>85.25</td>\n",
       "      <td>Channel_A</td>\n",
       "    </tr>\n",
       "    <tr>\n",
       "      <th>9</th>\n",
       "      <td>10</td>\n",
       "      <td>95.00</td>\n",
       "      <td>Channel_B</td>\n",
       "    </tr>\n",
       "  </tbody>\n",
       "</table>\n",
       "</div>"
      ],
      "text/plain": [
       "   Customer_ID  Amount_Spent Marketing_Channel\n",
       "0            1         50.25         Channel_A\n",
       "1            2         75.50         Channel_B\n",
       "2            3         60.75         Channel_A\n",
       "3            4         80.00         Channel_B\n",
       "4            5         55.25         Channel_A\n",
       "5            6         90.50         Channel_B\n",
       "6            7         65.00         Channel_A\n",
       "7            8         70.75         Channel_B\n",
       "8            9         85.25         Channel_A\n",
       "9           10         95.00         Channel_B"
      ]
     },
     "execution_count": 1,
     "metadata": {},
     "output_type": "execute_result"
    }
   ],
   "source": [
    "import pandas as pd\n",
    "\n",
    "# Create the dataframe from the provided data\n",
    "data = {\n",
    "    'Customer_ID': [1, 2, 3, 4, 5, 6, 7, 8, 9, 10],\n",
    "    'Amount_Spent': [50.25, 75.5, 60.75, 80, 55.25, 90.5, 65, 70.75, 85.25, 95],\n",
    "    'Marketing_Channel': ['Channel_A', 'Channel_B', 'Channel_A', 'Channel_B', 'Channel_A', 'Channel_B', 'Channel_A', 'Channel_B', 'Channel_A', 'Channel_B']\n",
    "}\n",
    "\n",
    "df_marketing = pd.DataFrame(data)\n",
    "\n",
    "# Display the dataframe\n",
    "df_marketing"
   ]
  },
  {
   "cell_type": "code",
   "execution_count": null,
   "id": "64fbe3fa",
   "metadata": {},
   "outputs": [],
   "source": [
    "%pip install matplotlib"
   ]
  },
  {
   "cell_type": "code",
   "execution_count": 13,
   "id": "a0113c07",
   "metadata": {},
   "outputs": [
    {
     "name": "stdout",
     "output_type": "stream",
     "text": [
      "Channel A mean spending: $63.30\n",
      "Channel B mean spending: $82.35\n",
      "t-statistic: -2.5235\n",
      "p-value: 0.0356\n",
      "\n",
      "Interpretation:\n",
      "There is a significant difference in spending between the two channels (p < 0.05)\n"
     ]
    }
   ],
   "source": [
    "from scipy import stats\n",
    "import numpy as np\n",
    "import matplotlib.pyplot as plt\n",
    "\n",
    "# Group data by marketing channel\n",
    "channel_a = df_marketing[df_marketing['Marketing_Channel'] == 'Channel_A']['Amount_Spent']\n",
    "channel_b = df_marketing[df_marketing['Marketing_Channel'] == 'Channel_B']['Amount_Spent']\n",
    "\n",
    "# Perform two-sample t-test\n",
    "t_stat, p_value = stats.ttest_ind(channel_a, channel_b)\n",
    "\n",
    "# Calculate means for interpretation\n",
    "mean_a = channel_a.mean()\n",
    "mean_b = channel_b.mean()\n",
    "\n",
    "# Print results\n",
    "print(f\"Channel A mean spending: ${mean_a:.2f}\")\n",
    "print(f\"Channel B mean spending: ${mean_b:.2f}\")\n",
    "print(f\"t-statistic: {t_stat:.4f}\")\n",
    "print(f\"p-value: {p_value:.4f}\")\n",
    "print(\"\\nInterpretation:\")\n",
    "if p_value < 0.05:\n",
    "    print(\"There is a significant difference in spending between the two channels (p < 0.05)\")\n",
    "else:\n",
    "    print(\"There is no significant difference in spending between the two channels (p >= 0.05)\")\n"
   ]
  },
  {
   "cell_type": "code",
   "execution_count": 18,
   "id": "9364ed93-2434-46c9-b1b3-f999a7aa01e2",
   "metadata": {},
   "outputs": [
    {
     "data": {
      "image/png": "[encoded data removed]",
      "text/plain": [
       "<Figure size 1000x600 with 1 Axes>"
      ]
     },
     "metadata": {},
     "output_type": "display_data"
    },
    {
     "name": "stdout",
     "output_type": "stream",
     "text": [
      "\n",
      "Interpretation of Results:\n",
      "1. Channel B shows significantly higher average spending ($82.35) compared to Channel A ($63.30).\n",
      "2. The p-value of 0.0356 is less than 0.05, confirming the difference is statistically significant.\n",
      "3. The error bars (standard deviations) show some variability in spending within each channel.\n",
      "4. Marketing Channel B appears to be more effective at generating higher customer spending.\n"
     ]
    }
   ],
   "source": [
    "# Create bar plot\n",
    "plt.figure(figsize=(10, 6))\n",
    "channels = ['Channel A', 'Channel B']\n",
    "means = [mean_a, mean_b]\n",
    "bars = plt.bar(channels, means, color=['skyblue', 'lightgreen'])\n",
    "\n",
    "# Add error bars (standard deviation)\n",
    "std_dev = [channel_a.std(), channel_b.std()]\n",
    "plt.errorbar(channels, means, yerr=std_dev, fmt='none', color='black', capsize=5)\n",
    "\n",
    "# Add labels and title\n",
    "plt.ylabel('Average Amount Spent ($)')\n",
    "plt.title('Average Customer Spending by Marketing Channel')\n",
    "plt.grid(axis='y', linestyle='--', alpha=0.7)\n",
    "\n",
    "# Add values on top of each bar\n",
    "for bar, mean in zip(bars, means):\n",
    "    plt.text(bar.get_x() + bar.get_width()/2, mean + 1, f'${mean:.2f}', \n",
    "             ha='center', va='bottom', fontweight='bold')\n",
    "\n",
    "# Add annotation about statistical significance\n",
    "plt.annotate(f'p-value = {p_value:.4f} (significant at α=0.05)', \n",
    "             xy=(0.5, 0.95), xycoords='figure fraction',\n",
    "             ha='center', fontsize=11, bbox=dict(boxstyle=\"round,pad=0.3\", fc=\"white\", alpha=0.8))\n",
    "\n",
    "plt.tight_layout()\n",
    "plt.show()\n",
    "\n",
    "# Interpretation of results\n",
    "print(\"\\nInterpretation of Results:\")\n",
    "print(\"1. Channel B shows significantly higher average spending ($82.35) compared to Channel A ($63.30).\")\n",
    "print(\"2. The p-value of 0.0356 is less than 0.05, confirming the difference is statistically significant.\")\n",
    "print(\"3. The error bars (standard deviations) show some variability in spending within each channel.\")\n",
    "print(\"4. Marketing Channel B appears to be more effective at generating higher customer spending.\")"
   ]
  },
  {
   "cell_type": "markdown",
   "id": "0d8d2f50-333b-4fd4-bf3e-3ae9e46e1cff",
   "metadata": {},
   "source": [
    "### Question 3"
   ]
  },
  {
   "cell_type": "markdown",
   "id": "a740e878-9680-4bb7-990b-7c71bb5c8463",
   "metadata": {},
   "source": [
    "1. Fit a simple linear regression model to predict \"exam_score\" based on \"study_hours\". Use OLS package by `statsmodels` to fit an OLS model.  \n",
    "   Before fitting, please add the y-intercept using the `sm.add_constant()` function.  \n",
    "4. Interpret the coefficients and assess the model's goodness of fit.\n",
    "5. Do a scatter plot for both variables\n",
    "6. Visualize the regression line on a scatter plot.\n",
    "\n",
    "```\n",
    "data = {\n",
    "'student_id':[1,2,3,4,5,6,7,8,9,10],\n",
    "'exam_score':[85,92,78,88,95,83,90,88,75,92],\n",
    "'study_hours':[6,8,4,7,9,5,7,6,3,8],\n",
    "'subject':['Math','Science','English','Math','Science','English','Math','Science','English','Math']\n",
    "}\n",
    "```"
   ]
  },
  {
   "cell_type": "code",
   "execution_count": null,
   "id": "a7b7cff8-f134-4928-923c-873363e70803",
   "metadata": {},
   "outputs": [],
   "source": [
    "import pandas as pd\n",
    "\n",
    "data_exam = {\n",
    "'student_id':[1,2,3,4,5,6,7,8,9,10],\n",
    "'exam_score':[85,92,78,88,95,83,90,88,75,92],\n",
    "'study_hours':[6,8,4,7,9,5,7,6,3,8],\n",
    "'subject':['Math','Science','English','Math','Science','English','Math','Science','English','Math']\n",
    "}\n"
   ]
  },
  {
   "cell_type": "code",
   "execution_count": null,
   "id": "3d70096f-7bf5-428c-8010-12cb97a2bc45",
   "metadata": {},
   "outputs": [],
   "source": []
  },
  {
   "cell_type": "markdown",
   "id": "cc53966a-76ec-429d-84f9-b2f770184a10",
   "metadata": {},
   "source": [
    "### Question 4\n",
    "\n",
    "#### Analysis of Variance (ANOVA)\n",
    "\n",
    "1. Import the data into a dataframe\n",
    "2. Groupby the data based on subject\n",
    "3. Conduct a one-way ANOVA to compare the mean \"exam_score\" across different \"subject\" categories.  \n",
    "4. Determine if there are significant differences in exam scores among the subjects.  \n",
    "5. Use boxplot to visualize the exam scores by subject\n",
    "\n",
    "Use the data below:  \n",
    "\n",
    "```\n",
    "data = {\n",
    "'student_id':[1,2,3,4,5,6,7,8,9,10],\n",
    "'exam_score':[85,92,78,88,95,83,90,88,75,92],\n",
    "'study_hours':[6,8,4,7,9,5,7,6,3,8],\n",
    "'subject':['Math','Science','English','Math','Science','English','Math','Science','English','Math']\n",
    "}\n",
    "```\n"
   ]
  },
  {
   "cell_type": "code",
   "execution_count": 22,
   "id": "f0aa3636-6f6d-43ac-a338-6b9b3a4a918f",
   "metadata": {},
   "outputs": [],
   "source": [
    "import pandas as pd\n",
    "\n",
    "data_anova = {\n",
    "'student_id':[1,2,3,4,5,6,7,8,9,10],\n",
    "'exam_score':[85,92,78,88,95,83,90,88,75,92],\n",
    "'study_hours':[6,8,4,7,9,5,7,6,3,8],\n",
    "'subject':['Math','Science','English','Math','Science','English','Math','Science','English','Math']\n",
    "}\n",
    "\n",
    "df_anova = pd.DataFrame(data_anova)"
   ]
  },
  {
   "cell_type": "code",
   "execution_count": null,
   "id": "7f8622c5",
   "metadata": {},
   "outputs": [],
   "source": [
    "doc = doc[doc for doc in df_anova]"
   ]
  },
  {
   "cell_type": "code",
   "execution_count": null,
   "id": "eed40e64",
   "metadata": {},
   "outputs": [],
   "source": [
    "eng= doc[0][1]\n",
    "math= doc[1][1]\n",
    "science= doc[2][1]"
   ]
  },
  {
   "cell_type": "code",
   "execution_count": 29,
   "id": "52c2a493",
   "metadata": {},
   "outputs": [],
   "source": [
    "import scipy as sc"
   ]
  },
  {
   "cell_type": "code",
   "execution_count": null,
   "id": "0dd97340",
   "metadata": {},
   "outputs": [],
   "source": [
    "sc.stats.f_oneway(eng['exam_score'],\n",
    "                  math['exam_score'],\n",
    "                  science['exam_score'])"
   ]
  },
  {
   "cell_type": "code",
   "execution_count": null,
   "id": "c20c974d",
   "metadata": {},
   "outputs": [],
   "source": [
    "plt.boxplot()"
   ]
  }
 ],
 "metadata": {
  "kernelspec": {
   "display_name": "Python 3",
   "language": "python",
   "name": "python3"
  },
  "language_info": {
   "codemirror_mode": {
    "name": "ipython",
    "version": 3
   },
   "file_extension": ".py",
   "mimetype": "text/x-python",
   "name": "python",
   "nbconvert_exporter": "python",
   "pygments_lexer": "ipython3",
   "version": "3.10.11"
  }
 },
 "nbformat": 4,
 "nbformat_minor": 5
}
