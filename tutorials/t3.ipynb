{
 "cells": [
  {
   "cell_type": "markdown",
   "id": "b791759c-61b2-4dd6-a616-bffdada5d9ff",
   "metadata": {},
   "source": [
    "### Tutorial 3 - Data Manipulation and Visualization"
   ]
  },
  {
   "cell_type": "markdown",
   "id": "32c0d3bd-7826-4e8f-a9b5-6524a7065679",
   "metadata": {},
   "source": [
    "Packages to install: \n",
    "* `pandas`\n",
    "* `matplotlib`\n",
    "* `plotly`"
   ]
  },
  {
   "cell_type": "markdown",
   "id": "e846804b-eb40-464c-9650-e99c08f53193",
   "metadata": {},
   "source": [
    "### Question 1\n",
    "\n",
    "Based on the data below, do the following:  \n",
    "\n",
    "```\n",
    "# Sample data for df1\n",
    "data1 = {\n",
    "    'user_id': [1, 2, 3],\n",
    "    'name': ['Alice', 'Bob', 'Charlie']\n",
    "}\n",
    "\n",
    "# Sample data for df2\n",
    "data2 = {\n",
    "    'user_id': [2, 3, 4],\n",
    "    'age': [25, 30, 35]\n",
    "}\n",
    "```\n",
    "    \n",
    "1. Import necessary libraries\n",
    "2. Load the data into a dataframe\n",
    "3. Concatenate the dataframes (vertically)\n",
    "4. Concatenate the dataframes (horizontally)\n",
    "5. Merge the dataframes on the column `user_id` using inner join.\n",
    "6. Join the dataframes with `user_id` as the index. This time, do an outer join."
   ]
  },
  {
   "cell_type": "code",
   "execution_count": null,
   "id": "43f909c9-378b-4f83-a989-e3d36fb3e4dd",
   "metadata": {},
   "outputs": [],
   "source": [
    "import pandas as pd\n",
    "import numpy as np\n",
    "\n",
    "# Sample data for df1\n",
    "data1 = {\n",
    "    'user_id': [1, 2, 3],\n",
    "    'name': ['Alice', 'Bob', 'Charlie']\n",
    "}\n",
    "\n",
    "# Sample data for df2\n",
    "data2 = {\n",
    "    'user_id': [2, 3, 4],\n",
    "    'age': [25, 30, 35]\n",
    "}"
   ]
  },
  {
   "cell_type": "markdown",
   "id": "def13b93-5342-461f-95b9-d12299468aa7",
   "metadata": {},
   "source": [
    "### Question 2\n",
    "\n",
    "Based on the data below, do the following:  \n",
    "\n",
    "```\n",
    "grades = {\n",
    "    'StudentID': ['S1', 'S2', 'S3'],\n",
    "    'Math': [88, 75, 92],\n",
    "    'Science': [84, 88, 93]\n",
    "}\n",
    "\n",
    "more_grades = {\n",
    "    'StudentID': ['S2', 'S3', 'S4'],\n",
    "    'Literature': [78, 85, 88],\n",
    "    'Art': [82, 90, 85]\n",
    "}\n",
    "\n",
    "activities = {\n",
    "    'StudentID': ['S1', 'S2', 'S4'],\n",
    "    'Club': ['Robotics', 'Math Club', 'Art Club']\n",
    "}\n",
    "```\n",
    "    \n",
    "1. Import necessary libraries\n",
    "2. Load the data into a dataframe\n",
    "3. Append `grades` and `more_grades` row-wise.\n",
    "4. Merge `grades` and `activities` on `StudentID` to see grades and club participation.\n",
    "5. Use join() to merge `grades` and `activities` based on `StudentID` column as index."
   ]
  },
  {
   "cell_type": "code",
   "execution_count": null,
   "id": "404eaad2-3496-4040-9e79-4121c3d84c40",
   "metadata": {},
   "outputs": [],
   "source": [
    "import pandas as pd\n",
    "\n",
    "grades = pd.DataFrame({\n",
    "    'StudentID': ['S1', 'S2', 'S3'],\n",
    "    'Math': [88, 75, 92],\n",
    "    'Science': [84, 88, 93]\n",
    "})\n",
    "\n",
    "more_grades = pd.DataFrame({\n",
    "    'StudentID': ['S2', 'S3', 'S4'],\n",
    "    'Literature': [78, 85, 88],\n",
    "    'Art': [82, 90, 85]\n",
    "})\n",
    "\n",
    "activities = pd.DataFrame({\n",
    "    'StudentID': ['S1', 'S2', 'S4'],\n",
    "    'Club': ['Robotics', 'Math Club', 'Art Club']\n",
    "})"
   ]
  },
  {
   "cell_type": "code",
   "execution_count": null,
   "id": "9b502693",
   "metadata": {},
   "outputs": [],
   "source": [
    "appended = pd.concat([grades, more_grades])\n",
    "appended"
   ]
  },
  {
   "cell_type": "code",
   "execution_count": null,
   "id": "4565d8bb",
   "metadata": {},
   "outputs": [],
   "source": [
    "merge1 = pd.merge(grades, activities, on = 'StudentID', how = 'inner')\n",
    "merge1"
   ]
  },
  {
   "cell_type": "code",
   "execution_count": null,
   "id": "7b59e542",
   "metadata": {},
   "outputs": [],
   "source": [
    "new_grades = grades.set_index('StudentID')\n",
    "new_activities = activities.set_index('StudentID')"
   ]
  },
  {
   "cell_type": "code",
   "execution_count": null,
   "id": "29d19845",
   "metadata": {},
   "outputs": [],
   "source": [
    "new_grades.join(new_activities)"
   ]
  },
  {
   "cell_type": "markdown",
   "id": "10c81816-4f5e-4178-ba0a-c20af87f4599",
   "metadata": {},
   "source": [
    "### Question 3\n",
    "\n",
    "Based on the data below, do the following:  \n",
    "```\n",
    "months = range(1, 13)\n",
    "sales = [142, 150, 157, 169, 200, 210, 218, 230, 241, 260, 275, 291]\n",
    "profits = [25, 28, 34, 31, 40, 45, 48, 50, 54, 60, 65, 70]\n",
    "```\n",
    "1. Generate a plot to see the trend of sales over the year\n",
    "2. Compare the sales data with the profit data over the same period.\n",
    "3. Create a bar chart to visualize the comparison between sales and profits more clearly."
   ]
  },
  {
   "cell_type": "code",
   "execution_count": null,
   "id": "1994256c-30b2-427d-8a39-7624569f74f2",
   "metadata": {},
   "outputs": [],
   "source": []
  },
  {
   "cell_type": "markdown",
   "id": "2eb91cfd-bdb2-4793-a22f-e05f61106dc3",
   "metadata": {},
   "source": [
    "### Question 4\n",
    "\n",
    "The dataset consists of monthly Air Quality Index (AQI) values for four cities over one year, structured as follows:\n",
    "\n",
    "Months of the year (January to December):  \n",
    "AQI for City A  \n",
    "AQI for City B   \n",
    "AQI for City C  \n",
    "AQI for City D  \n",
    "\n",
    "Based on the data below:\n",
    "\n",
    "```\n",
    "import numpy as np\n",
    "\n",
    "months = np.array([\"January\", \"February\", \"March\", \"April\", \"May\", \"June\", \n",
    "                   \"July\", \"August\", \"September\", \"October\", \"November\", \"December\"])\n",
    "aqi_city_a = np.random.randint(50, 150, size=12)\n",
    "aqi_city_b = np.random.randint(60, 160, size=12)\n",
    "aqi_city_c = np.random.randint(40, 140, size=12)\n",
    "aqi_city_d = np.random.randint(70, 170, size=12)\n",
    "```\n",
    "\n",
    "1. Plot a line graph for comparison of AQI trends across all cities\n",
    "2. Generate a scatter plot to compare AQI values of City A vs City B\n",
    "3. Plot a histogram of AQI for City A\n",
    "4. Create a Bar Chart for comparing the average AQI across cities. The bar chart must be in sky blue color.\n",
    "5. Place all the graphs in a (2 x 2) canvas figure.\n",
    "6. Save the figure as \"combine.png\"\n",
    "\n",
    "Note: Make sure figsize of the image is (10,6)  \n",
    "Note: Use ggplot style template"
   ]
  },
  {
   "cell_type": "code",
   "execution_count": null,
   "id": "e717bad6-2b4b-46c3-a2bf-e3cf409673ba",
   "metadata": {},
   "outputs": [],
   "source": [
    "import numpy as np\n",
    "\n",
    "months = np.array([\"January\", \"February\", \"March\", \"April\", \"May\", \"June\", \n",
    "                   \"July\", \"August\", \"September\", \"October\", \"November\", \"December\"])\n",
    "aqi_city_a = np.random.randint(50, 150, size=12)\n",
    "aqi_city_b = np.random.randint(60, 160, size=12)\n",
    "aqi_city_c = np.random.randint(40, 140, size=12)\n",
    "aqi_city_d = np.random.randint(70, 170, size=12)"
   ]
  },
  {
   "cell_type": "code",
   "execution_count": 19,
   "id": "b89f25ef",
   "metadata": {},
   "outputs": [
    {
     "ename": "AttributeError",
     "evalue": "module 'matplotlib' has no attribute 'figure'",
     "output_type": "error",
     "traceback": [
      "\u001b[1;31m---------------------------------------------------------------------------\u001b[0m",
      "\u001b[1;31mAttributeError\u001b[0m                            Traceback (most recent call last)",
      "Cell \u001b[1;32mIn[19], line 3\u001b[0m\n\u001b[0;32m      1\u001b[0m \u001b[38;5;28;01mimport\u001b[39;00m \u001b[38;5;21;01mmatplotlib\u001b[39;00m \u001b[38;5;28;01mas\u001b[39;00m \u001b[38;5;21;01mplt\u001b[39;00m\n\u001b[1;32m----> 3\u001b[0m fig1 \u001b[38;5;241m=\u001b[39m \u001b[43mplt\u001b[49m\u001b[38;5;241;43m.\u001b[39;49m\u001b[43mfigure\u001b[49m(figsize\u001b[38;5;241m=\u001b[39m(\u001b[38;5;241m20\u001b[39m,\u001b[38;5;241m20\u001b[39m))\n\u001b[0;32m      5\u001b[0m plt\u001b[38;5;241m.\u001b[39mplot(months, aqi_city_a, marker\u001b[38;5;241m=\u001b[39m\u001b[38;5;124m'\u001b[39m\u001b[38;5;124mx\u001b[39m\u001b[38;5;124m'\u001b[39m, linestyle\u001b[38;5;241m=\u001b[39m\u001b[38;5;124m'\u001b[39m\u001b[38;5;124m-\u001b[39m\u001b[38;5;124m'\u001b[39m, colour\u001b[38;5;241m=\u001b[39m\u001b[38;5;124m'\u001b[39m\u001b[38;5;124mpink\u001b[39m\u001b[38;5;124m'\u001b[39m, label\u001b[38;5;241m=\u001b[39m\u001b[38;5;124m'\u001b[39m\u001b[38;5;124mcity a\u001b[39m\u001b[38;5;124m'\u001b[39m)\n",
      "File \u001b[1;32mc:\\Users\\Khaira Nafisa\\AppData\\Local\\Programs\\Python\\Python311\\Lib\\site-packages\\matplotlib\\_api\\__init__.py:218\u001b[0m, in \u001b[0;36mcaching_module_getattr.<locals>.__getattr__\u001b[1;34m(name)\u001b[0m\n\u001b[0;32m    216\u001b[0m \u001b[38;5;28;01mif\u001b[39;00m name \u001b[38;5;129;01min\u001b[39;00m props:\n\u001b[0;32m    217\u001b[0m     \u001b[38;5;28;01mreturn\u001b[39;00m props[name]\u001b[38;5;241m.\u001b[39m\u001b[38;5;21m__get__\u001b[39m(instance)\n\u001b[1;32m--> 218\u001b[0m \u001b[38;5;28;01mraise\u001b[39;00m \u001b[38;5;167;01mAttributeError\u001b[39;00m(\n\u001b[0;32m    219\u001b[0m     \u001b[38;5;124mf\u001b[39m\u001b[38;5;124m\"\u001b[39m\u001b[38;5;124mmodule \u001b[39m\u001b[38;5;132;01m{\u001b[39;00m\u001b[38;5;28mcls\u001b[39m\u001b[38;5;241m.\u001b[39m\u001b[38;5;18m__module__\u001b[39m\u001b[38;5;132;01m!r}\u001b[39;00m\u001b[38;5;124m has no attribute \u001b[39m\u001b[38;5;132;01m{\u001b[39;00mname\u001b[38;5;132;01m!r}\u001b[39;00m\u001b[38;5;124m\"\u001b[39m)\n",
      "\u001b[1;31mAttributeError\u001b[0m: module 'matplotlib' has no attribute 'figure'"
     ]
    }
   ],
   "source": [
    "import matplotlib as plt\n",
    "\n",
    "fig1 = plt.figure(figsize=(20,20))\n",
    "\n",
    "plt.plot(months, aqi_city_a, marker='x', linestyle='-', colour='pink', label='city a')"
   ]
  },
  {
   "cell_type": "markdown",
   "id": "eb94e0db-e0df-40b0-a5fd-3e8af6db637e",
   "metadata": {},
   "source": [
    "### Question 5\n",
    "\n",
    "#### Ploty-Express (3D visuals only)\n",
    "\n",
    "The dataset will simulate geographical and environmental data for a set of locations. Each location has the following attributes:\n",
    "\n",
    "Longitude (X)  \n",
    "Latitude (Y)  \n",
    "Elevation (Z)  \n",
    "Temperature (Color Scale)  \n",
    "\n",
    "Use the code below to generate the synthetic dataset:\n",
    "\n",
    "```\n",
    "import pandas as pd\n",
    "import numpy as np\n",
    "\n",
    "# Generate a dataset\n",
    "np.random.seed(42) # Ensure reproducibility\n",
    "longitude = np.random.uniform(-180, 180, 100)\n",
    "latitude = np.random.uniform(-90, 90, 100)\n",
    "elevation = np.random.uniform(0, 8848, 100) # Max height to Mount Everest\n",
    "temperature = np.random.uniform(-50, 50, 100) # Temperature range\n",
    "\n",
    "df = pd.DataFrame({\n",
    "    'Longitude': longitude,\n",
    "    'Latitude': latitude,\n",
    "    'Elevation': elevation,\n",
    "    'Temperature': temperature\n",
    "})\n",
    "```\n",
    "\n",
    "Based on the dataset, perform the following operations:  \n",
    "\n",
    "1. Plot geographical points with their elevation and use temperature to color-code the points. Use `scatter_3d`.\n",
    "2. A 3D line chart could be used to represent a path or journey. Simulate a path by sorting the data by elevation and plotting the result. Use `line_3d`.\n",
    "3. 3D surface plots are useful for representing topographical surfaces or any kind of 3D surface data.  \n",
    "   Create a simplified surface plot simulating a mountain range.  Use the `plotly.graph_objects`.  Reference can get from here: https://plotly.com/python/3d-surface-plots/#topographical-3d-surface-plot  \n",
    "   For the purposes of this example, we'll generate a structured grid of points and compute a hypothetical elevation.\n",
    "   Use the data below for the third task:\n",
    "\n",
    "```\n",
    "x = np.linspace(-5, 5, 50)\n",
    "y = np.linspace(-5, 5, 50)\n",
    "x, y = np.meshgrid(x, y)\n",
    "z = np.sin(np.sqrt(x**2 + y**2))\n",
    "```"
   ]
  },
  {
   "cell_type": "code",
   "execution_count": 14,
   "id": "4b1a2c85-f449-423b-a8e5-6a6e9b91226a",
   "metadata": {},
   "outputs": [],
   "source": [
    "import pandas as pd\n",
    "import numpy as np\n",
    "\n",
    "# Generate a dataset\n",
    "np.random.seed(42) # Ensure reproducibility\n",
    "longitude = np.random.uniform(-180, 180, 100)\n",
    "latitude = np.random.uniform(-90, 90, 100)\n",
    "elevation = np.random.uniform(0, 8848, 100) # Max height to Mount Everest\n",
    "temperature = np.random.uniform(-50, 50, 100) # Temperature range\n",
    "\n",
    "df = pd.DataFrame({\n",
    "    'Longitude': longitude,\n",
    "    'Latitude': latitude,\n",
    "    'Elevation': elevation,\n",
    "    'Temperature': temperature\n",
    "})"
   ]
  },
  {
   "cell_type": "code",
   "execution_count": null,
   "id": "b19bbacd",
   "metadata": {},
   "outputs": [],
   "source": [
    "# Task 1: 3D Scatter Plot\n",
    "import plotly.express as px\n",
    "import plotly.io as pio\n",
    "fig1 = px.scatter_3d(df, \n",
    "                    x='Longitude', \n",
    "                    y='Latitude', \n",
    "                    z='Elevation',\n",
    "                    color='Temperature',\n",
    "                    color_continuous_scale='Viridis',\n",
    "                    title='Geographical Points with Elevation (Color: Temperature)')\n",
    "\n",
    "fig1.update_layout(scene=dict(\n",
    "                  xaxis_title='Longitude',\n",
    "                  yaxis_title='Latitude',\n",
    "                  zaxis_title='Elevation'),\n",
    "                  width=900, height=700)\n",
    "\n",
    "pio.show(fig1)\n"
   ]
  },
  {
   "cell_type": "code",
   "execution_count": null,
   "id": "efc96719",
   "metadata": {},
   "outputs": [],
   "source": [
    "# Task 2: 3D Line Chart\n",
    "# Sort the data by elevation to create a path\n",
    "\n",
    "df_sorted = df.sort_values('Elevation')\n",
    "\n",
    "fig2 = pl.line_3d(df_sorted,\n",
    "                x='Longitude',\n",
    "                y='Latitude',\n",
    "                z='Elevation',\n",
    "                color='Temperature',\n",
    "                color_continuous_scale='Plasma',\n",
    "                title='Path Simulation (sorted by Elevation)')\n",
    "\n",
    "fig2.update_layout(scene=dict(\n",
    "                  xaxis_title='Longitude',\n",
    "                  yaxis_title='Latitude',\n",
    "                  zaxis_title='Elevation'),\n",
    "                  width=900, height=700)\n",
    "\n",
    "fig2.show()"
   ]
  },
  {
   "cell_type": "code",
   "execution_count": null,
   "id": "168ffc14",
   "metadata": {},
   "outputs": [],
   "source": [
    "# Task 3: 3D Surface Plot\n",
    "# Using the data provided for this task\n",
    "x = np.linspace(-5, 5, 50)\n",
    "y = np.linspace(-5, 5, 50)\n",
    "x, y = np.meshgrid(x, y)\n",
    "z = np.sin(np.sqrt(x**2 + y**2))\n",
    "\n",
    "# Create 3D surface plot\n",
    "fig3 = pl.Figure(data=[pl.Surface(z=z, x=x, y=y, colorscale='Viridis')])\n",
    "\n",
    "fig3.update_layout(title='3D Surface Plot - Simulated Mountain Range',\n",
    "                  scene=dict(\n",
    "                      xaxis_title='X',\n",
    "                      yaxis_title='Y',\n",
    "                      zaxis_title='Elevation'),\n",
    "                  width=900, height=700)\n",
    "\n",
    "fig3.show()"
   ]
  }
 ],
 "metadata": {
  "kernelspec": {
   "display_name": "Python 3",
   "language": "python",
   "name": "python3"
  },
  "language_info": {
   "codemirror_mode": {
    "name": "ipython",
    "version": 3
   },
   "file_extension": ".py",
   "mimetype": "text/x-python",
   "name": "python",
   "nbconvert_exporter": "python",
   "pygments_lexer": "ipython3",
   "version": "3.11.4"
  }
 },
 "nbformat": 4,
 "nbformat_minor": 5
}
