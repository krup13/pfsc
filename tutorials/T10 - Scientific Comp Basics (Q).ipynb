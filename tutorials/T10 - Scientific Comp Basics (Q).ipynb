{
 "cells": [
  {
   "cell_type": "markdown",
   "id": "05670574-158a-4fcd-9e2d-d8ea04bc30e2",
   "metadata": {},
   "source": [
    "# Tutorial 10 - Scientific Computing Basics"
   ]
  },
  {
   "cell_type": "markdown",
   "id": "497c0693",
   "metadata": {},
   "source": [
    "### 1. Numerical Integration"
   ]
  },
  {
   "cell_type": "code",
   "execution_count": null,
   "id": "d75bbdee-5757-454b-b63b-2ec9cc12303a",
   "metadata": {},
   "outputs": [],
   "source": [
    "# Use quad to integrate f(x) = sin(x) from 0 to pi\n",
    "from scipy.integrate import quad\n",
    "import numpy as np\n",
    "\n",
    "def f(x):\n",
    "    return np.sin(x)\n",
    "\n",
    "# TODO: Perform the integration and print the result and estimated error\n",
    "# Expected result: 2"
   ]
  },
  {
   "cell_type": "markdown",
   "id": "b817fc30-6108-43cc-a47d-1c64826ca118",
   "metadata": {},
   "source": [
    "#### Solution:"
   ]
  },
  {
   "cell_type": "code",
   "execution_count": null,
   "id": "55f3162e",
   "metadata": {},
   "outputs": [],
   "source": []
  },
  {
   "cell_type": "markdown",
   "id": "08362a95",
   "metadata": {},
   "source": [
    "#### 2. Solve an ODE: Exponential Decay"
   ]
  },
  {
   "cell_type": "code",
   "execution_count": null,
   "id": "abda8b37-4121-47f6-9822-88d51caf9604",
   "metadata": {},
   "outputs": [],
   "source": [
    "# dy/dt = -2y, y(0) = 4. Use solve_ivp and plot both numerical and analytical solutions\n",
    "from scipy.integrate import solve_ivp\n",
    "import matplotlib.pyplot as plt\n",
    "\n",
    "def model(t, y):\n",
    "    return -2 * y\n",
    "\n",
    "# TODO: Define t_span, y0, t_eval\n",
    "# TODO: Solve using solve_ivp\n",
    "# TODO: Plot both numerical and analytical solutions (y = 4 * exp(-2t))\n"
   ]
  },
  {
   "cell_type": "markdown",
   "id": "21ee3471-1048-4ac6-89a2-31ab9a8e7b8c",
   "metadata": {},
   "source": [
    "#### Solution:"
   ]
  },
  {
   "cell_type": "code",
   "execution_count": null,
   "id": "541666b2",
   "metadata": {},
   "outputs": [],
   "source": []
  },
  {
   "cell_type": "markdown",
   "id": "febb7f67",
   "metadata": {},
   "source": [
    "#### 3. Optimization"
   ]
  },
  {
   "cell_type": "code",
   "execution_count": null,
   "id": "fc3f0cf7-35d0-490a-88f4-430c011c2713",
   "metadata": {},
   "outputs": [],
   "source": [
    "# Minimize f(x) = (x - 7)^2 + 10 using scipy.optimize.minimize\n",
    "from scipy.optimize import minimize\n",
    "\n",
    "def objective(x):\n",
    "    return (x - 7)**2 + 10\n",
    "\n",
    "# TODO: Use an initial guess and minimize the function\n",
    "# TODO: Print result.x and result.fun\n"
   ]
  },
  {
   "cell_type": "markdown",
   "id": "8c91146a-70b6-4edd-8271-75c4007a208e",
   "metadata": {},
   "source": [
    "#### Solution"
   ]
  },
  {
   "cell_type": "code",
   "execution_count": null,
   "id": "5b25079c",
   "metadata": {},
   "outputs": [],
   "source": []
  },
  {
   "cell_type": "markdown",
   "id": "2e29c9ea",
   "metadata": {},
   "source": [
    "#### 4. Curve Fitting"
   ]
  },
  {
   "cell_type": "code",
   "execution_count": null,
   "id": "daab1a4d-83a6-48ed-9ae9-361a853a140c",
   "metadata": {},
   "outputs": [],
   "source": [
    "# Fit a quadratic model to noisy data\n",
    "from scipy.optimize import curve_fit\n",
    "import numpy as np\n",
    "import matplotlib.pyplot as plt\n",
    "\n",
    "def quad_model(x, a, b, c):\n",
    "    return a * x**2 + b * x + c\n",
    "\n",
    "# Generate synthetic data\n",
    "x_data = np.linspace(-5, 5, 20)\n",
    "y_data = quad_model(x_data, 2, -3, 5) + np.random.normal(scale=3, size=x_data.shape)\n",
    "\n",
    "# TODO: Fit the model to data using curve_fit\n",
    "# TODO: Plot data points and the fitted curve\n"
   ]
  },
  {
   "cell_type": "markdown",
   "id": "37617977-a699-4db5-92c6-277217e0d97f",
   "metadata": {},
   "source": [
    "#### Solution"
   ]
  },
  {
   "cell_type": "code",
   "execution_count": null,
   "id": "aa03999f",
   "metadata": {},
   "outputs": [],
   "source": []
  },
  {
   "cell_type": "markdown",
   "id": "16088488",
   "metadata": {},
   "source": [
    "### 📘 SymPy Exercises\n",
    "#### 5. Symbolic Algebra"
   ]
  },
  {
   "cell_type": "code",
   "execution_count": null,
   "id": "cb095749-d9fc-4a53-82c0-ac72c4b12579",
   "metadata": {},
   "outputs": [],
   "source": [
    "from sympy import symbols, expand, factor, simplify, sin, cos\n",
    "\n",
    "x, y = symbols('x y')\n",
    "\n",
    "# TODO: Expand (x + y)^4\n",
    "# TODO: Factor x**2 - 4\n",
    "# TODO: Simplify sin(x)**2 + cos(x)**2\n"
   ]
  },
  {
   "cell_type": "markdown",
   "id": "702a588b-d003-4810-8be1-b70c5bc8d74c",
   "metadata": {},
   "source": [
    "#### Solution"
   ]
  },
  {
   "cell_type": "code",
   "execution_count": null,
   "id": "afc0c4c1",
   "metadata": {},
   "outputs": [],
   "source": []
  },
  {
   "cell_type": "markdown",
   "id": "624e65d4",
   "metadata": {},
   "source": [
    "#### 6. Derivatives and Integrals"
   ]
  },
  {
   "cell_type": "code",
   "execution_count": null,
   "id": "56d8d052-67d4-40ee-89bd-af40b93657b5",
   "metadata": {},
   "outputs": [],
   "source": [
    "from sympy import diff, integrate, pi, oo, exp\n",
    "\n",
    "x = symbols('x')\n",
    "\n",
    "# TODO: Compute the derivative of x**2 * sin(x)\n",
    "# TODO: Compute the indefinite integral of exp(-x**2)\n",
    "# TODO: Compute the definite integral of exp(-x) from 0 to ∞\n"
   ]
  },
  {
   "cell_type": "markdown",
   "id": "2e029a36-97a8-4143-ae7f-29ad679239e8",
   "metadata": {},
   "source": [
    "#### Solution:"
   ]
  },
  {
   "cell_type": "code",
   "execution_count": null,
   "id": "72553ff8",
   "metadata": {},
   "outputs": [],
   "source": []
  },
  {
   "cell_type": "markdown",
   "id": "5f7d8562",
   "metadata": {},
   "source": [
    "#### 7. Solving Equations"
   ]
  },
  {
   "cell_type": "code",
   "execution_count": null,
   "id": "d4b2e35a-ece4-44bc-840a-cd8c99ac0d32",
   "metadata": {},
   "outputs": [],
   "source": [
    "from sympy import Eq, solve\n",
    "\n",
    "x = symbols('x')\n",
    "\n",
    "# TODO: Solve x^2 - 5x + 6 = 0\n",
    "# TODO: Solve system: x + y = 3, x - y = 1\n"
   ]
  },
  {
   "cell_type": "markdown",
   "id": "3ad3cf24-9dbb-4d1a-be17-305bd6df2b3a",
   "metadata": {},
   "source": [
    "#### Solution"
   ]
  },
  {
   "cell_type": "code",
   "execution_count": null,
   "id": "5bc98f7c",
   "metadata": {},
   "outputs": [],
   "source": []
  },
  {
   "cell_type": "markdown",
   "id": "b6ea46d5",
   "metadata": {},
   "source": [
    "### 📘 NetworkX Exercises\n",
    "#### 8. Create and Visualize a Graph"
   ]
  },
  {
   "cell_type": "code",
   "execution_count": null,
   "id": "65771334-cb7f-4b27-bc0f-7aa98b6f69ca",
   "metadata": {},
   "outputs": [],
   "source": [
    "import networkx as nx\n",
    "import matplotlib.pyplot as plt\n",
    "\n",
    "# TODO: Create a graph with nodes A, B, C, D and edges (A,B), (B,C), (C,D), (D,A), (A,C)\n",
    "# TODO: Draw the graph with labels\n"
   ]
  },
  {
   "cell_type": "markdown",
   "id": "c813524f-da36-4271-a0a5-b0324e47e597",
   "metadata": {},
   "source": [
    "#### Solution:"
   ]
  },
  {
   "cell_type": "code",
   "execution_count": null,
   "id": "1f23ecb7",
   "metadata": {},
   "outputs": [],
   "source": []
  },
  {
   "cell_type": "markdown",
   "id": "69ed7f3c",
   "metadata": {},
   "source": [
    "#### 9. Analyze the Graph"
   ]
  },
  {
   "cell_type": "code",
   "execution_count": null,
   "id": "9ad1cbe5-8a47-471d-bba7-384b42c98884",
   "metadata": {},
   "outputs": [],
   "source": [
    "# TODO: Check if there's a path between A and D\n",
    "# TODO: Find the shortest path between A and C\n",
    "# TODO: Get the degree of each node"
   ]
  },
  {
   "cell_type": "markdown",
   "id": "ba8e52cf-f243-49ab-80c5-a610ca5efe0b",
   "metadata": {},
   "source": [
    "#### Solution:"
   ]
  },
  {
   "cell_type": "code",
   "execution_count": null,
   "id": "394dd643",
   "metadata": {},
   "outputs": [],
   "source": []
  },
  {
   "cell_type": "markdown",
   "id": "58b56eaf",
   "metadata": {},
   "source": [
    "#### 10. Clustering and Components"
   ]
  },
  {
   "cell_type": "code",
   "execution_count": null,
   "id": "b002b3a8-723b-4294-984c-93d905ccab3c",
   "metadata": {},
   "outputs": [],
   "source": [
    "# Create a graph with two connected components\n",
    "G = nx.Graph()\n",
    "G.add_edges_from([(1, 2), (2, 3), (4, 5)])\n",
    "\n",
    "# TODO: Check if the graph is connected\n",
    "# TODO: Get the connected components\n",
    "# TODO: Compute clustering coefficient for node 2\n"
   ]
  },
  {
   "cell_type": "markdown",
   "id": "0527bcf1-7412-46c7-9c4c-95e0f71d9dfc",
   "metadata": {},
   "source": [
    "#### Solution:"
   ]
  },
  {
   "cell_type": "code",
   "execution_count": null,
   "id": "af8324b1",
   "metadata": {},
   "outputs": [],
   "source": []
  }
 ],
 "metadata": {
  "kernelspec": {
   "display_name": "Python 3 (ipykernel)",
   "language": "python",
   "name": "python3"
  },
  "language_info": {
   "codemirror_mode": {
    "name": "ipython",
    "version": 3
   },
   "file_extension": ".py",
   "mimetype": "text/x-python",
   "name": "python",
   "nbconvert_exporter": "python",
   "pygments_lexer": "ipython3",
   "version": "3.11.5"
  }
 },
 "nbformat": 4,
 "nbformat_minor": 5
}
