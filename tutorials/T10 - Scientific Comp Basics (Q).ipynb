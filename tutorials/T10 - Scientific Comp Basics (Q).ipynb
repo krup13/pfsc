{
 "cells": [
  {
   "cell_type": "markdown",
   "id": "05670574-158a-4fcd-9e2d-d8ea04bc30e2",
   "metadata": {},
   "source": [
    "# Tutorial 10 - Scientific Computing Basics"
   ]
  },
  {
   "cell_type": "markdown",
   "id": "497c0693",
   "metadata": {},
   "source": [
    "### 1. Numerical Integration"
   ]
  },
  {
   "cell_type": "code",
   "execution_count": null,
   "id": "d75bbdee-5757-454b-b63b-2ec9cc12303a",
   "metadata": {},
   "outputs": [],
   "source": [
    "# Use quad to integrate f(x) = sin(x) from 0 to pi\n",
    "from scipy.integrate import quad\n",
    "import numpy as np\n",
    "\n",
    "def f(x):\n",
    "    return np.sin(x)\n",
    "\n",
    "# TODO: Perform the integration and print the result and estimated error\n",
    "# Expected result: 2"
   ]
  },
  {
   "cell_type": "markdown",
   "id": "b817fc30-6108-43cc-a47d-1c64826ca118",
   "metadata": {},
   "source": [
    "#### Solution:"
   ]
  },
  {
   "cell_type": "code",
   "execution_count": 2,
   "id": "55f3162e",
   "metadata": {},
   "outputs": [
    {
     "name": "stdout",
     "output_type": "stream",
     "text": [
      "Result of integration: 2.0\n",
      "Estimated error: 2.220446049250313e-14\n"
     ]
    }
   ],
   "source": [
    "#Use quad to integrate f from 0 to pi\n",
    "result, error = quad(f, 0, np.pi)\n",
    "print(f\"Result of integration: {result}\")\n",
    "print(f\"Estimated error: {error}\")"
   ]
  },
  {
   "cell_type": "markdown",
   "id": "08362a95",
   "metadata": {},
   "source": [
    "#### 2. Solve an ODE: Exponential Decay"
   ]
  },
  {
   "cell_type": "code",
   "execution_count": 5,
   "id": "abda8b37-4121-47f6-9822-88d51caf9604",
   "metadata": {},
   "outputs": [],
   "source": [
    "# dy/dt = -2y, y(0) = 4. Use solve_ivp and plot both numerical and analytical solutions\n",
    "from scipy.integrate import solve_ivp\n",
    "import matplotlib.pyplot as plt\n",
    "\n",
    "def model(t, y):\n",
    "    return -2 * y\n",
    "\n",
    "# TODO: Define t_span, y0, t_eval\n",
    "# TODO: Solve using solve_ivp\n",
    "# TODO: Plot both numerical and analytical solutions (y = 4 * exp(-2t))\n"
   ]
  },
  {
   "cell_type": "markdown",
   "id": "21ee3471-1048-4ac6-89a2-31ab9a8e7b8c",
   "metadata": {},
   "source": [
    "#### Solution:"
   ]
  },
  {
   "cell_type": "code",
   "execution_count": 6,
   "id": "541666b2",
   "metadata": {},
   "outputs": [],
   "source": [
    "# TODO: Define t_span, y0, t_eval\n",
    "t_span = (0, 5)  # Time span from 0 to 5\n",
    "y0 = [4]  # Initial condition y(0) = 4\n",
    "t_eval = np.linspace(t_span[0], t_span[1], 100)  # Points at which to evaluate the solution"
   ]
  },
  {
   "cell_type": "code",
   "execution_count": 7,
   "id": "4bbef92f",
   "metadata": {},
   "outputs": [],
   "source": [
    "# Solve using solve_ivp\n",
    "sol = solve_ivp(model, t_span, y0, t_eval=t_eval)"
   ]
  },
  {
   "cell_type": "code",
   "execution_count": 8,
   "id": "ca6a9f16",
   "metadata": {},
   "outputs": [
    {
     "data": {
      "image/png": "[encoded data removed]",
      "text/plain": [
       "<Figure size 640x480 with 1 Axes>"
      ]
     },
     "metadata": {},
     "output_type": "display_data"
    }
   ],
   "source": [
    "#Plot both numerical and analytical solutions (y = 4 * exp(-2t))\n",
    "plt.plot(sol.t, sol.y[0], label='Numerical')\n",
    "plt.plot(t_eval, 4 * np.exp(-2 * t_eval), 'r--', label='Analytical')\n",
    "plt.xlabel('t')\n",
    "plt.ylabel('y')\n",
    "plt.title('Exponential Decay ODE')\n",
    "plt.legend()\n",
    "plt.grid()\n",
    "plt.show()"
   ]
  },
  {
   "cell_type": "markdown",
   "id": "febb7f67",
   "metadata": {},
   "source": [
    "#### 3. Optimization"
   ]
  },
  {
   "cell_type": "code",
   "execution_count": 10,
   "id": "fc3f0cf7-35d0-490a-88f4-430c011c2713",
   "metadata": {},
   "outputs": [],
   "source": [
    "# Minimize f(x) = (x - 7)^2 + 10 using scipy.optimize.minimize\n",
    "from scipy.optimize import minimize\n",
    "\n",
    "def objective(x):\n",
    "    return (x - 7)**2 + 10\n",
    "\n",
    "# TODO: Use an initial guess and minimize the function\n",
    "# TODO: Print result.x and result.fun\n"
   ]
  },
  {
   "cell_type": "markdown",
   "id": "8c91146a-70b6-4edd-8271-75c4007a208e",
   "metadata": {},
   "source": [
    "#### Solution"
   ]
  },
  {
   "cell_type": "code",
   "execution_count": 11,
   "id": "5b25079c",
   "metadata": {},
   "outputs": [
    {
     "name": "stdout",
     "output_type": "stream",
     "text": [
      "Minimum at x: [7.00000001]\n",
      "Minimum value of the function: 10.0\n"
     ]
    }
   ],
   "source": [
    "#Use an initial guess and minimize the function\n",
    "x0 = [0]  # Initial guess\n",
    "result = minimize(objective, x0)\n",
    "print(\"Minimum at x:\", result.x)\n",
    "print(\"Minimum value of the function:\", result.fun)"
   ]
  },
  {
   "cell_type": "markdown",
   "id": "2e29c9ea",
   "metadata": {},
   "source": [
    "#### 4. Curve Fitting"
   ]
  },
  {
   "cell_type": "code",
   "execution_count": 13,
   "id": "daab1a4d-83a6-48ed-9ae9-361a853a140c",
   "metadata": {},
   "outputs": [],
   "source": [
    "# Fit a quadratic model to noisy data\n",
    "from scipy.optimize import curve_fit\n",
    "import numpy as np\n",
    "import matplotlib.pyplot as plt\n",
    "\n",
    "def quad_model(x, a, b, c):\n",
    "    return a * x**2 + b * x + c\n",
    "\n",
    "# Generate synthetic data\n",
    "x_data = np.linspace(-5, 5, 20)\n",
    "y_data = quad_model(x_data, 2, -3, 5) + np.random.normal(scale=3, size=x_data.shape)\n",
    "\n",
    "# TODO: Fit the model to data using curve_fit\n",
    "# TODO: Plot data points and the fitted curve\n"
   ]
  },
  {
   "cell_type": "markdown",
   "id": "37617977-a699-4db5-92c6-277217e0d97f",
   "metadata": {},
   "source": [
    "#### Solution"
   ]
  },
  {
   "cell_type": "code",
   "execution_count": 14,
   "id": "aa03999f",
   "metadata": {},
   "outputs": [],
   "source": [
    "#Fit the model to data using curve_fit\n",
    "popt, _ = curve_fit(quad_model, x_data, y_data)"
   ]
  },
  {
   "cell_type": "code",
   "execution_count": 15,
   "id": "e21f9973",
   "metadata": {},
   "outputs": [
    {
     "data": {
      "image/png": "[encoded data removed]",
      "text/plain": [
       "<Figure size 640x480 with 1 Axes>"
      ]
     },
     "metadata": {},
     "output_type": "display_data"
    },
    {
     "name": "stdout",
     "output_type": "stream",
     "text": [
      "Fitted parameters: [ 2.10791806 -3.1183412   4.15674686]\n"
     ]
    }
   ],
   "source": [
    "#Plot data points and the fitted curve\n",
    "plt.scatter(x_data, y_data, label='Data')\n",
    "plt.plot(x_data, quad_model(x_data, *popt), 'r-', label='Fit')\n",
    "plt.legend()\n",
    "plt.title(\"Quadratic Curve Fit\")\n",
    "plt.grid()\n",
    "plt.show()\n",
    "print(\"Fitted parameters:\", popt)"
   ]
  },
  {
   "cell_type": "markdown",
   "id": "16088488",
   "metadata": {},
   "source": [
    "### 📘 SymPy Exercises\n",
    "#### 5. Symbolic Algebra"
   ]
  },
  {
   "cell_type": "code",
   "execution_count": 21,
   "id": "96bb68c9",
   "metadata": {},
   "outputs": [
    {
     "name": "stdout",
     "output_type": "stream",
     "text": [
      "^C\n",
      "Note: you may need to restart the kernel to use updated packages.\n"
     ]
    }
   ],
   "source": [
    "%pip install sympy"
   ]
  },
  {
   "cell_type": "code",
   "execution_count": 1,
   "id": "cb095749-d9fc-4a53-82c0-ac72c4b12579",
   "metadata": {},
   "outputs": [],
   "source": [
    "from sympy import symbols, expand, factor, simplify, sin, cos\n",
    "\n",
    "x, y = symbols('x y')\n",
    "\n",
    "# TODO: Expand (x + y)^4\n",
    "# TODO: Factor x**2 - 4\n",
    "# TODO: Simplify sin(x)**2 + cos(x)**2"
   ]
  },
  {
   "cell_type": "markdown",
   "id": "702a588b-d003-4810-8be1-b70c5bc8d74c",
   "metadata": {},
   "source": [
    "#### Solution"
   ]
  },
  {
   "cell_type": "code",
   "execution_count": 2,
   "id": "afc0c4c1",
   "metadata": {},
   "outputs": [
    {
     "name": "stdout",
     "output_type": "stream",
     "text": [
      "Expanded: x**4 + 4*x**3*y + 6*x**2*y**2 + 4*x*y**3 + y**4\n",
      "Factored: (x - 2)*(x + 2)\n",
      "Simplified: 1\n"
     ]
    }
   ],
   "source": [
    "#Expand (x + y)^4\n",
    "print(\"Expanded:\", expand((x + y)**4))\n",
    "\n",
    "#Factor x**2 - 4\n",
    "print(\"Factored:\", factor(x**2 - 4))\n",
    "\n",
    "#Simplify sin(x)**2 + cos(x)**2\n",
    "print(\"Simplified:\", simplify(sin(x)**2 + cos(x)**2))"
   ]
  },
  {
   "cell_type": "markdown",
   "id": "624e65d4",
   "metadata": {},
   "source": [
    "#### 6. Derivatives and Integrals"
   ]
  },
  {
   "cell_type": "code",
   "execution_count": 4,
   "id": "56d8d052-67d4-40ee-89bd-af40b93657b5",
   "metadata": {},
   "outputs": [],
   "source": [
    "from sympy import diff, integrate, pi, oo, exp\n",
    "\n",
    "x = symbols('x')\n",
    "\n",
    "# TODO: Compute the derivative of x**2 * sin(x)\n",
    "# TODO: Compute the indefinite integral of exp(-x**2)\n",
    "# TODO: Compute the definite integral of exp(-x) from 0 to ∞\n"
   ]
  },
  {
   "cell_type": "markdown",
   "id": "2e029a36-97a8-4143-ae7f-29ad679239e8",
   "metadata": {},
   "source": [
    "#### Solution:"
   ]
  },
  {
   "cell_type": "code",
   "execution_count": 5,
   "id": "72553ff8",
   "metadata": {},
   "outputs": [
    {
     "name": "stdout",
     "output_type": "stream",
     "text": [
      "Derivative: x**2*cos(x) + 2*x*sin(x)\n",
      "Indefinite integral: sqrt(pi)*erf(x)/2\n",
      "Definite integral from 0 to ∞: 1\n"
     ]
    }
   ],
   "source": [
    "#Compute the derivative of x**2 * sin(x)\n",
    "print(\"Derivative:\", diff(x**2 * sin(x), x))\n",
    "\n",
    "#Compute the indefinite integral of exp(-x**2)\n",
    "print(\"Indefinite integral:\", integrate(exp(-x**2), x))\n",
    "\n",
    "#Compute the definite integral of exp(-x) from 0 to ∞\n",
    "print(\"Definite integral from 0 to ∞:\", integrate(exp(-x), (x, 0, oo)))"
   ]
  },
  {
   "cell_type": "markdown",
   "id": "5f7d8562",
   "metadata": {},
   "source": [
    "#### 7. Solving Equations"
   ]
  },
  {
   "cell_type": "code",
   "execution_count": 6,
   "id": "d4b2e35a-ece4-44bc-840a-cd8c99ac0d32",
   "metadata": {},
   "outputs": [],
   "source": [
    "from sympy import Eq, solve\n",
    "\n",
    "x = symbols('x')\n",
    "\n",
    "# TODO: Solve x^2 - 5x + 6 = 0\n",
    "# TODO: Solve system: x + y = 3, x - y = 1\n"
   ]
  },
  {
   "cell_type": "markdown",
   "id": "3ad3cf24-9dbb-4d1a-be17-305bd6df2b3a",
   "metadata": {},
   "source": [
    "#### Solution"
   ]
  },
  {
   "cell_type": "code",
   "execution_count": 7,
   "id": "5bc98f7c",
   "metadata": {},
   "outputs": [
    {
     "name": "stdout",
     "output_type": "stream",
     "text": [
      "Solutions to x^2 - 5x + 6 = 0: [2, 3]\n",
      "Solutions to system x + y = 3, x - y = 1: {x: 2, y: 1}\n"
     ]
    }
   ],
   "source": [
    "#Solve x^2 - 5x + 6 = 0\n",
    "print(\"Solutions to x^2 - 5x + 6 = 0:\", solve(Eq(x**2 - 5*x + 6, 0), x))\n",
    "\n",
    "#Solve system: x + y = 3, x - y = 1\n",
    "y = symbols('y')\n",
    "print(\"Solutions to system x + y = 3, x - y = 1:\", solve((Eq(x + y, 3), Eq(x - y, 1)), (x, y)))"
   ]
  },
  {
   "cell_type": "markdown",
   "id": "b6ea46d5",
   "metadata": {},
   "source": [
    "### 📘 NetworkX Exercises\n",
    "#### 8. Create and Visualize a Graph"
   ]
  },
  {
   "cell_type": "code",
   "execution_count": 10,
   "id": "65771334-cb7f-4b27-bc0f-7aa98b6f69ca",
   "metadata": {},
   "outputs": [],
   "source": [
    "import networkx as nx\n",
    "import matplotlib.pyplot as plt\n",
    "\n",
    "# TODO: Create a graph with nodes A, B, C, D and edges (A,B), (B,C), (C,D), (D,A), (A,C)\n",
    "# TODO: Draw the graph with labels\n"
   ]
  },
  {
   "cell_type": "markdown",
   "id": "c813524f-da36-4271-a0a5-b0324e47e597",
   "metadata": {},
   "source": [
    "#### Solution:"
   ]
  },
  {
   "cell_type": "code",
   "execution_count": 11,
   "id": "1f23ecb7",
   "metadata": {},
   "outputs": [
    {
     "data": {
      "image/png": "[encoded data removed]",
      "text/plain": [
       "<Figure size 640x480 with 1 Axes>"
      ]
     },
     "metadata": {},
     "output_type": "display_data"
    }
   ],
   "source": [
    "## TODO: Create a graph with nodes A, B, C, D and edges (A,B), (B,C), (C,D), (D,A), (A,C)\n",
    "G = nx.Graph()\n",
    "G.add_edges_from([('A', 'B'), ('B', 'C'), ('C', 'D'), ('D', 'A'), ('A', 'C')])\n",
    "\n",
    "#Draw the graph with edges\n",
    "nx.draw(G, with_labels=True, node_color='lightblue', node_size=1000, font_weight='bold')\n",
    "plt.title(\"Graph with Nodes A, B, C, D\")\n",
    "plt.show()"
   ]
  },
  {
   "cell_type": "markdown",
   "id": "69ed7f3c",
   "metadata": {},
   "source": [
    "#### 9. Analyze the Graph"
   ]
  },
  {
   "cell_type": "code",
   "execution_count": null,
   "id": "9ad1cbe5-8a47-471d-bba7-384b42c98884",
   "metadata": {},
   "outputs": [],
   "source": [
    "# TODO: Check if there's a path between A and D\n",
    "# TODO: Find the shortest path between A and C\n",
    "# TODO: Get the degree of each node"
   ]
  },
  {
   "cell_type": "markdown",
   "id": "ba8e52cf-f243-49ab-80c5-a610ca5efe0b",
   "metadata": {},
   "source": [
    "#### Solution:"
   ]
  },
  {
   "cell_type": "code",
   "execution_count": 14,
   "id": "394dd643",
   "metadata": {},
   "outputs": [
    {
     "name": "stdout",
     "output_type": "stream",
     "text": [
      "Is there a path between A and D? True\n",
      "Shortest path between A -> C: ['A', 'C']\n",
      "Degree of each node:\n",
      "Degree of A: 3\n",
      "Degree of B: 2\n",
      "Degree of C: 3\n",
      "Degree of D: 2\n"
     ]
    }
   ],
   "source": [
    "#Check if there's a path between A and D\n",
    "print(\"Is there a path between A and D?\", nx.has_path(G, 'A', 'D'))\n",
    "\n",
    "#Find the shortest path between A and C\n",
    "print(\"Shortest path between A -> C:\", nx.shortest_path(G, 'A', 'C'))\n",
    "\n",
    "#Get the degree of each node\n",
    "print(\"Degree of each node:\")\n",
    "for node in G.nodes():\n",
    "    print(f\"Degree of {node}: {G.degree(node)}\")"
   ]
  },
  {
   "cell_type": "markdown",
   "id": "58b56eaf",
   "metadata": {},
   "source": [
    "#### 10. Clustering and Components"
   ]
  },
  {
   "cell_type": "code",
   "execution_count": 15,
   "id": "b002b3a8-723b-4294-984c-93d905ccab3c",
   "metadata": {},
   "outputs": [],
   "source": [
    "# Create a graph with two connected components\n",
    "G = nx.Graph()\n",
    "G.add_edges_from([(1, 2), (2, 3), (4, 5)])\n",
    "\n",
    "# TODO: Check if the graph is connected\n",
    "# TODO: Get the connected components\n",
    "# TODO: Compute clustering coefficient for node 2\n"
   ]
  },
  {
   "cell_type": "markdown",
   "id": "0527bcf1-7412-46c7-9c4c-95e0f71d9dfc",
   "metadata": {},
   "source": [
    "#### Solution:"
   ]
  },
  {
   "cell_type": "code",
   "execution_count": 16,
   "id": "af8324b1",
   "metadata": {},
   "outputs": [
    {
     "name": "stdout",
     "output_type": "stream",
     "text": [
      "Is the graph connected? False\n",
      "Connected components: [{1, 2, 3}, {4, 5}]\n",
      "Clustering coefficient for node 2: 0\n"
     ]
    }
   ],
   "source": [
    "#Check if the graph is connected\n",
    "print(\"Is the graph connected?\", nx.is_connected(G))\n",
    "\n",
    "#Get the connected components\n",
    "print(\"Connected components:\", list(nx.connected_components(G)))\n",
    "\n",
    "#Compute clustering coefficient for node 2\n",
    "print(\"Clustering coefficient for node 2:\", nx.clustering(G, 2))"
   ]
  }
 ],
 "metadata": {
  "kernelspec": {
   "display_name": "Python 3",
   "language": "python",
   "name": "python3"
  },
  "language_info": {
   "codemirror_mode": {
    "name": "ipython",
    "version": 3
   },
   "file_extension": ".py",
   "mimetype": "text/x-python",
   "name": "python",
   "nbconvert_exporter": "python",
   "pygments_lexer": "ipython3",
   "version": "3.10.11"
  }
 },
 "nbformat": 4,
 "nbformat_minor": 5
}
