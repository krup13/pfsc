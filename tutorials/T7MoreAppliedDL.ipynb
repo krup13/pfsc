{
 "cells": [
  {
   "cell_type": "markdown",
   "id": "89a5e520-a102-4078-ad89-3024aefd214d",
   "metadata": {},
   "source": [
    "### Tutorial 7 - More Applied Deep Learning"
   ]
  },
  {
   "cell_type": "markdown",
   "id": "13d646c8-4d7b-41c0-942b-f6209aa30869",
   "metadata": {},
   "source": [
    "Packages to install: \n",
    "\n",
    "* `scikit-learn`\n",
    "* `tensorflow`"
   ]
  },
  {
   "cell_type": "markdown",
   "id": "c6e44ed3-2b82-44d0-9fa1-adabb31d68e3",
   "metadata": {},
   "source": [
    "### Question 1: Deep Neural Network (DNN)\n",
    "\n",
    "You are tasked with creating a Deep Neural Network (DNN) model to classify images from the CIFAR-10 dataset.  \n",
    "The CIFAR-10 dataset consists of 60,000 32x32 color images in 10 classes, with 6,000 images per class.  \n",
    "Your task is to implement a DNN using Keras to achieve a high accuracy on this dataset.\n",
    "\n",
    "Requirements:  \n",
    "* Load the CIFAR-10 dataset.\n",
    "* Preprocess the data by normalizing pixel values.\n",
    "* Implement a DNN model architecture using Keras.\n",
    "* Compile the model with appropriate loss function and optimizer.\n",
    "* Train the model on the training data.\n",
    "* Evaluate the trained model on the test data.\n",
    "* Print the accuracy achieved by the model on the test data.\n",
    "\n",
    "How to get cifar dataset:\n",
    "\n",
    "```\n",
    "from tensorflow.keras.datasets import cifar10\n",
    "(train_images, train_labels), (test_images, test_labels) = cifar10.load_data()\n",
    "```"
   ]
  },
  {
   "cell_type": "code",
   "execution_count": null,
   "id": "fd7a3308-9ce3-4c4a-8285-cb72d3e4abe0",
   "metadata": {},
   "outputs": [],
   "source": []
  },
  {
   "cell_type": "code",
   "execution_count": null,
   "id": "78eff0ab-6864-479f-9130-0dfd4d0d349b",
   "metadata": {},
   "outputs": [],
   "source": []
  },
  {
   "cell_type": "markdown",
   "id": "22c7c79c-d01e-4cc0-8bfe-3c8f68914c59",
   "metadata": {},
   "source": [
    "### Question 2 - Convolutional Neural Network (CNN)\n",
    "\n",
    "Similar to question 1, but this time use CNN.\n",
    "Details:\n",
    "* Implement 2 2D-Convolution layers, each with 'relu' activation\n",
    "* Use MaxPooling2D after convolution layer \n"
   ]
  },
  {
   "cell_type": "code",
   "execution_count": null,
   "id": "a9236e89-72a9-410c-8d9f-8ab2169064b5",
   "metadata": {},
   "outputs": [],
   "source": []
  },
  {
   "cell_type": "code",
   "execution_count": null,
   "id": "5a3762fd-b36b-4aff-b652-8015441b0255",
   "metadata": {},
   "outputs": [],
   "source": []
  },
  {
   "cell_type": "markdown",
   "id": "ca03edb7-93d5-41f2-83cf-ab6868649fe5",
   "metadata": {},
   "source": [
    "### Question 3 - Compare the performance?\n",
    "\n",
    "What is the difference? Huge?   \n",
    "Why one perform better than the other?\n",
    "Discuss."
   ]
  },
  {
   "cell_type": "code",
   "execution_count": null,
   "id": "06867882-b80c-4382-85b3-714921b86c8e",
   "metadata": {},
   "outputs": [],
   "source": []
  },
  {
   "cell_type": "code",
   "execution_count": null,
   "id": "36b8c74c-c59f-4690-89c7-496ca40e0009",
   "metadata": {},
   "outputs": [],
   "source": []
  }
 ],
 "metadata": {
  "kernelspec": {
   "display_name": "Python 3 (ipykernel)",
   "language": "python",
   "name": "python3"
  },
  "language_info": {
   "codemirror_mode": {
    "name": "ipython",
    "version": 3
   },
   "file_extension": ".py",
   "mimetype": "text/x-python",
   "name": "python",
   "nbconvert_exporter": "python",
   "pygments_lexer": "ipython3",
   "version": "3.11.8"
  }
 },
 "nbformat": 4,
 "nbformat_minor": 5
}
