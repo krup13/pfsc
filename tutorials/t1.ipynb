{
 "cells": [
  {
   "cell_type": "markdown",
   "id": "b791759c-61b2-4dd6-a616-bffdada5d9ff",
   "metadata": {},
   "source": [
    "# Tutorial 1 - Python Basics"
   ]
  },
  {
   "cell_type": "markdown",
   "id": "5880febd-e162-4d11-b136-038ca10e3baf",
   "metadata": {},
   "source": [
    "1. Create a string variable containing \"Python is fun!\".\n",
    "Then perform the following operations and print the results:\n",
    "\n",
    "* Convert the string to uppercase  \n",
    "* Convert the string to lowercase  \n",
    "* Get the length of the string  "
   ]
  },
  {
   "cell_type": "markdown",
   "id": "9e8fb7a8-cce8-4137-9de6-fa5c34969b9b",
   "metadata": {},
   "source": [
    "Answer:"
   ]
  },
  {
   "cell_type": "code",
   "execution_count": 2,
   "id": "0e1b09ed-34bc-4de0-a04e-c5bd59dde990",
   "metadata": {},
   "outputs": [
    {
     "name": "stdout",
     "output_type": "stream",
     "text": [
      "PYTHON IS FUN!\n",
      "python is fun!\n",
      "14\n"
     ]
    }
   ],
   "source": [
    "str = \"Python is fun!\"\n",
    "\n",
    "print(str.upper())\n",
    "print(str.lower())\n",
    "print(len(str))"
   ]
  },
  {
   "cell_type": "markdown",
   "id": "43673650-8ab0-4a62-b99a-52785a829994",
   "metadata": {},
   "source": [
    "2. Write a Python script that takes a user's input as their age and prints:\n",
    "* \"You are a minor\" if the age is less than 18\n",
    "* Otherwise prints \"You are an adult\".\n",
    "* But if the age is more than 60, prints \"Youre just old\"\n"
   ]
  },
  {
   "cell_type": "markdown",
   "id": "4cb4302b-2938-4224-a7fd-d86399ac8b67",
   "metadata": {},
   "source": [
    "Answer:"
   ]
  },
  {
   "cell_type": "code",
   "execution_count": 1,
   "id": "6b42bca4-d4eb-4e47-8cc3-4122010a32a5",
   "metadata": {},
   "outputs": [
    {
     "name": "stdout",
     "output_type": "stream",
     "text": [
      "You are a minor\n"
     ]
    }
   ],
   "source": [
    "age = int(input(\"Enter your age\"))\n",
    "\n",
    "if age<18:\n",
    "    print(\"You are a minor\")\n",
    "elif age>60:\n",
    "    print(\"You are just old\")\n",
    "else:\n",
    "    print (\"You are an adult\")"
   ]
  },
  {
   "cell_type": "markdown",
   "id": "4e6a77af-f9c9-46c6-a0b4-299fff456eee",
   "metadata": {},
   "source": [
    "3. Write a Python script to print the numbers from 1 to 20 using a for loop. But:\n",
    "* Prints only even number\n",
    "* If number is either 12,13 or 14, don't print them\n",
    "\n"
   ]
  },
  {
   "cell_type": "markdown",
   "id": "e814a3d1-6394-4cf2-8ece-eb03331772f1",
   "metadata": {},
   "source": [
    "Answer:"
   ]
  },
  {
   "cell_type": "code",
   "execution_count": null,
   "id": "8bcad369-090d-487e-96e4-d4462e3cc835",
   "metadata": {},
   "outputs": [
    {
     "name": "stdout",
     "output_type": "stream",
     "text": [
      "2\n",
      "4\n",
      "6\n",
      "8\n",
      "10\n",
      "16\n",
      "18\n"
     ]
    }
   ],
   "source": [
    "for i in range(1,20):\n",
    "    if i%2!=0 or i==12 or i==14:\n",
    "        continue\n",
    "    else:\n",
    "        print(i)"
   ]
  },
  {
   "cell_type": "markdown",
   "id": "c8d7d13a-a8b1-4d2e-86a4-9072920d560e",
   "metadata": {},
   "source": [
    "4. Get 3 different numbers from user input. Then, write a Python function to find the:\n",
    "* Maximum\n",
    "* Minimum\n",
    "* Average\n",
    "\n",
    "of the numbers and print them out.\n"
   ]
  },
  {
   "cell_type": "markdown",
   "id": "584814f6-a84a-42e0-b516-cc05b6b8dd68",
   "metadata": {},
   "source": [
    "Answer:"
   ]
  },
  {
   "cell_type": "code",
   "execution_count": null,
   "id": "da2a5e43-3693-4db7-87bc-ac779ca5231c",
   "metadata": {},
   "outputs": [
    {
     "name": "stdout",
     "output_type": "stream",
     "text": [
      "Maximum:  9.9\n",
      "Minimum:  5.3\n",
      "Average:  7.133333333333333\n"
     ]
    }
   ],
   "source": [
    "arr = []\n",
    "\n",
    "for i in range(3):\n",
    "    arrNum = float(input(f\"Enter number {i+1}: \"))\n",
    "    arr.append(arrNum)\n",
    "\n",
    "ave=sum(arr)/len(arr)\n",
    "\n",
    "print(\"Maximum: \",max(arr))\n",
    "print(\"Minimum: \",min(arr))\n",
    "print(\"Average: \",ave)"
   ]
  },
  {
   "cell_type": "markdown",
   "id": "66b4736b-1a87-44a3-8923-8114d75e60e4",
   "metadata": {},
   "source": [
    "5. Write a Python script to create a list of squares of numbers from 1 to 10 using list comprehension.\n"
   ]
  },
  {
   "cell_type": "markdown",
   "id": "2586fd17-cc42-4653-bf95-797148fef011",
   "metadata": {},
   "source": [
    "Answer:"
   ]
  },
  {
   "cell_type": "code",
   "execution_count": null,
   "id": "a6e19dc0-1e99-4bad-84b1-fafb2f19dc9e",
   "metadata": {},
   "outputs": [
    {
     "name": "stdout",
     "output_type": "stream",
     "text": [
      "[  1   4   9  16  25  36  49  64  81 100]\n"
     ]
    }
   ],
   "source": [
    "import numpy as np\n",
    "sqNums = [1,2,3,4,5,6,7,8,9,10]\n",
    "np_sqNums = np.array(sqNums)\n",
    "print(np_sqNums*np_sqNums)"
   ]
  },
  {
   "cell_type": "markdown",
   "id": "b2bcef1d-09c6-4edb-9ae7-896fdcdffc27",
   "metadata": {},
   "source": [
    "6. Write a Python script to remove duplicate elements from a list.  \n",
    "   numbers = [1, 2, 3, 4, 4, 5, 6, 6, 7]\n",
    "\n"
   ]
  },
  {
   "cell_type": "markdown",
   "id": "60ce58aa-b4cc-4a40-adbf-143478afa5ac",
   "metadata": {},
   "source": [
    "Answer:"
   ]
  },
  {
   "cell_type": "code",
   "execution_count": null,
   "id": "1fafb795-e28c-4133-9b92-7cb64d2db063",
   "metadata": {},
   "outputs": [
    {
     "name": "stdout",
     "output_type": "stream",
     "text": [
      "[1, 2, 3, 4, 5, 6, 7]\n"
     ]
    }
   ],
   "source": [
    "def remove_dupes(arr):\n",
    "    return list(set(arr))\n",
    "\n",
    "numbers = [1,2,3,4,4,5,6,6,7]\n",
    "print(remove_dupes(numbers))"
   ]
  },
  {
   "cell_type": "markdown",
   "id": "a2129fa8-79e8-454b-bb83-8e238aa1d1be",
   "metadata": {},
   "source": [
    "7. Write a Python function to check if a given number is prime or not.\n",
    "\n"
   ]
  },
  {
   "cell_type": "markdown",
   "id": "b06db8ca-1687-492b-827a-de0511914f89",
   "metadata": {},
   "source": [
    "Answer:"
   ]
  },
  {
   "cell_type": "code",
   "execution_count": null,
   "id": "b3f1f685-83fa-416d-89fe-dd0653d009cb",
   "metadata": {},
   "outputs": [
    {
     "name": "stdout",
     "output_type": "stream",
     "text": [
      "True\n"
     ]
    }
   ],
   "source": [
    "def isPrime(n):\n",
    "    if n<=1:\n",
    "        return False\n",
    "    \n",
    "    if n==2:\n",
    "        return True\n",
    "\n",
    "    if n%2==0:\n",
    "        return False\n",
    "    \n",
    "    #divisibility check\n",
    "    for i in range(3, int(n**0.5)+1, 2):\n",
    "        if n%i==0:\n",
    "            return False\n",
    "        \n",
    "    return True\n",
    "\n",
    "primeCheck = int(input(\"Enter a number to check if it is a prime number\"))\n",
    "print(isPrime(primeCheck))"
   ]
  },
  {
   "cell_type": "markdown",
   "id": "6947e344-4892-4ac9-aa08-b9dd47af2813",
   "metadata": {},
   "source": [
    "8. A list of numbers -> [12, 11, 56, 734, 12, 61, 11, 23, 51,72, 462, 123, 679, 13].  \n",
    "   From the list of numbers isolate prime numbers and non-prime numbers into two separate lists.  \n",
    "   Then, print both lists"
   ]
  },
  {
   "cell_type": "markdown",
   "id": "5ba19147-135e-4554-837f-3baf8bd07795",
   "metadata": {},
   "source": [
    "Answer:"
   ]
  },
  {
   "cell_type": "code",
   "execution_count": null,
   "id": "42760ca5-3dbe-458f-888f-fe85694d5fee",
   "metadata": {},
   "outputs": [
    {
     "name": "stdout",
     "output_type": "stream",
     "text": [
      "[11, 61, 11, 23, 13]\n",
      "[12, 56, 734, 12, 51, 72, 462, 123, 679]\n"
     ]
    }
   ],
   "source": [
    "#using the previous isPrime function\n",
    "\n",
    "primeNums = []\n",
    "nonPrimeNums = []\n",
    "nums = [12, 11, 56, 734, 12, 61, 11, 23, 51,72, 462, 123, 679, 13]\n",
    "for i in range (len(nums)):\n",
    "    if isPrime(nums[i]):\n",
    "        primeNums.append(nums[i])\n",
    "    else:\n",
    "        nonPrimeNums.append(nums[i])\n",
    "\n",
    "print(primeNums)\n",
    "print(nonPrimeNums)\n"
   ]
  },
  {
   "cell_type": "markdown",
   "id": "075a0c39-9760-4da1-94e4-24a80a2d4a97",
   "metadata": {},
   "source": [
    "9. Write a Python function to check if a given string is a palindrome (reads the same forwards and backwards)."
   ]
  },
  {
   "cell_type": "markdown",
   "id": "cf31ea8e-34f4-4dad-a4ad-63f7f5deb957",
   "metadata": {},
   "source": [
    "Answer:"
   ]
  },
  {
   "cell_type": "code",
   "execution_count": null,
   "id": "1d9273c9-a2d6-4b4a-92ae-0efd95b10462",
   "metadata": {},
   "outputs": [
    {
     "name": "stdout",
     "output_type": "stream",
     "text": [
      "This is not a palindromic text\n"
     ]
    }
   ],
   "source": [
    "def isPalindrome(str):\n",
    "    return str==str[::-1]\n",
    "\n",
    "checkPalindrome = input(\"Enter a text\")\n",
    "\n",
    "if isPalindrome(checkPalindrome):\n",
    "    print(\"This text is a palindrome\")\n",
    "else:\n",
    "    print(\"This is not a palindromic text\")"
   ]
  },
  {
   "cell_type": "markdown",
   "id": "22c166f3-4cce-4d57-b32a-fe49fe50801e",
   "metadata": {},
   "source": [
    "10. Write a Python function to calculate the factorial of a number.\n"
   ]
  },
  {
   "cell_type": "markdown",
   "id": "cf54801d-c15a-44b2-81ce-fb457b309da2",
   "metadata": {},
   "source": [
    "Answer:"
   ]
  },
  {
   "cell_type": "code",
   "execution_count": null,
   "id": "293b5406-291c-4d8e-afe9-7f52a5ff7229",
   "metadata": {},
   "outputs": [
    {
     "name": "stdout",
     "output_type": "stream",
     "text": [
      "479001600\n"
     ]
    }
   ],
   "source": [
    "def factorial(n):\n",
    "    factNum=n\n",
    "    for i in range (1,n):\n",
    "        factNum*=i\n",
    "\n",
    "    return factNum\n",
    "\n",
    "genFactNum = int(input(\"Enter a number and get the factorial\"))\n",
    "print(factorial(genFactNum))"
   ]
  },
  {
   "cell_type": "markdown",
   "id": "75843a47-ae60-425e-8472-4e17f9289c5a",
   "metadata": {},
   "source": [
    "11. Write a Python script that reads a text file, counts the frequency of each word, and prints the top 5 most common words.  \n",
    "    Get the text file, 'data.txt' from Spectrum. \n"
   ]
  },
  {
   "cell_type": "markdown",
   "id": "277a6654-050f-4261-a12c-9b768b305444",
   "metadata": {},
   "source": [
    "Answer:"
   ]
  },
  {
   "cell_type": "code",
   "execution_count": null,
   "id": "f0fabca0-7be4-4e78-a8ee-867b35f546c6",
   "metadata": {},
   "outputs": [],
   "source": [
    "import re\n",
    "from collections import Counter\n",
    "\n",
    "def freqCount(filename):\n",
    "    try:\n",
    "        with open(filename,'r', encoding='utf=8') as file:\n",
    "            text = file.read().lower()\n",
    "            words=re.findall(r'\\w+',text)\n",
    "            word_count=Counter(words)\n",
    "            top5words=word_count.most_common(5)\n",
    "\n",
    "            print(count(text))\n",
    "            print(top5words)\n",
    "    except FileNotFoundError:\n",
    "        print(f\"Error: File '{filename}' not found\" )\n",
    "        return []\n",
    "\n",
    "\n",
    "freqCount(\"data.txt\")"
   ]
  },
  {
   "cell_type": "markdown",
   "id": "e5037146-825a-4418-bee6-d2846796b810",
   "metadata": {},
   "source": [
    "12. Create a Python class representing a bank account with methods for deposit, withdrawal, and checking the balance.  \n",
    "    Have a constructor with default balance as 0."
   ]
  },
  {
   "cell_type": "markdown",
   "id": "70079335-476d-4c19-a57f-7b65615f848c",
   "metadata": {},
   "source": [
    "Answer:"
   ]
  },
  {
   "cell_type": "code",
   "execution_count": null,
   "id": "f57e1fed-aa32-464c-a69b-1789f0928434",
   "metadata": {},
   "outputs": [],
   "source": [
    "class BankAcc:\n",
    "    #constructor\n",
    "    def __init__(self, balance):\n",
    "        self.balance=0\n",
    "\n",
    "    #methods in class\n",
    "    def deposit(self,depoAmt):\n",
    "        self.balance+=depoAmt\n",
    "\n",
    "    def withdraw(self,withdrawAmt):\n",
    "        self.balance-=withdrawAmt\n",
    "        \n",
    "    def checkBalance(self):\n",
    "        print(self.balance)"
   ]
  },
  {
   "cell_type": "markdown",
   "id": "91a1ef3e-a2be-4bc4-a724-aaa3bef11163",
   "metadata": {},
   "source": [
    "13. Write a Python function to perform division with error handling for zero division (when you divide something by zero)."
   ]
  },
  {
   "cell_type": "markdown",
   "id": "b5ba3159-0f12-46cd-b38b-c22431953c24",
   "metadata": {},
   "source": [
    "Answer:"
   ]
  },
  {
   "cell_type": "code",
   "execution_count": 20,
   "id": "809b193d-2787-4d52-94da-c3d5e0fe5235",
   "metadata": {},
   "outputs": [
    {
     "name": "stdout",
     "output_type": "stream",
     "text": [
      "Cannot divide by zero!\n"
     ]
    }
   ],
   "source": [
    "#format a/b\n",
    "def divideFunc(a, b):\n",
    "    try:\n",
    "        result=a/b\n",
    "        return result\n",
    "    except ZeroDivisionError:\n",
    "        print(\"Cannot divide by zero!\")\n",
    "        return None\n",
    "    \n",
    "numA=float(input(\"Enter the Numerator\"))\n",
    "numB=float(input(\"Enter the denominator\"))\n",
    "\n",
    "divideFunc(numA, numB)"
   ]
  }
 ],
 "metadata": {
  "kernelspec": {
   "display_name": "Python 3",
   "language": "python",
   "name": "python3"
  },
  "language_info": {
   "codemirror_mode": {
    "name": "ipython",
    "version": 3
   },
   "file_extension": ".py",
   "mimetype": "text/x-python",
   "name": "python",
   "nbconvert_exporter": "python",
   "pygments_lexer": "ipython3",
   "version": "3.11.4"
  }
 },
 "nbformat": 4,
 "nbformat_minor": 5
}
